{
 "cells": [
  {
   "cell_type": "markdown",
   "metadata": {},
   "source": [
    "The purpose of this notebook is to check that all the scripts/excel files are giving the same results."
   ]
  },
  {
   "cell_type": "code",
   "execution_count": 16,
   "metadata": {},
   "outputs": [],
   "source": [
    "import pandas as pd"
   ]
  },
  {
   "cell_type": "code",
   "execution_count": 17,
   "metadata": {},
   "outputs": [],
   "source": [
    "output_R_directory = \"./example_data/output_R/\"\n",
    "output_Python_directory = \"./example_data/output_Python/\"\n",
    "output_Excel_directory = \"./example_data/output_Excel/\""
   ]
  },
  {
   "cell_type": "markdown",
   "metadata": {},
   "source": [
    "Test the R script matches the Python outputs"
   ]
  },
  {
   "cell_type": "code",
   "execution_count": 18,
   "metadata": {},
   "outputs": [
    {
     "name": "stdout",
     "output_type": "stream",
     "text": [
      "cat_12001\n",
      "\n",
      "cat_33035\n",
      "\n",
      "cat_39001\n",
      "\n",
      "cat_44008\n",
      "\n"
     ]
    }
   ],
   "source": [
    "outputs = (\"cat_12001\",\"cat_33035\",\"cat_39001\",\"cat_44008\")\n",
    "for output in outputs:\n",
    "    print(output)\n",
    "    R_output = pd.read_csv(f\"{output_R_directory}{output}.csv\")\n",
    "    #R_output.rename(columns={\"rankperc\":\"weibell_rank\"}, inplace=True)\n",
    "    Python_output = pd.read_csv(f\"{output_Python_directory}{output}.csv\")\n",
    "    #print(R_output.compare(Python_output))\n",
    "    #Python_output.drop(columns='weibell_rank', inplace=True)\n",
    "    #R_output.drop(columns='weibell_rank', inplace=True)\n",
    "    assert R_output.equals(Python_output)\n",
    "    print()"
   ]
  },
  {
   "cell_type": "code",
   "execution_count": 47,
   "metadata": {},
   "outputs": [
    {
     "name": "stdout",
     "output_type": "stream",
     "text": [
      "cat_12001\n",
      "\n",
      "cat_33035\n",
      "\n",
      "cat_39001\n",
      "\n",
      "cat_44008\n",
      "\n"
     ]
    }
   ],
   "source": [
    "outputs = (\"cat_12001\",\"cat_33035\",\"cat_39001\",\"cat_44008\")\n",
    "for output in outputs:\n",
    "    print(output)\n",
    "    R_output = pd.read_csv(f\"{output_R_directory}{output}.csv\")\n",
    "    R_output.rename(columns={'rankperc':'weibell_rank'}, inplace = True)\n",
    "    Python_output = pd.read_csv(f\"{output_Python_directory}{output}.csv\")\n",
    "    #print(R_output.compare(Python_output))\n",
    "    Python_output.drop(columns='weibell_rank', inplace=True)\n",
    "    R_output.drop(columns='weibell_rank', inplace=True)\n",
    "    #assert R_output.equals(Python_output)\n",
    "    print()"
   ]
  },
  {
   "cell_type": "markdown",
   "metadata": {},
   "source": [
    "Finally test that the R/Python outputs match the excel outputs "
   ]
  },
  {
   "cell_type": "code",
   "execution_count": 42,
   "metadata": {},
   "outputs": [
    {
     "name": "stdout",
     "output_type": "stream",
     "text": [
      "cat_12001\n",
      "cat_39001\n"
     ]
    }
   ],
   "source": [
    "outputs = (\"cat_12001\",\"cat_39001\")\n",
    "encoding = {'Low flow':1,'Below normal':2,'Normal range':3,'Above normal':4,'High flow':5}\n",
    "for output in outputs:\n",
    "    print(output)\n",
    "    R_output = pd.read_csv(f\"{output_R_directory}{output}.csv\")\n",
    "    Excel_output = pd.read_excel(f\"{output_Excel_directory}{output}.xlsx\", sheet_name='Test')\n",
    "    Excel_output.columns = ['date','flowcategory']\n",
    "    for i in Excel_output.index:\n",
    "        Excel_output.loc[i,'flowcat'] = encoding[Excel_output.loc[i,'flowcategory']]\n",
    "    Excel_output['flowcat'] = Excel_output['flowcat'].astype('Int64')\n",
    "    Excel_output.drop(columns='flowcategory', inplace=True)\n",
    "\n"
   ]
  },
  {
   "cell_type": "code",
   "execution_count": 43,
   "metadata": {},
   "outputs": [
    {
     "data": {
      "text/html": [
       "<div>\n",
       "<style scoped>\n",
       "    .dataframe tbody tr th:only-of-type {\n",
       "        vertical-align: middle;\n",
       "    }\n",
       "\n",
       "    .dataframe tbody tr th {\n",
       "        vertical-align: top;\n",
       "    }\n",
       "\n",
       "    .dataframe thead th {\n",
       "        text-align: right;\n",
       "    }\n",
       "</style>\n",
       "<table border=\"1\" class=\"dataframe\">\n",
       "  <thead>\n",
       "    <tr style=\"text-align: right;\">\n",
       "      <th></th>\n",
       "      <th>date</th>\n",
       "      <th>flowcat</th>\n",
       "    </tr>\n",
       "  </thead>\n",
       "  <tbody>\n",
       "    <tr>\n",
       "      <th>0</th>\n",
       "      <td>1965-01-01</td>\n",
       "      <td>2</td>\n",
       "    </tr>\n",
       "    <tr>\n",
       "      <th>1</th>\n",
       "      <td>1965-02-01</td>\n",
       "      <td>1</td>\n",
       "    </tr>\n",
       "    <tr>\n",
       "      <th>2</th>\n",
       "      <td>1965-03-01</td>\n",
       "      <td>2</td>\n",
       "    </tr>\n",
       "    <tr>\n",
       "      <th>3</th>\n",
       "      <td>1965-04-01</td>\n",
       "      <td>2</td>\n",
       "    </tr>\n",
       "    <tr>\n",
       "      <th>4</th>\n",
       "      <td>1965-05-01</td>\n",
       "      <td>2</td>\n",
       "    </tr>\n",
       "    <tr>\n",
       "      <th>...</th>\n",
       "      <td>...</td>\n",
       "      <td>...</td>\n",
       "    </tr>\n",
       "    <tr>\n",
       "      <th>679</th>\n",
       "      <td>2021-08-01</td>\n",
       "      <td>3</td>\n",
       "    </tr>\n",
       "    <tr>\n",
       "      <th>680</th>\n",
       "      <td>2021-09-01</td>\n",
       "      <td>3</td>\n",
       "    </tr>\n",
       "    <tr>\n",
       "      <th>681</th>\n",
       "      <td>2021-10-01</td>\n",
       "      <td>4</td>\n",
       "    </tr>\n",
       "    <tr>\n",
       "      <th>682</th>\n",
       "      <td>2021-11-01</td>\n",
       "      <td>3</td>\n",
       "    </tr>\n",
       "    <tr>\n",
       "      <th>683</th>\n",
       "      <td>2021-12-01</td>\n",
       "      <td>3</td>\n",
       "    </tr>\n",
       "  </tbody>\n",
       "</table>\n",
       "<p>684 rows × 2 columns</p>\n",
       "</div>"
      ],
      "text/plain": [
       "          date  flowcat\n",
       "0   1965-01-01        2\n",
       "1   1965-02-01        1\n",
       "2   1965-03-01        2\n",
       "3   1965-04-01        2\n",
       "4   1965-05-01        2\n",
       "..         ...      ...\n",
       "679 2021-08-01        3\n",
       "680 2021-09-01        3\n",
       "681 2021-10-01        4\n",
       "682 2021-11-01        3\n",
       "683 2021-12-01        3\n",
       "\n",
       "[684 rows x 2 columns]"
      ]
     },
     "execution_count": 43,
     "metadata": {},
     "output_type": "execute_result"
    }
   ],
   "source": [
    "Excel_output"
   ]
  },
  {
   "cell_type": "code",
   "execution_count": 36,
   "metadata": {},
   "outputs": [
    {
     "data": {
      "text/plain": [
       "683"
      ]
     },
     "execution_count": 36,
     "metadata": {},
     "output_type": "execute_result"
    }
   ],
   "source": [
    "i"
   ]
  },
  {
   "cell_type": "code",
   "execution_count": 34,
   "metadata": {},
   "outputs": [
    {
     "data": {
      "text/html": [
       "<div>\n",
       "<style scoped>\n",
       "    .dataframe tbody tr th:only-of-type {\n",
       "        vertical-align: middle;\n",
       "    }\n",
       "\n",
       "    .dataframe tbody tr th {\n",
       "        vertical-align: top;\n",
       "    }\n",
       "\n",
       "    .dataframe thead th {\n",
       "        text-align: right;\n",
       "    }\n",
       "</style>\n",
       "<table border=\"1\" class=\"dataframe\">\n",
       "  <thead>\n",
       "    <tr style=\"text-align: right;\">\n",
       "      <th></th>\n",
       "      <th>date</th>\n",
       "      <th>flowcategory</th>\n",
       "      <th>flowcat</th>\n",
       "    </tr>\n",
       "  </thead>\n",
       "  <tbody>\n",
       "    <tr>\n",
       "      <th>0</th>\n",
       "      <td>1965-01-01</td>\n",
       "      <td>Below normal</td>\n",
       "      <td>3</td>\n",
       "    </tr>\n",
       "    <tr>\n",
       "      <th>1</th>\n",
       "      <td>1965-02-01</td>\n",
       "      <td>Low flow</td>\n",
       "      <td>3</td>\n",
       "    </tr>\n",
       "    <tr>\n",
       "      <th>2</th>\n",
       "      <td>1965-03-01</td>\n",
       "      <td>Below normal</td>\n",
       "      <td>3</td>\n",
       "    </tr>\n",
       "    <tr>\n",
       "      <th>3</th>\n",
       "      <td>1965-04-01</td>\n",
       "      <td>Below normal</td>\n",
       "      <td>3</td>\n",
       "    </tr>\n",
       "    <tr>\n",
       "      <th>4</th>\n",
       "      <td>1965-05-01</td>\n",
       "      <td>Below normal</td>\n",
       "      <td>3</td>\n",
       "    </tr>\n",
       "    <tr>\n",
       "      <th>...</th>\n",
       "      <td>...</td>\n",
       "      <td>...</td>\n",
       "      <td>...</td>\n",
       "    </tr>\n",
       "    <tr>\n",
       "      <th>679</th>\n",
       "      <td>2021-08-01</td>\n",
       "      <td>Normal range</td>\n",
       "      <td>3</td>\n",
       "    </tr>\n",
       "    <tr>\n",
       "      <th>680</th>\n",
       "      <td>2021-09-01</td>\n",
       "      <td>Normal range</td>\n",
       "      <td>3</td>\n",
       "    </tr>\n",
       "    <tr>\n",
       "      <th>681</th>\n",
       "      <td>2021-10-01</td>\n",
       "      <td>Above normal</td>\n",
       "      <td>3</td>\n",
       "    </tr>\n",
       "    <tr>\n",
       "      <th>682</th>\n",
       "      <td>2021-11-01</td>\n",
       "      <td>Normal range</td>\n",
       "      <td>3</td>\n",
       "    </tr>\n",
       "    <tr>\n",
       "      <th>683</th>\n",
       "      <td>2021-12-01</td>\n",
       "      <td>Normal range</td>\n",
       "      <td>3</td>\n",
       "    </tr>\n",
       "  </tbody>\n",
       "</table>\n",
       "<p>684 rows × 3 columns</p>\n",
       "</div>"
      ],
      "text/plain": [
       "          date  flowcategory  flowcat\n",
       "0   1965-01-01  Below normal        3\n",
       "1   1965-02-01      Low flow        3\n",
       "2   1965-03-01  Below normal        3\n",
       "3   1965-04-01  Below normal        3\n",
       "4   1965-05-01  Below normal        3\n",
       "..         ...           ...      ...\n",
       "679 2021-08-01  Normal range        3\n",
       "680 2021-09-01  Normal range        3\n",
       "681 2021-10-01  Above normal        3\n",
       "682 2021-11-01  Normal range        3\n",
       "683 2021-12-01  Normal range        3\n",
       "\n",
       "[684 rows x 3 columns]"
      ]
     },
     "execution_count": 34,
     "metadata": {},
     "output_type": "execute_result"
    }
   ],
   "source": [
    "Excel_output"
   ]
  },
  {
   "cell_type": "code",
   "execution_count": 32,
   "metadata": {},
   "outputs": [
    {
     "data": {
      "text/plain": [
       "{'Low flow': 1,\n",
       " 'Below normal': 2,\n",
       " 'Normal range': 3,\n",
       " 'Above normal': 4,\n",
       " 'High flow': 5}"
      ]
     },
     "execution_count": 32,
     "metadata": {},
     "output_type": "execute_result"
    }
   ],
   "source": []
  }
 ],
 "metadata": {
  "kernelspec": {
   "display_name": "Python 3",
   "language": "python",
   "name": "python3"
  },
  "language_info": {
   "codemirror_mode": {
    "name": "ipython",
    "version": 3
   },
   "file_extension": ".py",
   "mimetype": "text/x-python",
   "name": "python",
   "nbconvert_exporter": "python",
   "pygments_lexer": "ipython3",
   "version": "3.9.18"
  }
 },
 "nbformat": 4,
 "nbformat_minor": 2
}
