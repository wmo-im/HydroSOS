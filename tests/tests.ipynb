{
 "cells": [
  {
   "cell_type": "markdown",
   "metadata": {},
   "source": [
    "The purpose of this notebook is to check that all the scripts/excel files are giving the same results."
   ]
  },
  {
   "cell_type": "code",
   "execution_count": 44,
   "metadata": {},
   "outputs": [],
   "source": [
    "import pandas as pd\n",
    "import numpy as np"
   ]
  },
  {
   "cell_type": "code",
   "execution_count": 29,
   "metadata": {},
   "outputs": [],
   "source": [
    "output_R_directory = \"./example_data/output_R/\"\n",
    "output_Python_directory = \"./example_data/output_Python/\"\n",
    "output_Excel_directory = \"./example_data/output_Excel/\""
   ]
  },
  {
   "cell_type": "markdown",
   "metadata": {},
   "source": [
    "Test the R script matches the Python outputs"
   ]
  },
  {
   "cell_type": "code",
   "execution_count": 30,
   "metadata": {},
   "outputs": [
    {
     "name": "stdout",
     "output_type": "stream",
     "text": [
      "cat_12001\n",
      "\n",
      "cat_33035\n",
      "\n",
      "cat_39001\n",
      "\n",
      "cat_44008\n",
      "\n"
     ]
    }
   ],
   "source": [
    "outputs = (\"cat_12001\",\"cat_33035\",\"cat_39001\",\"cat_44008\")\n",
    "for output in outputs:\n",
    "    print(output)\n",
    "    R_output = pd.read_csv(f\"{output_R_directory}{output}.csv\")\n",
    "    #R_output.rename(columns={\"rankperc\":\"weibell_rank\"}, inplace=True)\n",
    "    Python_output = pd.read_csv(f\"{output_Python_directory}{output}.csv\")\n",
    "    #print(R_output.compare(Python_output))\n",
    "    #Python_output.drop(columns='weibell_rank', inplace=True)\n",
    "    #R_output.drop(columns='weibell_rank', inplace=True)\n",
    "    assert R_output.equals(Python_output)\n",
    "    print()"
   ]
  },
  {
   "cell_type": "markdown",
   "metadata": {},
   "source": [
    "Finally test that the R/Python outputs match the excel outputs "
   ]
  },
  {
   "cell_type": "code",
   "execution_count": 47,
   "metadata": {},
   "outputs": [
    {
     "name": "stdout",
     "output_type": "stream",
     "text": [
      "cat_39001_exceltest\n",
      "Empty DataFrame\n",
      "Columns: [self, other]\n",
      "Index: []\n",
      "cat_12001_exceltest\n",
      "Empty DataFrame\n",
      "Columns: [self, other]\n",
      "Index: []\n",
      "cat_44008_exceltest\n",
      "Empty DataFrame\n",
      "Columns: [self, other]\n",
      "Index: []\n"
     ]
    }
   ],
   "source": [
    "outputs = [\"cat_39001_exceltest\", \"cat_12001_exceltest\",\"cat_44008_exceltest\"]\n",
    "encoding = {'Low flow':1,'Below normal':2,'Normal range':3,'Above normal':4,'High flow':5,np.nan:pd.NA}\n",
    "for output in outputs:\n",
    "    print(output)\n",
    "    R_output = pd.read_csv(f\"{output_Python_directory}{output}.csv\")\n",
    "    R_output['date'] = pd.to_datetime(R_output['date'])\n",
    "    Excel_output = pd.read_excel(f\"{output_Excel_directory}{output}.xlsx\", sheet_name='Test')\n",
    "    Excel_output.columns = ['date','flowcategory']\n",
    "    for i in Excel_output.index:\n",
    "        Excel_output.loc[i,'flowcat'] = encoding[Excel_output.loc[i,'flowcategory']]\n",
    "    Excel_output['flowcat'] = Excel_output['flowcat'].astype('Int64')\n",
    "    Excel_output.drop(columns='flowcategory', inplace=True)\n",
    "    Excel_output.rename(columns={'flowcat':'flowcat_excel'}, inplace=True)\n",
    "    R_output.rename(columns={'flowcat':'flowcat_R'}, inplace=True)\n",
    "    mergedData = R_output.merge(Excel_output, left_on='date', right_on='date')\n",
    "    print(mergedData['flowcat_R'].compare(mergedData['flowcat_excel']))\n"
   ]
  }
 ],
 "metadata": {
  "kernelspec": {
   "display_name": "Python 3",
   "language": "python",
   "name": "python3"
  },
  "language_info": {
   "codemirror_mode": {
    "name": "ipython",
    "version": 3
   },
   "file_extension": ".py",
   "mimetype": "text/x-python",
   "name": "python",
   "nbconvert_exporter": "python",
   "pygments_lexer": "ipython3",
   "version": "3.9.18"
  }
 },
 "nbformat": 4,
 "nbformat_minor": 2
}
