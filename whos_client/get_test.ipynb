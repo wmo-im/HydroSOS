{
 "cells": [
  {
   "cell_type": "code",
   "execution_count": 3,
   "metadata": {},
   "outputs": [],
   "source": [
    "from om_ogc_timeseries_client import OmOgcTimeseriesClient\n",
    "import pandas\n",
    "import plotly.express as px\n",
    "import logging\n",
    "\n",
    "logger = logging.getLogger(__name__)\n",
    "logging.basicConfig(level=logging.DEBUG)"
   ]
  },
  {
   "cell_type": "markdown",
   "metadata": {},
   "source": [
    "Instantiate client"
   ]
  },
  {
   "cell_type": "code",
   "execution_count": 4,
   "metadata": {},
   "outputs": [],
   "source": [
    "client = OmOgcTimeseriesClient({\"token\":\"whos-36e7d1a3-b61e-4ae0-aca4-60efe6f27361\"})"
   ]
  },
  {
   "cell_type": "markdown",
   "metadata": {},
   "source": [
    "retrieve timeseries using site and variable ids"
   ]
  },
  {
   "cell_type": "code",
   "execution_count": 24,
   "metadata": {},
   "outputs": [
    {
     "name": "stderr",
     "output_type": "stream",
     "text": [
      "DEBUG:root:url: https://gs-service-preproduction.geodab.eu/gs-service/services/essi/token/whos-36e7d1a3-b61e-4ae0-aca4-60efe6f27361/view/whos-plata/om-api/observations\n",
      "DEBUG:urllib3.connectionpool:Starting new HTTPS connection (1): gs-service-preproduction.geodab.eu:443\n",
      "DEBUG:urllib3.connectionpool:https://gs-service-preproduction.geodab.eu:443 \"GET /gs-service/services/essi/token/whos-36e7d1a3-b61e-4ae0-aca4-60efe6f27361/view/whos-plata/om-api/observations?feature=FAAC49BA633EFF325BE5D2BA81BE14574A268ABA&observedProperty=Discharge&aggregationDuration=P1M&useCache=False&limit=1000 HTTP/1.1\" 200 None\n"
     ]
    }
   ],
   "source": [
    "\n",
    "ts_metadata = client.getTimeseries(\n",
    "    feature=\"FAAC49BA633EFF325BE5D2BA81BE14574A268ABA\",\n",
    "    observedProperty=\"Discharge\",\n",
    "    aggregationDuration=\"P1M\")"
   ]
  },
  {
   "cell_type": "markdown",
   "metadata": {},
   "source": [
    "Inspect metadata"
   ]
  },
  {
   "cell_type": "code",
   "execution_count": 25,
   "metadata": {},
   "outputs": [
    {
     "data": {
      "text/plain": [
       "3"
      ]
     },
     "execution_count": 25,
     "metadata": {},
     "output_type": "execute_result"
    }
   ],
   "source": [
    "len(ts_metadata[\"member\"])"
   ]
  },
  {
   "cell_type": "markdown",
   "metadata": {},
   "source": [
    "Select observation identifier"
   ]
  },
  {
   "cell_type": "code",
   "execution_count": 26,
   "metadata": {},
   "outputs": [],
   "source": [
    "observationIdentifier = ts_metadata[\"member\"][0][\"id\"]"
   ]
  },
  {
   "cell_type": "code",
   "execution_count": 31,
   "metadata": {},
   "outputs": [
    {
     "data": {
      "text/plain": [
       "'18EB307E3D1C45D3A2842D710A41001AB5083041'"
      ]
     },
     "execution_count": 31,
     "metadata": {},
     "output_type": "execute_result"
    }
   ],
   "source": [
    "observationIdentifier"
   ]
  },
  {
   "cell_type": "markdown",
   "metadata": {},
   "source": [
    "retrieve data"
   ]
  },
  {
   "cell_type": "code",
   "execution_count": 27,
   "metadata": {},
   "outputs": [
    {
     "name": "stderr",
     "output_type": "stream",
     "text": [
      "DEBUG:root:url: https://gs-service-preproduction.geodab.eu/gs-service/services/essi/token/whos-36e7d1a3-b61e-4ae0-aca4-60efe6f27361/view/whos-plata/om-api/observations\n",
      "DEBUG:urllib3.connectionpool:Starting new HTTPS connection (1): gs-service-preproduction.geodab.eu:443\n",
      "DEBUG:urllib3.connectionpool:https://gs-service-preproduction.geodab.eu:443 \"GET /gs-service/services/essi/token/whos-36e7d1a3-b61e-4ae0-aca4-60efe6f27361/view/whos-plata/om-api/observations?observationIdentifier=18EB307E3D1C45D3A2842D710A41001AB5083041&useCache=False&limit=1000 HTTP/1.1\" 200 None\n",
      "DEBUG:root:url: https://gs-service-preproduction.geodab.eu/gs-service/services/essi/token/whos-36e7d1a3-b61e-4ae0-aca4-60efe6f27361/view/whos-plata/om-api/observations\n",
      "DEBUG:urllib3.connectionpool:Starting new HTTPS connection (1): gs-service-preproduction.geodab.eu:443\n",
      "DEBUG:urllib3.connectionpool:https://gs-service-preproduction.geodab.eu:443 \"GET /gs-service/services/essi/token/whos-36e7d1a3-b61e-4ae0-aca4-60efe6f27361/view/whos-plata/om-api/observations?observationIdentifier=18EB307E3D1C45D3A2842D710A41001AB5083041&beginPosition=1990-01-01&endPosition=2025-05-01&includeData=True&useCache=False&limit=1000 HTTP/1.1\" 200 None\n"
     ]
    }
   ],
   "source": [
    "\n",
    "data = client.getData(\n",
    "    \"1990-01-01\", \n",
    "    \"2025-05-01\",\n",
    "    observationIdentifier = observationIdentifier)"
   ]
  },
  {
   "cell_type": "markdown",
   "metadata": {},
   "source": [
    "convert to dataframe and plot"
   ]
  },
  {
   "cell_type": "code",
   "execution_count": 29,
   "metadata": {},
   "outputs": [
    {
     "data": {
      "application/vnd.plotly.v1+json": {
       "config": {
        "plotlyServerURL": "https://plot.ly"
       },
       "data": [
        {
         "hovertemplate": "date=%{x}<br>value=%{y}<extra></extra>",
         "legendgroup": "",
         "line": {
          "color": "#636efa",
          "dash": "solid"
         },
         "marker": {
          "symbol": "circle"
         },
         "mode": "lines",
         "name": "",
         "orientation": "v",
         "showlegend": false,
         "type": "scatter",
         "x": [
          "1994-07-01T03:00:00.000000000",
          "1994-08-01T03:00:00.000000000",
          "1994-09-01T03:00:00.000000000",
          "1994-10-01T03:00:00.000000000",
          "1994-11-01T03:00:00.000000000",
          "1994-12-01T03:00:00.000000000",
          "1995-01-01T03:00:00.000000000",
          "1995-02-01T03:00:00.000000000",
          "1995-03-01T03:00:00.000000000",
          "1995-04-01T03:00:00.000000000",
          "1995-05-01T03:00:00.000000000",
          "1995-06-01T03:00:00.000000000",
          "1995-07-01T03:00:00.000000000",
          "1995-08-01T03:00:00.000000000",
          "1995-09-01T03:00:00.000000000",
          "1995-10-01T03:00:00.000000000",
          "1995-11-01T03:00:00.000000000",
          "1995-12-01T03:00:00.000000000",
          "1996-01-01T03:00:00.000000000",
          "1996-02-01T03:00:00.000000000",
          "1996-03-01T03:00:00.000000000",
          "1996-04-01T03:00:00.000000000",
          "1996-05-01T03:00:00.000000000",
          "1996-06-01T03:00:00.000000000",
          "1996-07-01T03:00:00.000000000",
          "1996-08-01T03:00:00.000000000",
          "1996-09-01T03:00:00.000000000",
          "1996-10-01T03:00:00.000000000",
          "1996-11-01T03:00:00.000000000",
          "1996-12-01T03:00:00.000000000",
          "1997-01-01T03:00:00.000000000",
          "1997-02-01T03:00:00.000000000",
          "1997-03-01T03:00:00.000000000",
          "1997-04-01T03:00:00.000000000",
          "1997-05-01T03:00:00.000000000",
          "1997-06-01T03:00:00.000000000",
          "1997-07-01T03:00:00.000000000",
          "1997-08-01T03:00:00.000000000",
          "1997-09-01T03:00:00.000000000",
          "1997-10-01T03:00:00.000000000",
          "1997-11-01T03:00:00.000000000",
          "1997-12-01T03:00:00.000000000",
          "1998-01-01T03:00:00.000000000",
          "1998-02-01T03:00:00.000000000",
          "1998-03-01T03:00:00.000000000",
          "1998-04-01T03:00:00.000000000",
          "1998-05-01T03:00:00.000000000",
          "1998-06-01T03:00:00.000000000",
          "1998-07-01T03:00:00.000000000",
          "1998-08-01T03:00:00.000000000",
          "1998-09-01T03:00:00.000000000",
          "1998-10-01T03:00:00.000000000",
          "1998-11-01T03:00:00.000000000",
          "1998-12-01T03:00:00.000000000",
          "1999-01-01T03:00:00.000000000",
          "1999-02-01T03:00:00.000000000",
          "1999-03-01T03:00:00.000000000",
          "1999-04-01T03:00:00.000000000",
          "1999-05-01T03:00:00.000000000",
          "1999-06-01T03:00:00.000000000",
          "1999-07-01T03:00:00.000000000",
          "1999-08-01T03:00:00.000000000",
          "1999-09-01T03:00:00.000000000",
          "1999-10-01T03:00:00.000000000",
          "1999-11-01T03:00:00.000000000",
          "2000-01-01T03:00:00.000000000",
          "2000-02-01T03:00:00.000000000",
          "2000-03-01T03:00:00.000000000",
          "2000-04-01T03:00:00.000000000",
          "2000-05-01T03:00:00.000000000",
          "2000-06-01T03:00:00.000000000",
          "2000-07-01T03:00:00.000000000",
          "2000-08-01T03:00:00.000000000",
          "2000-09-01T03:00:00.000000000",
          "2000-10-01T03:00:00.000000000",
          "2000-11-01T03:00:00.000000000",
          "2000-12-01T03:00:00.000000000",
          "2001-01-01T03:00:00.000000000",
          "2001-02-01T03:00:00.000000000",
          "2001-03-01T03:00:00.000000000",
          "2001-04-01T03:00:00.000000000",
          "2001-05-01T03:00:00.000000000",
          "2001-06-01T03:00:00.000000000",
          "2001-07-01T03:00:00.000000000",
          "2001-08-01T03:00:00.000000000",
          "2001-09-01T03:00:00.000000000",
          "2001-10-01T03:00:00.000000000",
          "2001-11-01T03:00:00.000000000",
          "2001-12-01T03:00:00.000000000",
          "2002-01-01T03:00:00.000000000",
          "2002-02-01T03:00:00.000000000",
          "2002-03-01T03:00:00.000000000",
          "2002-04-01T03:00:00.000000000",
          "2002-05-01T03:00:00.000000000",
          "2002-06-01T03:00:00.000000000",
          "2002-07-01T03:00:00.000000000",
          "2002-08-01T03:00:00.000000000",
          "2002-09-01T03:00:00.000000000",
          "2002-10-01T03:00:00.000000000",
          "2002-11-01T03:00:00.000000000",
          "2002-12-01T03:00:00.000000000",
          "2003-01-01T03:00:00.000000000",
          "2003-02-01T03:00:00.000000000",
          "2003-03-01T03:00:00.000000000",
          "2003-04-01T03:00:00.000000000",
          "2003-05-01T03:00:00.000000000",
          "2003-06-01T03:00:00.000000000",
          "2003-07-01T03:00:00.000000000",
          "2003-08-01T03:00:00.000000000",
          "2003-09-01T03:00:00.000000000",
          "2003-10-01T03:00:00.000000000",
          "2003-11-01T03:00:00.000000000",
          "2003-12-01T03:00:00.000000000",
          "2004-01-01T03:00:00.000000000",
          "2004-02-01T03:00:00.000000000",
          "2004-03-01T03:00:00.000000000",
          "2004-04-01T03:00:00.000000000",
          "2004-05-01T03:00:00.000000000",
          "2004-06-01T03:00:00.000000000",
          "2004-07-01T03:00:00.000000000",
          "2004-08-01T03:00:00.000000000",
          "2004-09-01T03:00:00.000000000",
          "2004-10-01T03:00:00.000000000",
          "2004-11-01T03:00:00.000000000",
          "2004-12-01T03:00:00.000000000",
          "2005-01-01T03:00:00.000000000",
          "2005-02-01T03:00:00.000000000",
          "2005-03-01T03:00:00.000000000",
          "2005-04-01T03:00:00.000000000",
          "2005-05-01T03:00:00.000000000",
          "2005-06-01T03:00:00.000000000",
          "2005-07-01T03:00:00.000000000",
          "2005-08-01T03:00:00.000000000",
          "2005-09-01T03:00:00.000000000",
          "2005-10-01T03:00:00.000000000",
          "2005-11-01T03:00:00.000000000",
          "2005-12-01T03:00:00.000000000",
          "2006-01-01T03:00:00.000000000",
          "2006-02-01T03:00:00.000000000",
          "2006-03-01T03:00:00.000000000",
          "2006-04-01T03:00:00.000000000",
          "2006-05-01T03:00:00.000000000",
          "2006-06-01T03:00:00.000000000",
          "2006-07-01T03:00:00.000000000",
          "2006-08-01T03:00:00.000000000",
          "2006-09-01T03:00:00.000000000",
          "2006-10-01T03:00:00.000000000",
          "2006-11-01T03:00:00.000000000",
          "2006-12-01T03:00:00.000000000",
          "2007-01-01T03:00:00.000000000",
          "2007-02-01T03:00:00.000000000",
          "2007-03-01T03:00:00.000000000",
          "2007-04-01T03:00:00.000000000",
          "2007-05-01T03:00:00.000000000",
          "2007-06-01T03:00:00.000000000",
          "2007-07-01T03:00:00.000000000",
          "2007-08-01T03:00:00.000000000",
          "2007-09-01T03:00:00.000000000",
          "2007-10-01T03:00:00.000000000",
          "2007-11-01T03:00:00.000000000",
          "2007-12-01T03:00:00.000000000",
          "2008-01-01T02:00:00.000000000",
          "2008-02-01T02:00:00.000000000",
          "2008-03-01T02:00:00.000000000",
          "2008-04-01T03:00:00.000000000",
          "2008-05-01T03:00:00.000000000",
          "2008-06-01T03:00:00.000000000",
          "2008-07-01T03:00:00.000000000",
          "2008-08-01T03:00:00.000000000",
          "2008-09-01T03:00:00.000000000",
          "2008-10-01T03:00:00.000000000",
          "2008-11-01T02:00:00.000000000",
          "2008-12-01T02:00:00.000000000",
          "2009-01-01T02:00:00.000000000",
          "2009-02-01T02:00:00.000000000",
          "2009-03-01T02:00:00.000000000",
          "2009-04-01T03:00:00.000000000",
          "2009-05-01T03:00:00.000000000",
          "2009-06-01T03:00:00.000000000",
          "2009-07-01T03:00:00.000000000",
          "2009-08-01T03:00:00.000000000",
          "2009-09-01T03:00:00.000000000",
          "2009-10-01T03:00:00.000000000",
          "2009-11-01T03:00:00.000000000",
          "2009-12-01T03:00:00.000000000",
          "2010-01-01T03:00:00.000000000",
          "2010-02-01T03:00:00.000000000",
          "2010-03-01T03:00:00.000000000",
          "2010-04-01T03:00:00.000000000",
          "2010-05-01T03:00:00.000000000",
          "2010-06-01T03:00:00.000000000",
          "2010-07-01T03:00:00.000000000",
          "2010-08-01T03:00:00.000000000",
          "2010-09-01T03:00:00.000000000",
          "2010-10-01T03:00:00.000000000",
          "2010-11-01T03:00:00.000000000",
          "2010-12-01T03:00:00.000000000",
          "2011-01-01T03:00:00.000000000",
          "2011-02-01T03:00:00.000000000",
          "2011-03-01T03:00:00.000000000",
          "2011-04-01T03:00:00.000000000",
          "2011-05-01T03:00:00.000000000",
          "2011-06-01T03:00:00.000000000",
          "2011-07-01T03:00:00.000000000",
          "2011-08-01T03:00:00.000000000",
          "2011-09-01T03:00:00.000000000",
          "2011-10-01T03:00:00.000000000",
          "2011-11-01T03:00:00.000000000",
          "2011-12-01T03:00:00.000000000",
          "2012-01-01T03:00:00.000000000",
          "2012-02-01T03:00:00.000000000",
          "2012-03-01T03:00:00.000000000",
          "2012-04-01T03:00:00.000000000",
          "2012-05-01T03:00:00.000000000",
          "2012-06-01T03:00:00.000000000",
          "2012-07-01T03:00:00.000000000",
          "2012-08-01T03:00:00.000000000",
          "2012-09-01T03:00:00.000000000",
          "2012-10-01T03:00:00.000000000",
          "2012-11-01T03:00:00.000000000",
          "2012-12-01T03:00:00.000000000",
          "2013-01-01T03:00:00.000000000",
          "2013-02-01T03:00:00.000000000",
          "2013-03-01T03:00:00.000000000",
          "2013-04-01T03:00:00.000000000",
          "2013-05-01T03:00:00.000000000",
          "2013-06-01T03:00:00.000000000",
          "2013-07-01T03:00:00.000000000",
          "2013-08-01T03:00:00.000000000",
          "2013-09-01T03:00:00.000000000",
          "2013-10-01T03:00:00.000000000",
          "2013-11-01T03:00:00.000000000",
          "2013-12-01T03:00:00.000000000",
          "2014-01-01T03:00:00.000000000",
          "2014-02-01T03:00:00.000000000",
          "2014-03-01T03:00:00.000000000",
          "2014-04-01T03:00:00.000000000",
          "2014-05-01T03:00:00.000000000",
          "2014-06-01T03:00:00.000000000",
          "2014-07-01T03:00:00.000000000",
          "2014-08-01T03:00:00.000000000",
          "2014-09-01T03:00:00.000000000",
          "2014-10-01T03:00:00.000000000",
          "2014-11-01T03:00:00.000000000",
          "2014-12-01T03:00:00.000000000",
          "2015-01-01T03:00:00.000000000",
          "2015-02-01T03:00:00.000000000",
          "2015-03-01T03:00:00.000000000",
          "2015-04-01T03:00:00.000000000",
          "2015-05-01T03:00:00.000000000",
          "2015-06-01T03:00:00.000000000",
          "2015-07-01T03:00:00.000000000",
          "2015-08-01T03:00:00.000000000",
          "2015-09-01T03:00:00.000000000",
          "2015-10-01T03:00:00.000000000",
          "2015-11-01T03:00:00.000000000",
          "2015-12-01T03:00:00.000000000",
          "2016-01-01T03:00:00.000000000",
          "2016-02-01T03:00:00.000000000",
          "2016-03-01T03:00:00.000000000",
          "2016-04-01T03:00:00.000000000",
          "2016-05-01T03:00:00.000000000",
          "2016-06-01T03:00:00.000000000",
          "2016-07-01T03:00:00.000000000",
          "2016-08-01T03:00:00.000000000",
          "2016-09-01T03:00:00.000000000",
          "2016-10-01T03:00:00.000000000",
          "2016-11-01T03:00:00.000000000",
          "2016-12-01T03:00:00.000000000",
          "2017-01-01T03:00:00.000000000",
          "2017-02-01T03:00:00.000000000",
          "2017-03-01T03:00:00.000000000",
          "2017-04-01T03:00:00.000000000",
          "2017-05-01T03:00:00.000000000",
          "2017-06-01T03:00:00.000000000",
          "2017-07-01T03:00:00.000000000",
          "2017-08-01T03:00:00.000000000",
          "2017-09-01T03:00:00.000000000",
          "2017-10-01T03:00:00.000000000",
          "2017-11-01T03:00:00.000000000",
          "2017-12-01T03:00:00.000000000",
          "2018-01-01T03:00:00.000000000",
          "2018-02-01T03:00:00.000000000",
          "2018-03-01T03:00:00.000000000",
          "2018-04-01T03:00:00.000000000",
          "2018-05-01T03:00:00.000000000",
          "2018-06-01T03:00:00.000000000",
          "2018-07-01T03:00:00.000000000",
          "2018-08-01T03:00:00.000000000",
          "2018-09-01T03:00:00.000000000",
          "2018-10-01T03:00:00.000000000",
          "2018-11-01T03:00:00.000000000",
          "2018-12-01T03:00:00.000000000",
          "2019-01-01T03:00:00.000000000",
          "2019-02-01T03:00:00.000000000",
          "2019-03-01T03:00:00.000000000",
          "2019-04-01T03:00:00.000000000",
          "2019-05-01T03:00:00.000000000",
          "2019-06-01T03:00:00.000000000",
          "2019-07-01T03:00:00.000000000",
          "2019-08-01T03:00:00.000000000",
          "2019-09-01T03:00:00.000000000",
          "2019-10-01T03:00:00.000000000",
          "2019-11-01T03:00:00.000000000",
          "2019-12-01T03:00:00.000000000",
          "2020-01-01T03:00:00.000000000",
          "2020-02-01T03:00:00.000000000",
          "2020-03-01T03:00:00.000000000",
          "2020-04-01T03:00:00.000000000",
          "2020-05-01T03:00:00.000000000",
          "2020-06-01T03:00:00.000000000",
          "2020-07-01T03:00:00.000000000",
          "2020-08-01T03:00:00.000000000",
          "2020-09-01T03:00:00.000000000",
          "2020-10-01T03:00:00.000000000",
          "2020-11-01T03:00:00.000000000",
          "2020-12-01T03:00:00.000000000",
          "2021-01-01T03:00:00.000000000",
          "2021-02-01T03:00:00.000000000",
          "2021-03-01T03:00:00.000000000",
          "2021-04-01T03:00:00.000000000",
          "2021-05-01T03:00:00.000000000",
          "2021-06-01T03:00:00.000000000",
          "2021-07-01T03:00:00.000000000",
          "2021-08-01T03:00:00.000000000",
          "2021-09-01T03:00:00.000000000",
          "2021-10-01T03:00:00.000000000",
          "2021-11-01T03:00:00.000000000",
          "2021-12-01T03:00:00.000000000",
          "2022-01-01T03:00:00.000000000",
          "2022-02-01T03:00:00.000000000",
          "2022-03-01T03:00:00.000000000",
          "2022-04-01T03:00:00.000000000",
          "2022-05-01T03:00:00.000000000",
          "2022-06-01T03:00:00.000000000",
          "2022-07-01T03:00:00.000000000",
          "2022-08-01T03:00:00.000000000",
          "2022-09-01T03:00:00.000000000",
          "2022-10-01T03:00:00.000000000"
         ],
         "xaxis": "x",
         "y": {
          "bdata": "KDwAAMQ7AADYQAAAcEkAAMRUAAC8NAAAsIEAACxlAABYZgAAik0AAKZAAAAsMwAArD8AANovAAC4PQAAsE8AAGw5AAA4MQAAsE8AALBPAAA0UwAASFgAAAwwAAC8NAAAbDkAAAwwAABMNgAAmGwAACxMAAD4XAAAlHUAADiVAADAVAAA1DAAABw+AACIXgAAkEwAAPhcAABcRAAAMHUAAIRnAADQUgAAeFAAABhgAAB8YAAAZJYAABiSAAAEQgAAVT8AAOVrAADUYgAARHoAAHRZAABMNgAA0FIAAIROAADsRQAAREgAAIA+AAAsTAAAFFAAAIQ1AAB4NwAAFDcAAAAyAABkMgAAFDcAALA2AAAgNQAAhDUAALA2AACwNgAA3DcAAFRWAABoWwAAPEEAAJg6AABoQgAAcGIAAIBXAABgOwAAbDkAAAg5AABwMAAARC8AAJQqAAB8RwAAIDUAANw3AABgVAAAYFQAAPRMAAD8OgAAHFcAAIw8AAA4MQAA0DkAAGw5AAAoPAAAmDoAAGBUAABgOwAA8FUAAHhQAAA0OgAAmDoAACA1AABELwAA1DAAAAAyAAB4NwAAQDgAALhWAAA0OgAAyDIAAJAzAAAUNwAAZEsAAABLAAB8RwAAbDkAAHAwAAAsTAAA0FIAAPw6AAA8WgAA+FwAALw0AADQOQAANDoAAHBJAABAOAAAODEAAPw6AAAYYAAAnGMAAPhDAAA0OgAAsDYAALRGAADwPAAALDMAACA1AABYNAAAODEAADQ6AAC4PQAA/DoAAPRMAADgYAAARGEAADhjAACsWAAAnGMAAMQ7AAB4NwAA8DwAAFg0AADcNwAAREgAAGA7AABAOAAAIDUAAIQ1AAAYRwAAaEIAAPw6AABYNAAAtEYAAPQzAACoSAAAnEoAAKBBAACwNgAAbDkAALg9AABYNAAAhDUAAJAzAABIPwAAwEQAAChVAAA0hQAASFgAAGRkAAAobgAAgHAAABxXAAC4bwAAOGMAABBAAAB0QAAAvDQAALA2AADARAAAFDcAAKBaAABQRgAARGEAAJBlAAA8WgAAjDwAAOg1AAA4SgAAUF8AAABLAAB8RwAAtEYAAJg6AAB0QAAAaEIAAFg0AACENQAAsDYAALRfAADUSQAAHD4AAOg1AABUPQAAzEIAAHxHAADARAAABEIAAAhSAADgRwAAaEIAAMiWAADcggAA5D4AALA2AAD4QwAAYDsAABw+AADkPgAASD8AAPA8AACcSgAAmFMAACyXAADIZAAAgD4AAHRZAACEZwAA0DkAAGA7AAB4UAAACDkAACg8AABwMAAAkDMAALw0AAB4aQAA0DkAAMgyAAB0QAAAdHIAABSCAABodAAA5HAAABh5AACIRQAAzEIAAPBVAADwPAAAqEgAAEg/AABIPwAABEIAAHRAAACkOAAABEIAAMxCAABgVAAAsE8AAPBVAAAgNQAATDYAALA2AAA0UwAAdFkAAIhFAAA0bAAAoEEAAHxHAABQRgAAyDIAAFwrAAAAMgAALDMAAPQzAAC0RgAAsE8AAJg6AADwPAAAyDIAABBAAADoNQAAHD4AABQ3AABELwAA2CcAABguAAAwKgAA7CwAAHwuAAD0MwAALDMAAFAtAACwHQAAtC0AAIwjAACoLwAAUC0AALQtAADsLAAASCYAAFwrAAAQQAAAZEsAADAqAABgIgAAMCoAACwaAACwHQAATB0AAOQlAACcMQAAwCsAABwlAABUJAAATB0AAMwpAABsOQAACDkAABBAAACAJQAAtC0AAKQ4AAC4VgAA",
          "dtype": "i4"
         },
         "yaxis": "y"
        }
       ],
       "layout": {
        "legend": {
         "tracegroupgap": 0
        },
        "margin": {
         "t": 60
        },
        "template": {
         "data": {
          "bar": [
           {
            "error_x": {
             "color": "#2a3f5f"
            },
            "error_y": {
             "color": "#2a3f5f"
            },
            "marker": {
             "line": {
              "color": "#E5ECF6",
              "width": 0.5
             },
             "pattern": {
              "fillmode": "overlay",
              "size": 10,
              "solidity": 0.2
             }
            },
            "type": "bar"
           }
          ],
          "barpolar": [
           {
            "marker": {
             "line": {
              "color": "#E5ECF6",
              "width": 0.5
             },
             "pattern": {
              "fillmode": "overlay",
              "size": 10,
              "solidity": 0.2
             }
            },
            "type": "barpolar"
           }
          ],
          "carpet": [
           {
            "aaxis": {
             "endlinecolor": "#2a3f5f",
             "gridcolor": "white",
             "linecolor": "white",
             "minorgridcolor": "white",
             "startlinecolor": "#2a3f5f"
            },
            "baxis": {
             "endlinecolor": "#2a3f5f",
             "gridcolor": "white",
             "linecolor": "white",
             "minorgridcolor": "white",
             "startlinecolor": "#2a3f5f"
            },
            "type": "carpet"
           }
          ],
          "choropleth": [
           {
            "colorbar": {
             "outlinewidth": 0,
             "ticks": ""
            },
            "type": "choropleth"
           }
          ],
          "contour": [
           {
            "colorbar": {
             "outlinewidth": 0,
             "ticks": ""
            },
            "colorscale": [
             [
              0,
              "#0d0887"
             ],
             [
              0.1111111111111111,
              "#46039f"
             ],
             [
              0.2222222222222222,
              "#7201a8"
             ],
             [
              0.3333333333333333,
              "#9c179e"
             ],
             [
              0.4444444444444444,
              "#bd3786"
             ],
             [
              0.5555555555555556,
              "#d8576b"
             ],
             [
              0.6666666666666666,
              "#ed7953"
             ],
             [
              0.7777777777777778,
              "#fb9f3a"
             ],
             [
              0.8888888888888888,
              "#fdca26"
             ],
             [
              1,
              "#f0f921"
             ]
            ],
            "type": "contour"
           }
          ],
          "contourcarpet": [
           {
            "colorbar": {
             "outlinewidth": 0,
             "ticks": ""
            },
            "type": "contourcarpet"
           }
          ],
          "heatmap": [
           {
            "colorbar": {
             "outlinewidth": 0,
             "ticks": ""
            },
            "colorscale": [
             [
              0,
              "#0d0887"
             ],
             [
              0.1111111111111111,
              "#46039f"
             ],
             [
              0.2222222222222222,
              "#7201a8"
             ],
             [
              0.3333333333333333,
              "#9c179e"
             ],
             [
              0.4444444444444444,
              "#bd3786"
             ],
             [
              0.5555555555555556,
              "#d8576b"
             ],
             [
              0.6666666666666666,
              "#ed7953"
             ],
             [
              0.7777777777777778,
              "#fb9f3a"
             ],
             [
              0.8888888888888888,
              "#fdca26"
             ],
             [
              1,
              "#f0f921"
             ]
            ],
            "type": "heatmap"
           }
          ],
          "histogram": [
           {
            "marker": {
             "pattern": {
              "fillmode": "overlay",
              "size": 10,
              "solidity": 0.2
             }
            },
            "type": "histogram"
           }
          ],
          "histogram2d": [
           {
            "colorbar": {
             "outlinewidth": 0,
             "ticks": ""
            },
            "colorscale": [
             [
              0,
              "#0d0887"
             ],
             [
              0.1111111111111111,
              "#46039f"
             ],
             [
              0.2222222222222222,
              "#7201a8"
             ],
             [
              0.3333333333333333,
              "#9c179e"
             ],
             [
              0.4444444444444444,
              "#bd3786"
             ],
             [
              0.5555555555555556,
              "#d8576b"
             ],
             [
              0.6666666666666666,
              "#ed7953"
             ],
             [
              0.7777777777777778,
              "#fb9f3a"
             ],
             [
              0.8888888888888888,
              "#fdca26"
             ],
             [
              1,
              "#f0f921"
             ]
            ],
            "type": "histogram2d"
           }
          ],
          "histogram2dcontour": [
           {
            "colorbar": {
             "outlinewidth": 0,
             "ticks": ""
            },
            "colorscale": [
             [
              0,
              "#0d0887"
             ],
             [
              0.1111111111111111,
              "#46039f"
             ],
             [
              0.2222222222222222,
              "#7201a8"
             ],
             [
              0.3333333333333333,
              "#9c179e"
             ],
             [
              0.4444444444444444,
              "#bd3786"
             ],
             [
              0.5555555555555556,
              "#d8576b"
             ],
             [
              0.6666666666666666,
              "#ed7953"
             ],
             [
              0.7777777777777778,
              "#fb9f3a"
             ],
             [
              0.8888888888888888,
              "#fdca26"
             ],
             [
              1,
              "#f0f921"
             ]
            ],
            "type": "histogram2dcontour"
           }
          ],
          "mesh3d": [
           {
            "colorbar": {
             "outlinewidth": 0,
             "ticks": ""
            },
            "type": "mesh3d"
           }
          ],
          "parcoords": [
           {
            "line": {
             "colorbar": {
              "outlinewidth": 0,
              "ticks": ""
             }
            },
            "type": "parcoords"
           }
          ],
          "pie": [
           {
            "automargin": true,
            "type": "pie"
           }
          ],
          "scatter": [
           {
            "fillpattern": {
             "fillmode": "overlay",
             "size": 10,
             "solidity": 0.2
            },
            "type": "scatter"
           }
          ],
          "scatter3d": [
           {
            "line": {
             "colorbar": {
              "outlinewidth": 0,
              "ticks": ""
             }
            },
            "marker": {
             "colorbar": {
              "outlinewidth": 0,
              "ticks": ""
             }
            },
            "type": "scatter3d"
           }
          ],
          "scattercarpet": [
           {
            "marker": {
             "colorbar": {
              "outlinewidth": 0,
              "ticks": ""
             }
            },
            "type": "scattercarpet"
           }
          ],
          "scattergeo": [
           {
            "marker": {
             "colorbar": {
              "outlinewidth": 0,
              "ticks": ""
             }
            },
            "type": "scattergeo"
           }
          ],
          "scattergl": [
           {
            "marker": {
             "colorbar": {
              "outlinewidth": 0,
              "ticks": ""
             }
            },
            "type": "scattergl"
           }
          ],
          "scattermap": [
           {
            "marker": {
             "colorbar": {
              "outlinewidth": 0,
              "ticks": ""
             }
            },
            "type": "scattermap"
           }
          ],
          "scattermapbox": [
           {
            "marker": {
             "colorbar": {
              "outlinewidth": 0,
              "ticks": ""
             }
            },
            "type": "scattermapbox"
           }
          ],
          "scatterpolar": [
           {
            "marker": {
             "colorbar": {
              "outlinewidth": 0,
              "ticks": ""
             }
            },
            "type": "scatterpolar"
           }
          ],
          "scatterpolargl": [
           {
            "marker": {
             "colorbar": {
              "outlinewidth": 0,
              "ticks": ""
             }
            },
            "type": "scatterpolargl"
           }
          ],
          "scatterternary": [
           {
            "marker": {
             "colorbar": {
              "outlinewidth": 0,
              "ticks": ""
             }
            },
            "type": "scatterternary"
           }
          ],
          "surface": [
           {
            "colorbar": {
             "outlinewidth": 0,
             "ticks": ""
            },
            "colorscale": [
             [
              0,
              "#0d0887"
             ],
             [
              0.1111111111111111,
              "#46039f"
             ],
             [
              0.2222222222222222,
              "#7201a8"
             ],
             [
              0.3333333333333333,
              "#9c179e"
             ],
             [
              0.4444444444444444,
              "#bd3786"
             ],
             [
              0.5555555555555556,
              "#d8576b"
             ],
             [
              0.6666666666666666,
              "#ed7953"
             ],
             [
              0.7777777777777778,
              "#fb9f3a"
             ],
             [
              0.8888888888888888,
              "#fdca26"
             ],
             [
              1,
              "#f0f921"
             ]
            ],
            "type": "surface"
           }
          ],
          "table": [
           {
            "cells": {
             "fill": {
              "color": "#EBF0F8"
             },
             "line": {
              "color": "white"
             }
            },
            "header": {
             "fill": {
              "color": "#C8D4E3"
             },
             "line": {
              "color": "white"
             }
            },
            "type": "table"
           }
          ]
         },
         "layout": {
          "annotationdefaults": {
           "arrowcolor": "#2a3f5f",
           "arrowhead": 0,
           "arrowwidth": 1
          },
          "autotypenumbers": "strict",
          "coloraxis": {
           "colorbar": {
            "outlinewidth": 0,
            "ticks": ""
           }
          },
          "colorscale": {
           "diverging": [
            [
             0,
             "#8e0152"
            ],
            [
             0.1,
             "#c51b7d"
            ],
            [
             0.2,
             "#de77ae"
            ],
            [
             0.3,
             "#f1b6da"
            ],
            [
             0.4,
             "#fde0ef"
            ],
            [
             0.5,
             "#f7f7f7"
            ],
            [
             0.6,
             "#e6f5d0"
            ],
            [
             0.7,
             "#b8e186"
            ],
            [
             0.8,
             "#7fbc41"
            ],
            [
             0.9,
             "#4d9221"
            ],
            [
             1,
             "#276419"
            ]
           ],
           "sequential": [
            [
             0,
             "#0d0887"
            ],
            [
             0.1111111111111111,
             "#46039f"
            ],
            [
             0.2222222222222222,
             "#7201a8"
            ],
            [
             0.3333333333333333,
             "#9c179e"
            ],
            [
             0.4444444444444444,
             "#bd3786"
            ],
            [
             0.5555555555555556,
             "#d8576b"
            ],
            [
             0.6666666666666666,
             "#ed7953"
            ],
            [
             0.7777777777777778,
             "#fb9f3a"
            ],
            [
             0.8888888888888888,
             "#fdca26"
            ],
            [
             1,
             "#f0f921"
            ]
           ],
           "sequentialminus": [
            [
             0,
             "#0d0887"
            ],
            [
             0.1111111111111111,
             "#46039f"
            ],
            [
             0.2222222222222222,
             "#7201a8"
            ],
            [
             0.3333333333333333,
             "#9c179e"
            ],
            [
             0.4444444444444444,
             "#bd3786"
            ],
            [
             0.5555555555555556,
             "#d8576b"
            ],
            [
             0.6666666666666666,
             "#ed7953"
            ],
            [
             0.7777777777777778,
             "#fb9f3a"
            ],
            [
             0.8888888888888888,
             "#fdca26"
            ],
            [
             1,
             "#f0f921"
            ]
           ]
          },
          "colorway": [
           "#636efa",
           "#EF553B",
           "#00cc96",
           "#ab63fa",
           "#FFA15A",
           "#19d3f3",
           "#FF6692",
           "#B6E880",
           "#FF97FF",
           "#FECB52"
          ],
          "font": {
           "color": "#2a3f5f"
          },
          "geo": {
           "bgcolor": "white",
           "lakecolor": "white",
           "landcolor": "#E5ECF6",
           "showlakes": true,
           "showland": true,
           "subunitcolor": "white"
          },
          "hoverlabel": {
           "align": "left"
          },
          "hovermode": "closest",
          "mapbox": {
           "style": "light"
          },
          "paper_bgcolor": "white",
          "plot_bgcolor": "#E5ECF6",
          "polar": {
           "angularaxis": {
            "gridcolor": "white",
            "linecolor": "white",
            "ticks": ""
           },
           "bgcolor": "#E5ECF6",
           "radialaxis": {
            "gridcolor": "white",
            "linecolor": "white",
            "ticks": ""
           }
          },
          "scene": {
           "xaxis": {
            "backgroundcolor": "#E5ECF6",
            "gridcolor": "white",
            "gridwidth": 2,
            "linecolor": "white",
            "showbackground": true,
            "ticks": "",
            "zerolinecolor": "white"
           },
           "yaxis": {
            "backgroundcolor": "#E5ECF6",
            "gridcolor": "white",
            "gridwidth": 2,
            "linecolor": "white",
            "showbackground": true,
            "ticks": "",
            "zerolinecolor": "white"
           },
           "zaxis": {
            "backgroundcolor": "#E5ECF6",
            "gridcolor": "white",
            "gridwidth": 2,
            "linecolor": "white",
            "showbackground": true,
            "ticks": "",
            "zerolinecolor": "white"
           }
          },
          "shapedefaults": {
           "line": {
            "color": "#2a3f5f"
           }
          },
          "ternary": {
           "aaxis": {
            "gridcolor": "white",
            "linecolor": "white",
            "ticks": ""
           },
           "baxis": {
            "gridcolor": "white",
            "linecolor": "white",
            "ticks": ""
           },
           "bgcolor": "#E5ECF6",
           "caxis": {
            "gridcolor": "white",
            "linecolor": "white",
            "ticks": ""
           }
          },
          "title": {
           "x": 0.05
          },
          "xaxis": {
           "automargin": true,
           "gridcolor": "white",
           "linecolor": "white",
           "ticks": "",
           "title": {
            "standoff": 15
           },
           "zerolinecolor": "white",
           "zerolinewidth": 2
          },
          "yaxis": {
           "automargin": true,
           "gridcolor": "white",
           "linecolor": "white",
           "ticks": "",
           "title": {
            "standoff": 15
           },
           "zerolinecolor": "white",
           "zerolinewidth": 2
          }
         }
        },
        "xaxis": {
         "anchor": "y",
         "domain": [
          0,
          1
         ],
         "title": {
          "text": "date"
         }
        },
        "yaxis": {
         "anchor": "x",
         "domain": [
          0,
          1
         ],
         "title": {
          "text": "value"
         }
        }
       }
      }
     },
     "metadata": {},
     "output_type": "display_data"
    }
   ],
   "source": [
    "df = pandas.DataFrame(data)\n",
    "df[\"date\"] = pandas.to_datetime(df[\"date\"])\n",
    "df = df.set_index(\"date\")\n",
    "px.line(df.reset_index(), x=\"date\", y=\"value\")"
   ]
  },
  {
   "cell_type": "markdown",
   "metadata": {},
   "source": [
    "read observation identifiers from csv, retrieve data and plot together"
   ]
  },
  {
   "cell_type": "code",
   "execution_count": 30,
   "metadata": {},
   "outputs": [
    {
     "name": "stderr",
     "output_type": "stream",
     "text": [
      "DEBUG:root:url: https://gs-service-preproduction.geodab.eu/gs-service/services/essi/token/whos-36e7d1a3-b61e-4ae0-aca4-60efe6f27361/view/whos-plata/om-api/observations\n",
      "DEBUG:urllib3.connectionpool:Starting new HTTPS connection (1): gs-service-preproduction.geodab.eu:443\n",
      "DEBUG:urllib3.connectionpool:https://gs-service-preproduction.geodab.eu:443 \"GET /gs-service/services/essi/token/whos-36e7d1a3-b61e-4ae0-aca4-60efe6f27361/view/whos-plata/om-api/observations?observationIdentifier=8272678FE72DB91CD511E653099DB3219DEE615B&useCache=False&limit=1000 HTTP/1.1\" 200 None\n",
      "DEBUG:root:url: https://gs-service-preproduction.geodab.eu/gs-service/services/essi/token/whos-36e7d1a3-b61e-4ae0-aca4-60efe6f27361/view/whos-plata/om-api/observations\n",
      "DEBUG:urllib3.connectionpool:Starting new HTTPS connection (1): gs-service-preproduction.geodab.eu:443\n",
      "DEBUG:urllib3.connectionpool:https://gs-service-preproduction.geodab.eu:443 \"GET /gs-service/services/essi/token/whos-36e7d1a3-b61e-4ae0-aca4-60efe6f27361/view/whos-plata/om-api/observations?observationIdentifier=8272678FE72DB91CD511E653099DB3219DEE615B&beginPosition=2023-01-01&endPosition=2024-05-01&includeData=True&useCache=False&limit=1000 HTTP/1.1\" 200 None\n",
      "DEBUG:root:url: https://gs-service-preproduction.geodab.eu/gs-service/services/essi/token/whos-36e7d1a3-b61e-4ae0-aca4-60efe6f27361/view/whos-plata/om-api/observations\n",
      "DEBUG:urllib3.connectionpool:Starting new HTTPS connection (1): gs-service-preproduction.geodab.eu:443\n",
      "DEBUG:urllib3.connectionpool:https://gs-service-preproduction.geodab.eu:443 \"GET /gs-service/services/essi/token/whos-36e7d1a3-b61e-4ae0-aca4-60efe6f27361/view/whos-plata/om-api/observations?observationIdentifier=18A95E501B2C4EEC191BE2215D87DDF107AF8A42&useCache=False&limit=1000 HTTP/1.1\" 200 None\n",
      "DEBUG:root:url: https://gs-service-preproduction.geodab.eu/gs-service/services/essi/token/whos-36e7d1a3-b61e-4ae0-aca4-60efe6f27361/view/whos-plata/om-api/observations\n",
      "DEBUG:urllib3.connectionpool:Starting new HTTPS connection (1): gs-service-preproduction.geodab.eu:443\n",
      "DEBUG:urllib3.connectionpool:https://gs-service-preproduction.geodab.eu:443 \"GET /gs-service/services/essi/token/whos-36e7d1a3-b61e-4ae0-aca4-60efe6f27361/view/whos-plata/om-api/observations?observationIdentifier=18A95E501B2C4EEC191BE2215D87DDF107AF8A42&beginPosition=2023-01-01&endPosition=2024-05-01&includeData=True&useCache=False&limit=1000 HTTP/1.1\" 200 None\n",
      "DEBUG:root:url: https://gs-service-preproduction.geodab.eu/gs-service/services/essi/token/whos-36e7d1a3-b61e-4ae0-aca4-60efe6f27361/view/whos-plata/om-api/observations\n",
      "DEBUG:urllib3.connectionpool:Starting new HTTPS connection (1): gs-service-preproduction.geodab.eu:443\n",
      "DEBUG:urllib3.connectionpool:https://gs-service-preproduction.geodab.eu:443 \"GET /gs-service/services/essi/token/whos-36e7d1a3-b61e-4ae0-aca4-60efe6f27361/view/whos-plata/om-api/observations?observationIdentifier=9DB2FD5D21BE8FFDF36B699E3CC607CD98FFFB03&useCache=False&limit=1000 HTTP/1.1\" 200 None\n",
      "DEBUG:root:url: https://gs-service-preproduction.geodab.eu/gs-service/services/essi/token/whos-36e7d1a3-b61e-4ae0-aca4-60efe6f27361/view/whos-plata/om-api/observations\n",
      "DEBUG:urllib3.connectionpool:Starting new HTTPS connection (1): gs-service-preproduction.geodab.eu:443\n",
      "DEBUG:urllib3.connectionpool:https://gs-service-preproduction.geodab.eu:443 \"GET /gs-service/services/essi/token/whos-36e7d1a3-b61e-4ae0-aca4-60efe6f27361/view/whos-plata/om-api/observations?observationIdentifier=9DB2FD5D21BE8FFDF36B699E3CC607CD98FFFB03&beginPosition=2023-01-01&endPosition=2024-05-01&includeData=True&useCache=False&limit=1000 HTTP/1.1\" 200 None\n",
      "DEBUG:root:url: https://gs-service-preproduction.geodab.eu/gs-service/services/essi/token/whos-36e7d1a3-b61e-4ae0-aca4-60efe6f27361/view/whos-plata/om-api/observations\n",
      "DEBUG:urllib3.connectionpool:Starting new HTTPS connection (1): gs-service-preproduction.geodab.eu:443\n",
      "DEBUG:urllib3.connectionpool:https://gs-service-preproduction.geodab.eu:443 \"GET /gs-service/services/essi/token/whos-36e7d1a3-b61e-4ae0-aca4-60efe6f27361/view/whos-plata/om-api/observations?observationIdentifier=B569750A1B728AB62D03460068CF80CCCD011D13&useCache=False&limit=1000 HTTP/1.1\" 200 None\n",
      "DEBUG:root:url: https://gs-service-preproduction.geodab.eu/gs-service/services/essi/token/whos-36e7d1a3-b61e-4ae0-aca4-60efe6f27361/view/whos-plata/om-api/observations\n",
      "DEBUG:urllib3.connectionpool:Starting new HTTPS connection (1): gs-service-preproduction.geodab.eu:443\n",
      "DEBUG:urllib3.connectionpool:https://gs-service-preproduction.geodab.eu:443 \"GET /gs-service/services/essi/token/whos-36e7d1a3-b61e-4ae0-aca4-60efe6f27361/view/whos-plata/om-api/observations?observationIdentifier=B569750A1B728AB62D03460068CF80CCCD011D13&beginPosition=2023-01-01&endPosition=2024-05-01&includeData=True&useCache=False&limit=1000 HTTP/1.1\" 200 None\n",
      "DEBUG:root:url: https://gs-service-preproduction.geodab.eu/gs-service/services/essi/token/whos-36e7d1a3-b61e-4ae0-aca4-60efe6f27361/view/whos-plata/om-api/observations\n",
      "DEBUG:urllib3.connectionpool:Starting new HTTPS connection (1): gs-service-preproduction.geodab.eu:443\n",
      "DEBUG:urllib3.connectionpool:https://gs-service-preproduction.geodab.eu:443 \"GET /gs-service/services/essi/token/whos-36e7d1a3-b61e-4ae0-aca4-60efe6f27361/view/whos-plata/om-api/observations?observationIdentifier=97A1C9210A637D94FB29B5BACB0500E0F353AB04&useCache=False&limit=1000 HTTP/1.1\" 200 None\n",
      "DEBUG:root:url: https://gs-service-preproduction.geodab.eu/gs-service/services/essi/token/whos-36e7d1a3-b61e-4ae0-aca4-60efe6f27361/view/whos-plata/om-api/observations\n",
      "DEBUG:urllib3.connectionpool:Starting new HTTPS connection (1): gs-service-preproduction.geodab.eu:443\n",
      "DEBUG:urllib3.connectionpool:https://gs-service-preproduction.geodab.eu:443 \"GET /gs-service/services/essi/token/whos-36e7d1a3-b61e-4ae0-aca4-60efe6f27361/view/whos-plata/om-api/observations?observationIdentifier=97A1C9210A637D94FB29B5BACB0500E0F353AB04&beginPosition=2023-01-01&endPosition=2024-05-01&includeData=True&useCache=False&limit=1000 HTTP/1.1\" 200 None\n",
      "DEBUG:root:url: https://gs-service-preproduction.geodab.eu/gs-service/services/essi/token/whos-36e7d1a3-b61e-4ae0-aca4-60efe6f27361/view/whos-plata/om-api/observations\n",
      "DEBUG:urllib3.connectionpool:Starting new HTTPS connection (1): gs-service-preproduction.geodab.eu:443\n",
      "DEBUG:urllib3.connectionpool:https://gs-service-preproduction.geodab.eu:443 \"GET /gs-service/services/essi/token/whos-36e7d1a3-b61e-4ae0-aca4-60efe6f27361/view/whos-plata/om-api/observations?observationIdentifier=24F40961A057CE7DC723EE86BBA3B39729F03CBC&useCache=False&limit=1000 HTTP/1.1\" 200 None\n",
      "DEBUG:root:url: https://gs-service-preproduction.geodab.eu/gs-service/services/essi/token/whos-36e7d1a3-b61e-4ae0-aca4-60efe6f27361/view/whos-plata/om-api/observations\n",
      "DEBUG:urllib3.connectionpool:Starting new HTTPS connection (1): gs-service-preproduction.geodab.eu:443\n",
      "DEBUG:urllib3.connectionpool:https://gs-service-preproduction.geodab.eu:443 \"GET /gs-service/services/essi/token/whos-36e7d1a3-b61e-4ae0-aca4-60efe6f27361/view/whos-plata/om-api/observations?observationIdentifier=24F40961A057CE7DC723EE86BBA3B39729F03CBC&beginPosition=2023-01-01&endPosition=2024-05-01&includeData=True&useCache=False&limit=1000 HTTP/1.1\" 200 None\n"
     ]
    },
    {
     "data": {
      "application/vnd.plotly.v1+json": {
       "config": {
        "plotlyServerURL": "https://plot.ly"
       },
       "data": [
        {
         "hovertemplate": "station_name=Paso de los Libres<br>date=%{x}<br>value=%{y}<extra></extra>",
         "legendgroup": "Paso de los Libres",
         "line": {
          "color": "#636efa",
          "dash": "solid"
         },
         "marker": {
          "symbol": "circle"
         },
         "mode": "lines",
         "name": "Paso de los Libres",
         "orientation": "v",
         "showlegend": true,
         "type": "scatter",
         "x": [
          "2023-01-01T03:00:00Z",
          "2023-02-01T03:00:00Z",
          "2023-03-01T03:00:00Z",
          "2023-04-01T03:00:00Z",
          "2023-05-01T03:00:00Z",
          "2023-06-01T03:00:00Z",
          "2023-07-01T03:00:00Z",
          "2023-08-01T03:00:00Z",
          "2023-09-01T03:00:00Z",
          "2023-10-01T03:00:00Z",
          "2023-11-01T03:00:00Z",
          "2023-12-01T03:00:00Z",
          "2024-01-01T03:00:00Z",
          "2024-02-01T03:00:00Z",
          "2024-03-01T03:00:00Z",
          "2024-04-01T03:00:00Z"
         ],
         "xaxis": "x",
         "y": {
          "bdata": "AAAAAABYhUBSuB6F63WHQFK4HoXrzJRA9ihcj8JfkEB7FK5HYbKkQAAAAAAAWKFAAAAAAABfu0AAAAAAAKypQAAAAACAqshAAAAAAMBm0UAAAAAAgPPUQAAAAAAApcdAAAAAAABcuEAAAAAAAIioQAAAAAAAArhAAAAAAACWvUA=",
          "dtype": "f8"
         },
         "yaxis": "y"
        },
        {
         "hovertemplate": "station_name=Santo Tomé<br>date=%{x}<br>value=%{y}<extra></extra>",
         "legendgroup": "Santo Tomé",
         "line": {
          "color": "#EF553B",
          "dash": "solid"
         },
         "marker": {
          "symbol": "circle"
         },
         "mode": "lines",
         "name": "Santo Tomé",
         "orientation": "v",
         "showlegend": true,
         "type": "scatter",
         "x": [
          "2023-01-01T03:00:00Z",
          "2023-02-01T03:00:00Z",
          "2023-03-01T03:00:00Z",
          "2023-04-01T03:00:00Z",
          "2023-05-01T03:00:00Z",
          "2023-06-01T03:00:00Z",
          "2023-07-01T03:00:00Z",
          "2023-08-01T03:00:00Z",
          "2023-09-01T03:00:00Z",
          "2023-10-01T03:00:00Z",
          "2023-11-01T03:00:00Z",
          "2023-12-01T03:00:00Z",
          "2024-01-01T03:00:00Z",
          "2024-02-01T03:00:00Z",
          "2024-03-01T03:00:00Z",
          "2024-04-01T03:00:00Z"
         ],
         "xaxis": "x",
         "y": {
          "bdata": "AAAAAADYhkAfhetRuA6KQFyPwvUo1ZNAAAAAAAB+j0B7FK5H4XmdQAAAAAAAhJ5AAAAAAAButUAAAAAAAIajQAAAAAAA/7tAAAAAAID5zUAAAAAAgErTQAAAAAAAx7lAAAAAAAAIrkAAAAAAACiiQAAAAAAAxq5AAAAAAABEsEA=",
          "dtype": "f8"
         },
         "yaxis": "y"
        },
        {
         "hovertemplate": "station_name=San Javier<br>date=%{x}<br>value=%{y}<extra></extra>",
         "legendgroup": "San Javier",
         "line": {
          "color": "#00cc96",
          "dash": "solid"
         },
         "marker": {
          "symbol": "circle"
         },
         "mode": "lines",
         "name": "San Javier",
         "orientation": "v",
         "showlegend": true,
         "type": "scatter",
         "x": [
          "2023-01-01T03:00:00Z",
          "2023-02-01T03:00:00Z",
          "2023-03-01T03:00:00Z",
          "2023-04-01T03:00:00Z",
          "2023-05-01T03:00:00Z",
          "2023-06-01T03:00:00Z",
          "2023-07-01T03:00:00Z",
          "2023-08-01T03:00:00Z",
          "2023-09-01T03:00:00Z",
          "2023-10-01T03:00:00Z",
          "2023-11-01T03:00:00Z",
          "2023-12-01T03:00:00Z",
          "2024-01-01T03:00:00Z",
          "2024-02-01T03:00:00Z",
          "2024-03-01T03:00:00Z",
          "2024-04-01T03:00:00Z"
         ],
         "xaxis": "x",
         "y": {
          "bdata": "AAAAAACQgkDXo3A9CiuHQNejcD0KL5BAhetRuB5NiUDhehSuRzKUQAAAAAAAJJpAAAAAAAC2sEAAAAAAAGqhQAAAAAAA3LFAAAAAAAAZx0AAAAAAgOzHQAAAAAAAy7NAAAAAAACupkAAAAAAAFieQAAAAAAArqpAAAAAAABapkA=",
          "dtype": "f8"
         },
         "yaxis": "y"
        },
        {
         "hovertemplate": "station_name=Paraná<br>date=%{x}<br>value=%{y}<extra></extra>",
         "legendgroup": "Paraná",
         "line": {
          "color": "#ab63fa",
          "dash": "solid"
         },
         "marker": {
          "symbol": "circle"
         },
         "mode": "lines",
         "name": "Paraná",
         "orientation": "v",
         "showlegend": true,
         "type": "scatter",
         "x": [
          "2023-02-21T03:00:00Z",
          "2023-04-04T03:00:00Z",
          "2023-08-28T03:00:00Z",
          "2023-08-29T03:00:00Z",
          "2023-08-30T03:00:00Z",
          "2023-10-28T03:00:00Z",
          "2023-10-29T03:00:00Z",
          "2023-10-30T03:00:00Z",
          "2023-10-31T03:00:00Z",
          "2023-11-01T03:00:00Z",
          "2023-11-02T03:00:00Z",
          "2023-11-03T03:00:00Z",
          "2023-11-08T03:00:00Z",
          "2023-11-09T03:00:00Z",
          "2023-11-10T03:00:00Z",
          "2023-11-14T03:00:00Z",
          "2023-11-15T03:00:00Z",
          "2023-11-16T03:00:00Z",
          "2023-12-05T03:00:00Z",
          "2024-01-03T03:00:00Z",
          "2024-01-04T03:00:00Z",
          "2024-01-05T03:00:00Z",
          "2024-01-27T03:00:00Z",
          "2024-01-28T03:00:00Z",
          "2024-01-29T03:00:00Z",
          "2024-03-20T03:00:00Z",
          "2024-03-21T03:00:00Z",
          "2024-03-22T03:00:00Z",
          "2024-03-23T03:00:00Z",
          "2024-03-24T03:00:00Z",
          "2024-03-25T03:00:00Z",
          "2024-03-26T03:00:00Z",
          "2024-03-27T03:00:00Z"
         ],
         "xaxis": "x",
         "y": {
          "bdata": "ZmZmZqb/xkAzMzMzs1PRQM3MzMyMNsRAMzMzM7N+xEBmZmZm5qXEQGZmZmZmOcxAZmZmZuaEzEAzMzMzc7fMQAAAAADAN81AAAAAAMCFzUAAAAAAAPjNQAAAAACAWc5AZmZmZiY40EBmZmZmJmPQQAAAAADAhNBAAAAAAIDD0UAAAAAAwOzRQM3MzMwsVdJAMzMzMzOV1kAzMzMzs3DUQAAAAACgSNRAAAAAAIA31EAzMzMzc77RQDMzMzNzkNFAAAAAAOBi0UDNzMzMDObFQDMzMzOz2cVAmpmZmVnNxUAzMzMzM2zFQM3MzMwMCcVAZmZmZualxEDNzMzMDM7EQDMzMzMz9sRA",
          "dtype": "f8"
         },
         "yaxis": "y"
        },
        {
         "hovertemplate": "station_name=Santa Fe<br>date=%{x}<br>value=%{y}<extra></extra>",
         "legendgroup": "Santa Fe",
         "line": {
          "color": "#FFA15A",
          "dash": "solid"
         },
         "marker": {
          "symbol": "circle"
         },
         "mode": "lines",
         "name": "Santa Fe",
         "orientation": "v",
         "showlegend": true,
         "type": "scatter",
         "x": [
          "2023-01-01T03:00:00Z",
          "2023-02-01T03:00:00Z",
          "2023-03-01T03:00:00Z",
          "2023-04-01T03:00:00Z",
          "2023-05-01T03:00:00Z",
          "2023-06-01T03:00:00Z",
          "2023-07-01T03:00:00Z",
          "2023-08-01T03:00:00Z",
          "2023-09-01T03:00:00Z",
          "2023-10-01T03:00:00Z",
          "2023-11-01T03:00:00Z",
          "2023-12-01T03:00:00Z",
          "2024-01-01T03:00:00Z",
          "2024-02-01T03:00:00Z",
          "2024-03-01T03:00:00Z",
          "2024-04-01T03:00:00Z"
         ],
         "xaxis": "x",
         "y": {
          "bdata": "7FG4HgVFw0DNzMzMTN3KQAAAAADgUtRAZmZmZibK1EDNzMzMrJHSQAAAAAAA/cdAAAAAAIDgyEAAAAAAgFnGQAAAAAAA/MtAAAAAAIB6zkAAAAAAgEbXQAAAAABAkt9AAAAAAEDE2UAAAAAAgEfOQAAAAACANshAAAAAAABtyEA=",
          "dtype": "f8"
         },
         "yaxis": "y"
        },
        {
         "hovertemplate": "station_name=Barranqueras<br>date=%{x}<br>value=%{y}<extra></extra>",
         "legendgroup": "Barranqueras",
         "line": {
          "color": "#19d3f3",
          "dash": "solid"
         },
         "marker": {
          "symbol": "circle"
         },
         "mode": "lines",
         "name": "Barranqueras",
         "orientation": "v",
         "showlegend": true,
         "type": "scatter",
         "x": [
          "2023-02-01T03:00:00Z",
          "2023-04-01T03:00:00Z",
          "2023-08-01T03:00:00Z",
          "2023-10-01T03:00:00Z",
          "2023-11-01T03:00:00Z",
          "2024-01-01T03:00:00Z",
          "2024-03-01T03:00:00Z"
         ],
         "xaxis": "x",
         "y": {
          "bdata": "zczMzMy000AAAAAA4PnTQAAAAACAzctAAAAAAIAO1UAAAAAAQHjcQAAAAAAAvtBAAAAAAID8yEA=",
          "dtype": "f8"
         },
         "yaxis": "y"
        }
       ],
       "layout": {
        "legend": {
         "title": {
          "text": "station_name"
         },
         "tracegroupgap": 0
        },
        "margin": {
         "t": 60
        },
        "template": {
         "data": {
          "bar": [
           {
            "error_x": {
             "color": "#2a3f5f"
            },
            "error_y": {
             "color": "#2a3f5f"
            },
            "marker": {
             "line": {
              "color": "#E5ECF6",
              "width": 0.5
             },
             "pattern": {
              "fillmode": "overlay",
              "size": 10,
              "solidity": 0.2
             }
            },
            "type": "bar"
           }
          ],
          "barpolar": [
           {
            "marker": {
             "line": {
              "color": "#E5ECF6",
              "width": 0.5
             },
             "pattern": {
              "fillmode": "overlay",
              "size": 10,
              "solidity": 0.2
             }
            },
            "type": "barpolar"
           }
          ],
          "carpet": [
           {
            "aaxis": {
             "endlinecolor": "#2a3f5f",
             "gridcolor": "white",
             "linecolor": "white",
             "minorgridcolor": "white",
             "startlinecolor": "#2a3f5f"
            },
            "baxis": {
             "endlinecolor": "#2a3f5f",
             "gridcolor": "white",
             "linecolor": "white",
             "minorgridcolor": "white",
             "startlinecolor": "#2a3f5f"
            },
            "type": "carpet"
           }
          ],
          "choropleth": [
           {
            "colorbar": {
             "outlinewidth": 0,
             "ticks": ""
            },
            "type": "choropleth"
           }
          ],
          "contour": [
           {
            "colorbar": {
             "outlinewidth": 0,
             "ticks": ""
            },
            "colorscale": [
             [
              0,
              "#0d0887"
             ],
             [
              0.1111111111111111,
              "#46039f"
             ],
             [
              0.2222222222222222,
              "#7201a8"
             ],
             [
              0.3333333333333333,
              "#9c179e"
             ],
             [
              0.4444444444444444,
              "#bd3786"
             ],
             [
              0.5555555555555556,
              "#d8576b"
             ],
             [
              0.6666666666666666,
              "#ed7953"
             ],
             [
              0.7777777777777778,
              "#fb9f3a"
             ],
             [
              0.8888888888888888,
              "#fdca26"
             ],
             [
              1,
              "#f0f921"
             ]
            ],
            "type": "contour"
           }
          ],
          "contourcarpet": [
           {
            "colorbar": {
             "outlinewidth": 0,
             "ticks": ""
            },
            "type": "contourcarpet"
           }
          ],
          "heatmap": [
           {
            "colorbar": {
             "outlinewidth": 0,
             "ticks": ""
            },
            "colorscale": [
             [
              0,
              "#0d0887"
             ],
             [
              0.1111111111111111,
              "#46039f"
             ],
             [
              0.2222222222222222,
              "#7201a8"
             ],
             [
              0.3333333333333333,
              "#9c179e"
             ],
             [
              0.4444444444444444,
              "#bd3786"
             ],
             [
              0.5555555555555556,
              "#d8576b"
             ],
             [
              0.6666666666666666,
              "#ed7953"
             ],
             [
              0.7777777777777778,
              "#fb9f3a"
             ],
             [
              0.8888888888888888,
              "#fdca26"
             ],
             [
              1,
              "#f0f921"
             ]
            ],
            "type": "heatmap"
           }
          ],
          "histogram": [
           {
            "marker": {
             "pattern": {
              "fillmode": "overlay",
              "size": 10,
              "solidity": 0.2
             }
            },
            "type": "histogram"
           }
          ],
          "histogram2d": [
           {
            "colorbar": {
             "outlinewidth": 0,
             "ticks": ""
            },
            "colorscale": [
             [
              0,
              "#0d0887"
             ],
             [
              0.1111111111111111,
              "#46039f"
             ],
             [
              0.2222222222222222,
              "#7201a8"
             ],
             [
              0.3333333333333333,
              "#9c179e"
             ],
             [
              0.4444444444444444,
              "#bd3786"
             ],
             [
              0.5555555555555556,
              "#d8576b"
             ],
             [
              0.6666666666666666,
              "#ed7953"
             ],
             [
              0.7777777777777778,
              "#fb9f3a"
             ],
             [
              0.8888888888888888,
              "#fdca26"
             ],
             [
              1,
              "#f0f921"
             ]
            ],
            "type": "histogram2d"
           }
          ],
          "histogram2dcontour": [
           {
            "colorbar": {
             "outlinewidth": 0,
             "ticks": ""
            },
            "colorscale": [
             [
              0,
              "#0d0887"
             ],
             [
              0.1111111111111111,
              "#46039f"
             ],
             [
              0.2222222222222222,
              "#7201a8"
             ],
             [
              0.3333333333333333,
              "#9c179e"
             ],
             [
              0.4444444444444444,
              "#bd3786"
             ],
             [
              0.5555555555555556,
              "#d8576b"
             ],
             [
              0.6666666666666666,
              "#ed7953"
             ],
             [
              0.7777777777777778,
              "#fb9f3a"
             ],
             [
              0.8888888888888888,
              "#fdca26"
             ],
             [
              1,
              "#f0f921"
             ]
            ],
            "type": "histogram2dcontour"
           }
          ],
          "mesh3d": [
           {
            "colorbar": {
             "outlinewidth": 0,
             "ticks": ""
            },
            "type": "mesh3d"
           }
          ],
          "parcoords": [
           {
            "line": {
             "colorbar": {
              "outlinewidth": 0,
              "ticks": ""
             }
            },
            "type": "parcoords"
           }
          ],
          "pie": [
           {
            "automargin": true,
            "type": "pie"
           }
          ],
          "scatter": [
           {
            "fillpattern": {
             "fillmode": "overlay",
             "size": 10,
             "solidity": 0.2
            },
            "type": "scatter"
           }
          ],
          "scatter3d": [
           {
            "line": {
             "colorbar": {
              "outlinewidth": 0,
              "ticks": ""
             }
            },
            "marker": {
             "colorbar": {
              "outlinewidth": 0,
              "ticks": ""
             }
            },
            "type": "scatter3d"
           }
          ],
          "scattercarpet": [
           {
            "marker": {
             "colorbar": {
              "outlinewidth": 0,
              "ticks": ""
             }
            },
            "type": "scattercarpet"
           }
          ],
          "scattergeo": [
           {
            "marker": {
             "colorbar": {
              "outlinewidth": 0,
              "ticks": ""
             }
            },
            "type": "scattergeo"
           }
          ],
          "scattergl": [
           {
            "marker": {
             "colorbar": {
              "outlinewidth": 0,
              "ticks": ""
             }
            },
            "type": "scattergl"
           }
          ],
          "scattermap": [
           {
            "marker": {
             "colorbar": {
              "outlinewidth": 0,
              "ticks": ""
             }
            },
            "type": "scattermap"
           }
          ],
          "scattermapbox": [
           {
            "marker": {
             "colorbar": {
              "outlinewidth": 0,
              "ticks": ""
             }
            },
            "type": "scattermapbox"
           }
          ],
          "scatterpolar": [
           {
            "marker": {
             "colorbar": {
              "outlinewidth": 0,
              "ticks": ""
             }
            },
            "type": "scatterpolar"
           }
          ],
          "scatterpolargl": [
           {
            "marker": {
             "colorbar": {
              "outlinewidth": 0,
              "ticks": ""
             }
            },
            "type": "scatterpolargl"
           }
          ],
          "scatterternary": [
           {
            "marker": {
             "colorbar": {
              "outlinewidth": 0,
              "ticks": ""
             }
            },
            "type": "scatterternary"
           }
          ],
          "surface": [
           {
            "colorbar": {
             "outlinewidth": 0,
             "ticks": ""
            },
            "colorscale": [
             [
              0,
              "#0d0887"
             ],
             [
              0.1111111111111111,
              "#46039f"
             ],
             [
              0.2222222222222222,
              "#7201a8"
             ],
             [
              0.3333333333333333,
              "#9c179e"
             ],
             [
              0.4444444444444444,
              "#bd3786"
             ],
             [
              0.5555555555555556,
              "#d8576b"
             ],
             [
              0.6666666666666666,
              "#ed7953"
             ],
             [
              0.7777777777777778,
              "#fb9f3a"
             ],
             [
              0.8888888888888888,
              "#fdca26"
             ],
             [
              1,
              "#f0f921"
             ]
            ],
            "type": "surface"
           }
          ],
          "table": [
           {
            "cells": {
             "fill": {
              "color": "#EBF0F8"
             },
             "line": {
              "color": "white"
             }
            },
            "header": {
             "fill": {
              "color": "#C8D4E3"
             },
             "line": {
              "color": "white"
             }
            },
            "type": "table"
           }
          ]
         },
         "layout": {
          "annotationdefaults": {
           "arrowcolor": "#2a3f5f",
           "arrowhead": 0,
           "arrowwidth": 1
          },
          "autotypenumbers": "strict",
          "coloraxis": {
           "colorbar": {
            "outlinewidth": 0,
            "ticks": ""
           }
          },
          "colorscale": {
           "diverging": [
            [
             0,
             "#8e0152"
            ],
            [
             0.1,
             "#c51b7d"
            ],
            [
             0.2,
             "#de77ae"
            ],
            [
             0.3,
             "#f1b6da"
            ],
            [
             0.4,
             "#fde0ef"
            ],
            [
             0.5,
             "#f7f7f7"
            ],
            [
             0.6,
             "#e6f5d0"
            ],
            [
             0.7,
             "#b8e186"
            ],
            [
             0.8,
             "#7fbc41"
            ],
            [
             0.9,
             "#4d9221"
            ],
            [
             1,
             "#276419"
            ]
           ],
           "sequential": [
            [
             0,
             "#0d0887"
            ],
            [
             0.1111111111111111,
             "#46039f"
            ],
            [
             0.2222222222222222,
             "#7201a8"
            ],
            [
             0.3333333333333333,
             "#9c179e"
            ],
            [
             0.4444444444444444,
             "#bd3786"
            ],
            [
             0.5555555555555556,
             "#d8576b"
            ],
            [
             0.6666666666666666,
             "#ed7953"
            ],
            [
             0.7777777777777778,
             "#fb9f3a"
            ],
            [
             0.8888888888888888,
             "#fdca26"
            ],
            [
             1,
             "#f0f921"
            ]
           ],
           "sequentialminus": [
            [
             0,
             "#0d0887"
            ],
            [
             0.1111111111111111,
             "#46039f"
            ],
            [
             0.2222222222222222,
             "#7201a8"
            ],
            [
             0.3333333333333333,
             "#9c179e"
            ],
            [
             0.4444444444444444,
             "#bd3786"
            ],
            [
             0.5555555555555556,
             "#d8576b"
            ],
            [
             0.6666666666666666,
             "#ed7953"
            ],
            [
             0.7777777777777778,
             "#fb9f3a"
            ],
            [
             0.8888888888888888,
             "#fdca26"
            ],
            [
             1,
             "#f0f921"
            ]
           ]
          },
          "colorway": [
           "#636efa",
           "#EF553B",
           "#00cc96",
           "#ab63fa",
           "#FFA15A",
           "#19d3f3",
           "#FF6692",
           "#B6E880",
           "#FF97FF",
           "#FECB52"
          ],
          "font": {
           "color": "#2a3f5f"
          },
          "geo": {
           "bgcolor": "white",
           "lakecolor": "white",
           "landcolor": "#E5ECF6",
           "showlakes": true,
           "showland": true,
           "subunitcolor": "white"
          },
          "hoverlabel": {
           "align": "left"
          },
          "hovermode": "closest",
          "mapbox": {
           "style": "light"
          },
          "paper_bgcolor": "white",
          "plot_bgcolor": "#E5ECF6",
          "polar": {
           "angularaxis": {
            "gridcolor": "white",
            "linecolor": "white",
            "ticks": ""
           },
           "bgcolor": "#E5ECF6",
           "radialaxis": {
            "gridcolor": "white",
            "linecolor": "white",
            "ticks": ""
           }
          },
          "scene": {
           "xaxis": {
            "backgroundcolor": "#E5ECF6",
            "gridcolor": "white",
            "gridwidth": 2,
            "linecolor": "white",
            "showbackground": true,
            "ticks": "",
            "zerolinecolor": "white"
           },
           "yaxis": {
            "backgroundcolor": "#E5ECF6",
            "gridcolor": "white",
            "gridwidth": 2,
            "linecolor": "white",
            "showbackground": true,
            "ticks": "",
            "zerolinecolor": "white"
           },
           "zaxis": {
            "backgroundcolor": "#E5ECF6",
            "gridcolor": "white",
            "gridwidth": 2,
            "linecolor": "white",
            "showbackground": true,
            "ticks": "",
            "zerolinecolor": "white"
           }
          },
          "shapedefaults": {
           "line": {
            "color": "#2a3f5f"
           }
          },
          "ternary": {
           "aaxis": {
            "gridcolor": "white",
            "linecolor": "white",
            "ticks": ""
           },
           "baxis": {
            "gridcolor": "white",
            "linecolor": "white",
            "ticks": ""
           },
           "bgcolor": "#E5ECF6",
           "caxis": {
            "gridcolor": "white",
            "linecolor": "white",
            "ticks": ""
           }
          },
          "title": {
           "x": 0.05
          },
          "xaxis": {
           "automargin": true,
           "gridcolor": "white",
           "linecolor": "white",
           "ticks": "",
           "title": {
            "standoff": 15
           },
           "zerolinecolor": "white",
           "zerolinewidth": 2
          },
          "yaxis": {
           "automargin": true,
           "gridcolor": "white",
           "linecolor": "white",
           "ticks": "",
           "title": {
            "standoff": 15
           },
           "zerolinecolor": "white",
           "zerolinewidth": 2
          }
         }
        },
        "xaxis": {
         "anchor": "y",
         "domain": [
          0,
          1
         ],
         "title": {
          "text": "date"
         }
        },
        "yaxis": {
         "anchor": "x",
         "domain": [
          0,
          1
         ],
         "title": {
          "text": "value"
         }
        }
       }
      }
     },
     "metadata": {},
     "output_type": "display_data"
    }
   ],
   "source": [
    "stations = pandas.read_csv(\"data/ina_timeseries.csv\")\n",
    "df_list = []\n",
    "for index, row in stations.iterrows():\n",
    "    data = client.getData(\n",
    "        \"2023-01-01\",\n",
    "        \"2024-05-01\", \n",
    "        observationIdentifier = row[\"observation_identifier\"])\n",
    "    df_ = pandas.DataFrame(data)\n",
    "    df_[\"station_name\"] = row[\"station_name\"]\n",
    "    df_list.append(df_)\n",
    "df = pandas.concat(df_list)\n",
    "px.line(df, x = \"date\", y = \"value\", color = \"station_name\")"
   ]
  }
 ],
 "metadata": {
  "kernelspec": {
   "display_name": "whos_client",
   "language": "python",
   "name": "python3"
  },
  "language_info": {
   "codemirror_mode": {
    "name": "ipython",
    "version": 3
   },
   "file_extension": ".py",
   "mimetype": "text/x-python",
   "name": "python",
   "nbconvert_exporter": "python",
   "pygments_lexer": "ipython3",
   "version": "3.12.3"
  }
 },
 "nbformat": 4,
 "nbformat_minor": 2
}
