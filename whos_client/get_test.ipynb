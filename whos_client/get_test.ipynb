{
 "cells": [
  {
   "cell_type": "code",
   "execution_count": 1,
   "metadata": {},
   "outputs": [],
   "source": [
    "from om_ogc_timeseries_client import OmOgcTimeseriesClient\n",
    "\n",
    "client = OmOgcTimeseriesClient({\"token\":\"whos-36e7d1a3-b61e-4ae0-aca4-60efe6f27361\"})\n",
    "\n",
    "site = \"F426CC5C7D4A1563EE3B41E4F50FB4DE8568D3F2\"\n",
    "variable = \"B9240615C51DA438E9E02C9858887F1EE726EE2E\"\n",
    "beginDate = \"1990-01-01\"\n",
    "endDate = \"2024-05-01\"\n",
    "\n",
    "data = client.getData(site, variable, beginDate, endDate)\n"
   ]
  },
  {
   "cell_type": "code",
   "execution_count": null,
   "metadata": {},
   "outputs": [],
   "source": [
    "data"
   ]
  },
  {
   "cell_type": "code",
   "execution_count": null,
   "metadata": {},
   "outputs": [],
   "source": [
    "import pandas\n",
    "df = pandas.DataFrame(data)\n",
    "df[\"date\"] = pandas.to_datetime(df[\"date\"])\n",
    "df = df.set_index(\"date\")\n",
    "df"
   ]
  }
 ],
 "metadata": {
  "kernelspec": {
   "display_name": "pydrosos",
   "language": "python",
   "name": "python3"
  },
  "language_info": {
   "codemirror_mode": {
    "name": "ipython",
    "version": 3
   },
   "file_extension": ".py",
   "mimetype": "text/x-python",
   "name": "python",
   "nbconvert_exporter": "python",
   "pygments_lexer": "ipython3",
   "version": "3.10.12"
  }
 },
 "nbformat": 4,
 "nbformat_minor": 2
}
