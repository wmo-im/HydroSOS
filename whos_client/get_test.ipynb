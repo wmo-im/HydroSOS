{
 "cells": [
  {
   "cell_type": "code",
   "execution_count": null,
   "metadata": {},
   "outputs": [],
   "source": [
    "from om_ogc_timeseries_client import OmOgcTimeseriesClient\n",
    "import pandas\n",
    "import plotly.express as px\n",
    "import logging\n",
    "\n",
    "logger = logging.getLogger(__name__)\n",
    "logging.basicConfig(level=logging.DEBUG)"
   ]
  },
  {
   "cell_type": "markdown",
   "metadata": {},
   "source": [
    "Instantiate client"
   ]
  },
  {
   "cell_type": "code",
   "execution_count": null,
   "metadata": {},
   "outputs": [],
   "source": [
    "client = OmOgcTimeseriesClient({\"token\":\"whos-36e7d1a3-b61e-4ae0-aca4-60efe6f27361\"})"
   ]
  },
  {
   "cell_type": "markdown",
   "metadata": {},
   "source": [
    "retrieve timeseries using site and variable ids"
   ]
  },
  {
   "cell_type": "code",
   "execution_count": null,
   "metadata": {},
   "outputs": [],
   "source": [
    "\n",
    "data = client.getData(\n",
    "    \"1990-01-01\", \n",
    "    \"2024-05-01\",\n",
    "    monitoringPoint=\"F426CC5C7D4A1563EE3B41E4F50FB4DE8568D3F2\",\n",
    "    variableName=\"B9240615C51DA438E9E02C9858887F1EE726EE2E\")"
   ]
  },
  {
   "cell_type": "markdown",
   "metadata": {},
   "source": [
    "convert to dataframe and plot"
   ]
  },
  {
   "cell_type": "code",
   "execution_count": null,
   "metadata": {},
   "outputs": [],
   "source": [
    "df = pandas.DataFrame(data)\n",
    "df[\"date\"] = pandas.to_datetime(df[\"date\"])\n",
    "df = df.set_index(\"date\")\n",
    "px.line(df.reset_index(), x=\"date\", y=\"value\")"
   ]
  },
  {
   "cell_type": "markdown",
   "metadata": {},
   "source": [
    "retrieve timeseries using timeseries id"
   ]
  },
  {
   "cell_type": "code",
   "execution_count": null,
   "metadata": {},
   "outputs": [],
   "source": [
    "data = client.getData(\n",
    "    \"1990-01-01\", \n",
    "    \"2024-05-01\",\n",
    "    timeseriesIdentifier= \"60ADB9853D5315E9E3C0D9D83B52988E192E0DE0\")"
   ]
  },
  {
   "cell_type": "markdown",
   "metadata": {},
   "source": [
    "convert to dataframe and plot"
   ]
  },
  {
   "cell_type": "code",
   "execution_count": null,
   "metadata": {},
   "outputs": [],
   "source": [
    "df = pandas.DataFrame(data)\n",
    "df[\"date\"] = pandas.to_datetime(df[\"date\"])\n",
    "df = df.set_index(\"date\")\n",
    "px.line(df.reset_index(), x=\"date\", y=\"value\")"
   ]
  },
  {
   "cell_type": "markdown",
   "metadata": {},
   "source": [
    "read timeseries identifiers from csv, retrieve data and plot together"
   ]
  },
  {
   "cell_type": "code",
   "execution_count": null,
   "metadata": {},
   "outputs": [],
   "source": [
    "stations = pandas.read_csv(\"data/ina_timeseries.csv\")\n",
    "df_list = []\n",
    "for index, row in stations.iterrows():\n",
    "    data = client.getData(\n",
    "        \"2023-01-01\",\n",
    "        \"2024-05-01\", \n",
    "        timeseriesIdentifier = row[\"timeseries_identifier\"])\n",
    "    df_ = pandas.DataFrame(data)\n",
    "    df_[\"station_name\"] = row[\"station_name\"]\n",
    "    df_list.append(df_)\n",
    "df = pandas.concat(df_list)\n",
    "px.line(df, x = \"date\", y = \"value\", color = \"station_name\")"
   ]
  }
 ],
 "metadata": {
  "kernelspec": {
   "display_name": "Python 3.10.12 ('whos_client': venv)",
   "language": "python",
   "name": "python3"
  },
  "language_info": {
   "codemirror_mode": {
    "name": "ipython",
    "version": 3
   },
   "file_extension": ".py",
   "mimetype": "text/x-python",
   "name": "python",
   "nbconvert_exporter": "python",
   "pygments_lexer": "ipython3",
   "version": "3.10.12"
  },
  "vscode": {
   "interpreter": {
    "hash": "8c58421cad43d359913c161b2f05d70563532a95f5d115ff1096dbbc7aa18333"
   }
  }
 },
 "nbformat": 4,
 "nbformat_minor": 2
}
