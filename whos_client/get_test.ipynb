{
 "cells": [
  {
   "cell_type": "code",
   "execution_count": 1,
   "metadata": {},
   "outputs": [],
   "source": [
    "from om_api_client import OmApiClient, timeseriesMetadataToDataFrame, featuresToDataFrame, featuresToGeoJSON\n",
    "import pandas\n",
    "import plotly.express as px\n",
    "import logging\n",
    "from datetime import datetime\n",
    "\n",
    "logger = logging.getLogger(__name__)\n",
    "logging.basicConfig(level=logging.DEBUG)"
   ]
  },
  {
   "cell_type": "markdown",
   "metadata": {},
   "source": [
    "parameters"
   ]
  },
  {
   "cell_type": "code",
   "execution_count": 2,
   "metadata": {},
   "outputs": [],
   "source": [
    "begin_date = \"1990-01-01\"\n",
    "end_date = str(datetime.now())[0:10]\n",
    "feature_id = \"FAAC49BA633EFF325BE5D2BA81BE14574A268ABA\"\n",
    "observation_identifiers_csv = \"data/ina_timeseries.csv\"\n",
    "observed_property = \"Discharge\"\n",
    "aggregation_duration = \"P1M\""
   ]
  },
  {
   "cell_type": "markdown",
   "metadata": {},
   "source": [
    "Instantiate client"
   ]
  },
  {
   "cell_type": "code",
   "execution_count": 3,
   "metadata": {},
   "outputs": [],
   "source": [
    "client = OmApiClient()"
   ]
  },
  {
   "cell_type": "markdown",
   "metadata": {},
   "source": [
    "retrieve timeseries using site and variable ids"
   ]
  },
  {
   "cell_type": "code",
   "execution_count": null,
   "metadata": {},
   "outputs": [],
   "source": [
    "\n",
    "ts_metadata = client.getTimeseries(\n",
    "    feature=feature_id,\n",
    "    observedProperty=observed_property,\n",
    "    aggregationDuration=aggregation_duration)"
   ]
  },
  {
   "cell_type": "markdown",
   "metadata": {},
   "source": [
    "Inspect metadata"
   ]
  },
  {
   "cell_type": "code",
   "execution_count": 5,
   "metadata": {},
   "outputs": [
    {
     "data": {
      "text/plain": [
       "3"
      ]
     },
     "execution_count": 5,
     "metadata": {},
     "output_type": "execute_result"
    }
   ],
   "source": [
    "len(ts_metadata[\"member\"])"
   ]
  },
  {
   "cell_type": "markdown",
   "metadata": {},
   "source": [
    "Select observation identifier"
   ]
  },
  {
   "cell_type": "code",
   "execution_count": 6,
   "metadata": {},
   "outputs": [],
   "source": [
    "observationIdentifier = ts_metadata[\"member\"][0][\"id\"]"
   ]
  },
  {
   "cell_type": "code",
   "execution_count": 7,
   "metadata": {},
   "outputs": [
    {
     "data": {
      "text/plain": [
       "'18EB307E3D1C45D3A2842D710A41001AB5083041'"
      ]
     },
     "execution_count": 7,
     "metadata": {},
     "output_type": "execute_result"
    }
   ],
   "source": [
    "observationIdentifier"
   ]
  },
  {
   "cell_type": "markdown",
   "metadata": {},
   "source": [
    "retrieve data"
   ]
  },
  {
   "cell_type": "code",
   "execution_count": null,
   "metadata": {},
   "outputs": [],
   "source": [
    "\n",
    "data = client.getData(\n",
    "    begin_date, \n",
    "    end_date,\n",
    "    observationIdentifier = observationIdentifier)"
   ]
  },
  {
   "cell_type": "markdown",
   "metadata": {},
   "source": [
    "convert to dataframe and plot"
   ]
  },
  {
   "cell_type": "code",
   "execution_count": 9,
   "metadata": {},
   "outputs": [
    {
     "data": {
      "application/vnd.plotly.v1+json": {
       "config": {
        "plotlyServerURL": "https://plot.ly"
       },
       "data": [
        {
         "hovertemplate": "date=%{x}<br>value=%{y}<extra></extra>",
         "legendgroup": "",
         "line": {
          "color": "#636efa",
          "dash": "solid"
         },
         "marker": {
          "symbol": "circle"
         },
         "mode": "lines",
         "name": "",
         "orientation": "v",
         "showlegend": false,
         "type": "scatter",
         "x": [
          "1994-07-01T03:00:00.000000000",
          "1994-08-01T03:00:00.000000000",
          "1994-09-01T03:00:00.000000000",
          "1994-10-01T03:00:00.000000000",
          "1994-11-01T03:00:00.000000000",
          "1994-12-01T03:00:00.000000000",
          "1995-01-01T03:00:00.000000000",
          "1995-02-01T03:00:00.000000000",
          "1995-03-01T03:00:00.000000000",
          "1995-04-01T03:00:00.000000000",
          "1995-05-01T03:00:00.000000000",
          "1995-06-01T03:00:00.000000000",
          "1995-07-01T03:00:00.000000000",
          "1995-08-01T03:00:00.000000000",
          "1995-09-01T03:00:00.000000000",
          "1995-10-01T03:00:00.000000000",
          "1995-11-01T03:00:00.000000000",
          "1995-12-01T03:00:00.000000000",
          "1996-01-01T03:00:00.000000000",
          "1996-02-01T03:00:00.000000000",
          "1996-03-01T03:00:00.000000000",
          "1996-04-01T03:00:00.000000000",
          "1996-05-01T03:00:00.000000000",
          "1996-06-01T03:00:00.000000000",
          "1996-07-01T03:00:00.000000000",
          "1996-08-01T03:00:00.000000000",
          "1996-09-01T03:00:00.000000000",
          "1996-10-01T03:00:00.000000000",
          "1996-11-01T03:00:00.000000000",
          "1996-12-01T03:00:00.000000000",
          "1997-01-01T03:00:00.000000000",
          "1997-02-01T03:00:00.000000000",
          "1997-03-01T03:00:00.000000000",
          "1997-04-01T03:00:00.000000000",
          "1997-05-01T03:00:00.000000000",
          "1997-06-01T03:00:00.000000000",
          "1997-07-01T03:00:00.000000000",
          "1997-08-01T03:00:00.000000000",
          "1997-09-01T03:00:00.000000000",
          "1997-10-01T03:00:00.000000000",
          "1997-11-01T03:00:00.000000000",
          "1997-12-01T03:00:00.000000000",
          "1998-01-01T03:00:00.000000000",
          "1998-02-01T03:00:00.000000000",
          "1998-03-01T03:00:00.000000000",
          "1998-04-01T03:00:00.000000000",
          "1998-05-01T03:00:00.000000000",
          "1998-06-01T03:00:00.000000000",
          "1998-07-01T03:00:00.000000000",
          "1998-08-01T03:00:00.000000000",
          "1998-09-01T03:00:00.000000000",
          "1998-10-01T03:00:00.000000000",
          "1998-11-01T03:00:00.000000000",
          "1998-12-01T03:00:00.000000000",
          "1999-01-01T03:00:00.000000000",
          "1999-02-01T03:00:00.000000000",
          "1999-03-01T03:00:00.000000000",
          "1999-04-01T03:00:00.000000000",
          "1999-05-01T03:00:00.000000000",
          "1999-06-01T03:00:00.000000000",
          "1999-07-01T03:00:00.000000000",
          "1999-08-01T03:00:00.000000000",
          "1999-09-01T03:00:00.000000000",
          "1999-10-01T03:00:00.000000000",
          "1999-11-01T03:00:00.000000000",
          "2000-01-01T03:00:00.000000000",
          "2000-02-01T03:00:00.000000000",
          "2000-03-01T03:00:00.000000000",
          "2000-04-01T03:00:00.000000000",
          "2000-05-01T03:00:00.000000000",
          "2000-06-01T03:00:00.000000000",
          "2000-07-01T03:00:00.000000000",
          "2000-08-01T03:00:00.000000000",
          "2000-09-01T03:00:00.000000000",
          "2000-10-01T03:00:00.000000000",
          "2000-11-01T03:00:00.000000000",
          "2000-12-01T03:00:00.000000000",
          "2001-01-01T03:00:00.000000000",
          "2001-02-01T03:00:00.000000000",
          "2001-03-01T03:00:00.000000000",
          "2001-04-01T03:00:00.000000000",
          "2001-05-01T03:00:00.000000000",
          "2001-06-01T03:00:00.000000000",
          "2001-07-01T03:00:00.000000000",
          "2001-08-01T03:00:00.000000000",
          "2001-09-01T03:00:00.000000000",
          "2001-10-01T03:00:00.000000000",
          "2001-11-01T03:00:00.000000000",
          "2001-12-01T03:00:00.000000000",
          "2002-01-01T03:00:00.000000000",
          "2002-02-01T03:00:00.000000000",
          "2002-03-01T03:00:00.000000000",
          "2002-04-01T03:00:00.000000000",
          "2002-05-01T03:00:00.000000000",
          "2002-06-01T03:00:00.000000000",
          "2002-07-01T03:00:00.000000000",
          "2002-08-01T03:00:00.000000000",
          "2002-09-01T03:00:00.000000000",
          "2002-10-01T03:00:00.000000000",
          "2002-11-01T03:00:00.000000000",
          "2002-12-01T03:00:00.000000000",
          "2003-01-01T03:00:00.000000000",
          "2003-02-01T03:00:00.000000000",
          "2003-03-01T03:00:00.000000000",
          "2003-04-01T03:00:00.000000000",
          "2003-05-01T03:00:00.000000000",
          "2003-06-01T03:00:00.000000000",
          "2003-07-01T03:00:00.000000000",
          "2003-08-01T03:00:00.000000000",
          "2003-09-01T03:00:00.000000000",
          "2003-10-01T03:00:00.000000000",
          "2003-11-01T03:00:00.000000000",
          "2003-12-01T03:00:00.000000000",
          "2004-01-01T03:00:00.000000000",
          "2004-02-01T03:00:00.000000000",
          "2004-03-01T03:00:00.000000000",
          "2004-04-01T03:00:00.000000000",
          "2004-05-01T03:00:00.000000000",
          "2004-06-01T03:00:00.000000000",
          "2004-07-01T03:00:00.000000000",
          "2004-08-01T03:00:00.000000000",
          "2004-09-01T03:00:00.000000000",
          "2004-10-01T03:00:00.000000000",
          "2004-11-01T03:00:00.000000000",
          "2004-12-01T03:00:00.000000000",
          "2005-01-01T03:00:00.000000000",
          "2005-02-01T03:00:00.000000000",
          "2005-03-01T03:00:00.000000000",
          "2005-04-01T03:00:00.000000000",
          "2005-05-01T03:00:00.000000000",
          "2005-06-01T03:00:00.000000000",
          "2005-07-01T03:00:00.000000000",
          "2005-08-01T03:00:00.000000000",
          "2005-09-01T03:00:00.000000000",
          "2005-10-01T03:00:00.000000000",
          "2005-11-01T03:00:00.000000000",
          "2005-12-01T03:00:00.000000000",
          "2006-01-01T03:00:00.000000000",
          "2006-02-01T03:00:00.000000000",
          "2006-03-01T03:00:00.000000000",
          "2006-04-01T03:00:00.000000000",
          "2006-05-01T03:00:00.000000000",
          "2006-06-01T03:00:00.000000000",
          "2006-07-01T03:00:00.000000000",
          "2006-08-01T03:00:00.000000000",
          "2006-09-01T03:00:00.000000000",
          "2006-10-01T03:00:00.000000000",
          "2006-11-01T03:00:00.000000000",
          "2006-12-01T03:00:00.000000000",
          "2007-01-01T03:00:00.000000000",
          "2007-02-01T03:00:00.000000000",
          "2007-03-01T03:00:00.000000000",
          "2007-04-01T03:00:00.000000000",
          "2007-05-01T03:00:00.000000000",
          "2007-06-01T03:00:00.000000000",
          "2007-07-01T03:00:00.000000000",
          "2007-08-01T03:00:00.000000000",
          "2007-09-01T03:00:00.000000000",
          "2007-10-01T03:00:00.000000000",
          "2007-11-01T03:00:00.000000000",
          "2007-12-01T03:00:00.000000000",
          "2008-01-01T02:00:00.000000000",
          "2008-02-01T02:00:00.000000000",
          "2008-03-01T02:00:00.000000000",
          "2008-04-01T03:00:00.000000000",
          "2008-05-01T03:00:00.000000000",
          "2008-06-01T03:00:00.000000000",
          "2008-07-01T03:00:00.000000000",
          "2008-08-01T03:00:00.000000000",
          "2008-09-01T03:00:00.000000000",
          "2008-10-01T03:00:00.000000000",
          "2008-11-01T02:00:00.000000000",
          "2008-12-01T02:00:00.000000000",
          "2009-01-01T02:00:00.000000000",
          "2009-02-01T02:00:00.000000000",
          "2009-03-01T02:00:00.000000000",
          "2009-04-01T03:00:00.000000000",
          "2009-05-01T03:00:00.000000000",
          "2009-06-01T03:00:00.000000000",
          "2009-07-01T03:00:00.000000000",
          "2009-08-01T03:00:00.000000000",
          "2009-09-01T03:00:00.000000000",
          "2009-10-01T03:00:00.000000000",
          "2009-11-01T03:00:00.000000000",
          "2009-12-01T03:00:00.000000000",
          "2010-01-01T03:00:00.000000000",
          "2010-02-01T03:00:00.000000000",
          "2010-03-01T03:00:00.000000000",
          "2010-04-01T03:00:00.000000000",
          "2010-05-01T03:00:00.000000000",
          "2010-06-01T03:00:00.000000000",
          "2010-07-01T03:00:00.000000000",
          "2010-08-01T03:00:00.000000000",
          "2010-09-01T03:00:00.000000000",
          "2010-10-01T03:00:00.000000000",
          "2010-11-01T03:00:00.000000000",
          "2010-12-01T03:00:00.000000000",
          "2011-01-01T03:00:00.000000000",
          "2011-02-01T03:00:00.000000000",
          "2011-03-01T03:00:00.000000000",
          "2011-04-01T03:00:00.000000000",
          "2011-05-01T03:00:00.000000000",
          "2011-06-01T03:00:00.000000000",
          "2011-07-01T03:00:00.000000000",
          "2011-08-01T03:00:00.000000000",
          "2011-09-01T03:00:00.000000000",
          "2011-10-01T03:00:00.000000000",
          "2011-11-01T03:00:00.000000000",
          "2011-12-01T03:00:00.000000000",
          "2012-01-01T03:00:00.000000000",
          "2012-02-01T03:00:00.000000000",
          "2012-03-01T03:00:00.000000000",
          "2012-04-01T03:00:00.000000000",
          "2012-05-01T03:00:00.000000000",
          "2012-06-01T03:00:00.000000000",
          "2012-07-01T03:00:00.000000000",
          "2012-08-01T03:00:00.000000000",
          "2012-09-01T03:00:00.000000000",
          "2012-10-01T03:00:00.000000000",
          "2012-11-01T03:00:00.000000000",
          "2012-12-01T03:00:00.000000000",
          "2013-01-01T03:00:00.000000000",
          "2013-02-01T03:00:00.000000000",
          "2013-03-01T03:00:00.000000000",
          "2013-04-01T03:00:00.000000000",
          "2013-05-01T03:00:00.000000000",
          "2013-06-01T03:00:00.000000000",
          "2013-07-01T03:00:00.000000000",
          "2013-08-01T03:00:00.000000000",
          "2013-09-01T03:00:00.000000000",
          "2013-10-01T03:00:00.000000000",
          "2013-11-01T03:00:00.000000000",
          "2013-12-01T03:00:00.000000000",
          "2014-01-01T03:00:00.000000000",
          "2014-02-01T03:00:00.000000000",
          "2014-03-01T03:00:00.000000000",
          "2014-04-01T03:00:00.000000000",
          "2014-05-01T03:00:00.000000000",
          "2014-06-01T03:00:00.000000000",
          "2014-07-01T03:00:00.000000000",
          "2014-08-01T03:00:00.000000000",
          "2014-09-01T03:00:00.000000000",
          "2014-10-01T03:00:00.000000000",
          "2014-11-01T03:00:00.000000000",
          "2014-12-01T03:00:00.000000000",
          "2015-01-01T03:00:00.000000000",
          "2015-02-01T03:00:00.000000000",
          "2015-03-01T03:00:00.000000000",
          "2015-04-01T03:00:00.000000000",
          "2015-05-01T03:00:00.000000000",
          "2015-06-01T03:00:00.000000000",
          "2015-07-01T03:00:00.000000000",
          "2015-08-01T03:00:00.000000000",
          "2015-09-01T03:00:00.000000000",
          "2015-10-01T03:00:00.000000000",
          "2015-11-01T03:00:00.000000000",
          "2015-12-01T03:00:00.000000000",
          "2016-01-01T03:00:00.000000000",
          "2016-02-01T03:00:00.000000000",
          "2016-03-01T03:00:00.000000000",
          "2016-04-01T03:00:00.000000000",
          "2016-05-01T03:00:00.000000000",
          "2016-06-01T03:00:00.000000000",
          "2016-07-01T03:00:00.000000000",
          "2016-08-01T03:00:00.000000000",
          "2016-09-01T03:00:00.000000000",
          "2016-10-01T03:00:00.000000000",
          "2016-11-01T03:00:00.000000000",
          "2016-12-01T03:00:00.000000000",
          "2017-01-01T03:00:00.000000000",
          "2017-02-01T03:00:00.000000000",
          "2017-03-01T03:00:00.000000000",
          "2017-04-01T03:00:00.000000000",
          "2017-05-01T03:00:00.000000000",
          "2017-06-01T03:00:00.000000000",
          "2017-07-01T03:00:00.000000000",
          "2017-08-01T03:00:00.000000000",
          "2017-09-01T03:00:00.000000000",
          "2017-10-01T03:00:00.000000000",
          "2017-11-01T03:00:00.000000000",
          "2017-12-01T03:00:00.000000000",
          "2018-01-01T03:00:00.000000000",
          "2018-02-01T03:00:00.000000000",
          "2018-03-01T03:00:00.000000000",
          "2018-04-01T03:00:00.000000000",
          "2018-05-01T03:00:00.000000000",
          "2018-06-01T03:00:00.000000000",
          "2018-07-01T03:00:00.000000000",
          "2018-08-01T03:00:00.000000000",
          "2018-09-01T03:00:00.000000000",
          "2018-10-01T03:00:00.000000000",
          "2018-11-01T03:00:00.000000000",
          "2018-12-01T03:00:00.000000000",
          "2019-01-01T03:00:00.000000000",
          "2019-02-01T03:00:00.000000000",
          "2019-03-01T03:00:00.000000000",
          "2019-04-01T03:00:00.000000000",
          "2019-05-01T03:00:00.000000000",
          "2019-06-01T03:00:00.000000000",
          "2019-07-01T03:00:00.000000000",
          "2019-08-01T03:00:00.000000000",
          "2019-09-01T03:00:00.000000000",
          "2019-10-01T03:00:00.000000000",
          "2019-11-01T03:00:00.000000000",
          "2019-12-01T03:00:00.000000000",
          "2020-01-01T03:00:00.000000000",
          "2020-02-01T03:00:00.000000000",
          "2020-03-01T03:00:00.000000000",
          "2020-04-01T03:00:00.000000000",
          "2020-05-01T03:00:00.000000000",
          "2020-06-01T03:00:00.000000000",
          "2020-07-01T03:00:00.000000000",
          "2020-08-01T03:00:00.000000000",
          "2020-09-01T03:00:00.000000000",
          "2020-10-01T03:00:00.000000000",
          "2020-11-01T03:00:00.000000000",
          "2020-12-01T03:00:00.000000000",
          "2021-01-01T03:00:00.000000000",
          "2021-02-01T03:00:00.000000000",
          "2021-03-01T03:00:00.000000000",
          "2021-04-01T03:00:00.000000000",
          "2021-05-01T03:00:00.000000000",
          "2021-06-01T03:00:00.000000000",
          "2021-07-01T03:00:00.000000000",
          "2021-08-01T03:00:00.000000000",
          "2021-09-01T03:00:00.000000000",
          "2021-10-01T03:00:00.000000000",
          "2021-11-01T03:00:00.000000000",
          "2021-12-01T03:00:00.000000000",
          "2022-01-01T03:00:00.000000000",
          "2022-02-01T03:00:00.000000000",
          "2022-03-01T03:00:00.000000000",
          "2022-04-01T03:00:00.000000000",
          "2022-05-01T03:00:00.000000000",
          "2022-06-01T03:00:00.000000000",
          "2022-07-01T03:00:00.000000000",
          "2022-08-01T03:00:00.000000000",
          "2022-09-01T03:00:00.000000000",
          "2022-10-01T03:00:00.000000000"
         ],
         "xaxis": "x",
         "y": {
          "bdata": "KDwAAMQ7AADYQAAAcEkAAMRUAAC8NAAAsIEAACxlAABYZgAAik0AAKZAAAAsMwAArD8AANovAAC4PQAAsE8AAGw5AAA4MQAAsE8AALBPAAA0UwAASFgAAAwwAAC8NAAAbDkAAAwwAABMNgAAmGwAACxMAAD4XAAAlHUAADiVAADAVAAA1DAAABw+AACIXgAAkEwAAPhcAABcRAAAMHUAAIRnAADQUgAAeFAAABhgAAB8YAAAZJYAABiSAAAEQgAAVT8AAOVrAADUYgAARHoAAHRZAABMNgAA0FIAAIROAADsRQAAREgAAIA+AAAsTAAAFFAAAIQ1AAB4NwAAFDcAAAAyAABkMgAAFDcAALA2AAAgNQAAhDUAALA2AACwNgAA3DcAAFRWAABoWwAAPEEAAJg6AABoQgAAcGIAAIBXAABgOwAAbDkAAAg5AABwMAAARC8AAJQqAAB8RwAAIDUAANw3AABgVAAAYFQAAPRMAAD8OgAAHFcAAIw8AAA4MQAA0DkAAGw5AAAoPAAAmDoAAGBUAABgOwAA8FUAAHhQAAA0OgAAmDoAACA1AABELwAA1DAAAAAyAAB4NwAAQDgAALhWAAA0OgAAyDIAAJAzAAAUNwAAZEsAAABLAAB8RwAAbDkAAHAwAAAsTAAA0FIAAPw6AAA8WgAA+FwAALw0AADQOQAANDoAAHBJAABAOAAAODEAAPw6AAAYYAAAnGMAAPhDAAA0OgAAsDYAALRGAADwPAAALDMAACA1AABYNAAAODEAADQ6AAC4PQAA/DoAAPRMAADgYAAARGEAADhjAACsWAAAnGMAAMQ7AAB4NwAA8DwAAFg0AADcNwAAREgAAGA7AABAOAAAIDUAAIQ1AAAYRwAAaEIAAPw6AABYNAAAtEYAAPQzAACoSAAAnEoAAKBBAACwNgAAbDkAALg9AABYNAAAhDUAAJAzAABIPwAAwEQAAChVAAA0hQAASFgAAGRkAAAobgAAgHAAABxXAAC4bwAAOGMAABBAAAB0QAAAvDQAALA2AADARAAAFDcAAKBaAABQRgAARGEAAJBlAAA8WgAAjDwAAOg1AAA4SgAAUF8AAABLAAB8RwAAtEYAAJg6AAB0QAAAaEIAAFg0AACENQAAsDYAALRfAADUSQAAHD4AAOg1AABUPQAAzEIAAHxHAADARAAABEIAAAhSAADgRwAAaEIAAMiWAADcggAA5D4AALA2AAD4QwAAYDsAABw+AADkPgAASD8AAPA8AACcSgAAmFMAACyXAADIZAAAgD4AAHRZAACEZwAA0DkAAGA7AAB4UAAACDkAACg8AABwMAAAkDMAALw0AAB4aQAA0DkAAMgyAAB0QAAAdHIAABSCAABodAAA5HAAABh5AACIRQAAzEIAAPBVAADwPAAAqEgAAEg/AABIPwAABEIAAHRAAACkOAAABEIAAMxCAABgVAAAsE8AAPBVAAAgNQAATDYAALA2AAA0UwAAdFkAAIhFAAA0bAAAoEEAAHxHAABQRgAAyDIAAFwrAAAAMgAALDMAAPQzAAC0RgAAsE8AAJg6AADwPAAAyDIAABBAAADoNQAAHD4AABQ3AABELwAA2CcAABguAAAwKgAA7CwAAHwuAAD0MwAALDMAAFAtAACwHQAAtC0AAIwjAACoLwAAUC0AALQtAADsLAAASCYAAFwrAAAQQAAAZEsAADAqAABgIgAAMCoAACwaAACwHQAATB0AAOQlAACcMQAAwCsAABwlAABUJAAATB0AAMwpAABsOQAACDkAABBAAACAJQAAtC0AAKQ4AAC4VgAA",
          "dtype": "i4"
         },
         "yaxis": "y"
        }
       ],
       "layout": {
        "legend": {
         "tracegroupgap": 0
        },
        "margin": {
         "t": 60
        },
        "template": {
         "data": {
          "bar": [
           {
            "error_x": {
             "color": "#2a3f5f"
            },
            "error_y": {
             "color": "#2a3f5f"
            },
            "marker": {
             "line": {
              "color": "#E5ECF6",
              "width": 0.5
             },
             "pattern": {
              "fillmode": "overlay",
              "size": 10,
              "solidity": 0.2
             }
            },
            "type": "bar"
           }
          ],
          "barpolar": [
           {
            "marker": {
             "line": {
              "color": "#E5ECF6",
              "width": 0.5
             },
             "pattern": {
              "fillmode": "overlay",
              "size": 10,
              "solidity": 0.2
             }
            },
            "type": "barpolar"
           }
          ],
          "carpet": [
           {
            "aaxis": {
             "endlinecolor": "#2a3f5f",
             "gridcolor": "white",
             "linecolor": "white",
             "minorgridcolor": "white",
             "startlinecolor": "#2a3f5f"
            },
            "baxis": {
             "endlinecolor": "#2a3f5f",
             "gridcolor": "white",
             "linecolor": "white",
             "minorgridcolor": "white",
             "startlinecolor": "#2a3f5f"
            },
            "type": "carpet"
           }
          ],
          "choropleth": [
           {
            "colorbar": {
             "outlinewidth": 0,
             "ticks": ""
            },
            "type": "choropleth"
           }
          ],
          "contour": [
           {
            "colorbar": {
             "outlinewidth": 0,
             "ticks": ""
            },
            "colorscale": [
             [
              0,
              "#0d0887"
             ],
             [
              0.1111111111111111,
              "#46039f"
             ],
             [
              0.2222222222222222,
              "#7201a8"
             ],
             [
              0.3333333333333333,
              "#9c179e"
             ],
             [
              0.4444444444444444,
              "#bd3786"
             ],
             [
              0.5555555555555556,
              "#d8576b"
             ],
             [
              0.6666666666666666,
              "#ed7953"
             ],
             [
              0.7777777777777778,
              "#fb9f3a"
             ],
             [
              0.8888888888888888,
              "#fdca26"
             ],
             [
              1,
              "#f0f921"
             ]
            ],
            "type": "contour"
           }
          ],
          "contourcarpet": [
           {
            "colorbar": {
             "outlinewidth": 0,
             "ticks": ""
            },
            "type": "contourcarpet"
           }
          ],
          "heatmap": [
           {
            "colorbar": {
             "outlinewidth": 0,
             "ticks": ""
            },
            "colorscale": [
             [
              0,
              "#0d0887"
             ],
             [
              0.1111111111111111,
              "#46039f"
             ],
             [
              0.2222222222222222,
              "#7201a8"
             ],
             [
              0.3333333333333333,
              "#9c179e"
             ],
             [
              0.4444444444444444,
              "#bd3786"
             ],
             [
              0.5555555555555556,
              "#d8576b"
             ],
             [
              0.6666666666666666,
              "#ed7953"
             ],
             [
              0.7777777777777778,
              "#fb9f3a"
             ],
             [
              0.8888888888888888,
              "#fdca26"
             ],
             [
              1,
              "#f0f921"
             ]
            ],
            "type": "heatmap"
           }
          ],
          "histogram": [
           {
            "marker": {
             "pattern": {
              "fillmode": "overlay",
              "size": 10,
              "solidity": 0.2
             }
            },
            "type": "histogram"
           }
          ],
          "histogram2d": [
           {
            "colorbar": {
             "outlinewidth": 0,
             "ticks": ""
            },
            "colorscale": [
             [
              0,
              "#0d0887"
             ],
             [
              0.1111111111111111,
              "#46039f"
             ],
             [
              0.2222222222222222,
              "#7201a8"
             ],
             [
              0.3333333333333333,
              "#9c179e"
             ],
             [
              0.4444444444444444,
              "#bd3786"
             ],
             [
              0.5555555555555556,
              "#d8576b"
             ],
             [
              0.6666666666666666,
              "#ed7953"
             ],
             [
              0.7777777777777778,
              "#fb9f3a"
             ],
             [
              0.8888888888888888,
              "#fdca26"
             ],
             [
              1,
              "#f0f921"
             ]
            ],
            "type": "histogram2d"
           }
          ],
          "histogram2dcontour": [
           {
            "colorbar": {
             "outlinewidth": 0,
             "ticks": ""
            },
            "colorscale": [
             [
              0,
              "#0d0887"
             ],
             [
              0.1111111111111111,
              "#46039f"
             ],
             [
              0.2222222222222222,
              "#7201a8"
             ],
             [
              0.3333333333333333,
              "#9c179e"
             ],
             [
              0.4444444444444444,
              "#bd3786"
             ],
             [
              0.5555555555555556,
              "#d8576b"
             ],
             [
              0.6666666666666666,
              "#ed7953"
             ],
             [
              0.7777777777777778,
              "#fb9f3a"
             ],
             [
              0.8888888888888888,
              "#fdca26"
             ],
             [
              1,
              "#f0f921"
             ]
            ],
            "type": "histogram2dcontour"
           }
          ],
          "mesh3d": [
           {
            "colorbar": {
             "outlinewidth": 0,
             "ticks": ""
            },
            "type": "mesh3d"
           }
          ],
          "parcoords": [
           {
            "line": {
             "colorbar": {
              "outlinewidth": 0,
              "ticks": ""
             }
            },
            "type": "parcoords"
           }
          ],
          "pie": [
           {
            "automargin": true,
            "type": "pie"
           }
          ],
          "scatter": [
           {
            "fillpattern": {
             "fillmode": "overlay",
             "size": 10,
             "solidity": 0.2
            },
            "type": "scatter"
           }
          ],
          "scatter3d": [
           {
            "line": {
             "colorbar": {
              "outlinewidth": 0,
              "ticks": ""
             }
            },
            "marker": {
             "colorbar": {
              "outlinewidth": 0,
              "ticks": ""
             }
            },
            "type": "scatter3d"
           }
          ],
          "scattercarpet": [
           {
            "marker": {
             "colorbar": {
              "outlinewidth": 0,
              "ticks": ""
             }
            },
            "type": "scattercarpet"
           }
          ],
          "scattergeo": [
           {
            "marker": {
             "colorbar": {
              "outlinewidth": 0,
              "ticks": ""
             }
            },
            "type": "scattergeo"
           }
          ],
          "scattergl": [
           {
            "marker": {
             "colorbar": {
              "outlinewidth": 0,
              "ticks": ""
             }
            },
            "type": "scattergl"
           }
          ],
          "scattermap": [
           {
            "marker": {
             "colorbar": {
              "outlinewidth": 0,
              "ticks": ""
             }
            },
            "type": "scattermap"
           }
          ],
          "scattermapbox": [
           {
            "marker": {
             "colorbar": {
              "outlinewidth": 0,
              "ticks": ""
             }
            },
            "type": "scattermapbox"
           }
          ],
          "scatterpolar": [
           {
            "marker": {
             "colorbar": {
              "outlinewidth": 0,
              "ticks": ""
             }
            },
            "type": "scatterpolar"
           }
          ],
          "scatterpolargl": [
           {
            "marker": {
             "colorbar": {
              "outlinewidth": 0,
              "ticks": ""
             }
            },
            "type": "scatterpolargl"
           }
          ],
          "scatterternary": [
           {
            "marker": {
             "colorbar": {
              "outlinewidth": 0,
              "ticks": ""
             }
            },
            "type": "scatterternary"
           }
          ],
          "surface": [
           {
            "colorbar": {
             "outlinewidth": 0,
             "ticks": ""
            },
            "colorscale": [
             [
              0,
              "#0d0887"
             ],
             [
              0.1111111111111111,
              "#46039f"
             ],
             [
              0.2222222222222222,
              "#7201a8"
             ],
             [
              0.3333333333333333,
              "#9c179e"
             ],
             [
              0.4444444444444444,
              "#bd3786"
             ],
             [
              0.5555555555555556,
              "#d8576b"
             ],
             [
              0.6666666666666666,
              "#ed7953"
             ],
             [
              0.7777777777777778,
              "#fb9f3a"
             ],
             [
              0.8888888888888888,
              "#fdca26"
             ],
             [
              1,
              "#f0f921"
             ]
            ],
            "type": "surface"
           }
          ],
          "table": [
           {
            "cells": {
             "fill": {
              "color": "#EBF0F8"
             },
             "line": {
              "color": "white"
             }
            },
            "header": {
             "fill": {
              "color": "#C8D4E3"
             },
             "line": {
              "color": "white"
             }
            },
            "type": "table"
           }
          ]
         },
         "layout": {
          "annotationdefaults": {
           "arrowcolor": "#2a3f5f",
           "arrowhead": 0,
           "arrowwidth": 1
          },
          "autotypenumbers": "strict",
          "coloraxis": {
           "colorbar": {
            "outlinewidth": 0,
            "ticks": ""
           }
          },
          "colorscale": {
           "diverging": [
            [
             0,
             "#8e0152"
            ],
            [
             0.1,
             "#c51b7d"
            ],
            [
             0.2,
             "#de77ae"
            ],
            [
             0.3,
             "#f1b6da"
            ],
            [
             0.4,
             "#fde0ef"
            ],
            [
             0.5,
             "#f7f7f7"
            ],
            [
             0.6,
             "#e6f5d0"
            ],
            [
             0.7,
             "#b8e186"
            ],
            [
             0.8,
             "#7fbc41"
            ],
            [
             0.9,
             "#4d9221"
            ],
            [
             1,
             "#276419"
            ]
           ],
           "sequential": [
            [
             0,
             "#0d0887"
            ],
            [
             0.1111111111111111,
             "#46039f"
            ],
            [
             0.2222222222222222,
             "#7201a8"
            ],
            [
             0.3333333333333333,
             "#9c179e"
            ],
            [
             0.4444444444444444,
             "#bd3786"
            ],
            [
             0.5555555555555556,
             "#d8576b"
            ],
            [
             0.6666666666666666,
             "#ed7953"
            ],
            [
             0.7777777777777778,
             "#fb9f3a"
            ],
            [
             0.8888888888888888,
             "#fdca26"
            ],
            [
             1,
             "#f0f921"
            ]
           ],
           "sequentialminus": [
            [
             0,
             "#0d0887"
            ],
            [
             0.1111111111111111,
             "#46039f"
            ],
            [
             0.2222222222222222,
             "#7201a8"
            ],
            [
             0.3333333333333333,
             "#9c179e"
            ],
            [
             0.4444444444444444,
             "#bd3786"
            ],
            [
             0.5555555555555556,
             "#d8576b"
            ],
            [
             0.6666666666666666,
             "#ed7953"
            ],
            [
             0.7777777777777778,
             "#fb9f3a"
            ],
            [
             0.8888888888888888,
             "#fdca26"
            ],
            [
             1,
             "#f0f921"
            ]
           ]
          },
          "colorway": [
           "#636efa",
           "#EF553B",
           "#00cc96",
           "#ab63fa",
           "#FFA15A",
           "#19d3f3",
           "#FF6692",
           "#B6E880",
           "#FF97FF",
           "#FECB52"
          ],
          "font": {
           "color": "#2a3f5f"
          },
          "geo": {
           "bgcolor": "white",
           "lakecolor": "white",
           "landcolor": "#E5ECF6",
           "showlakes": true,
           "showland": true,
           "subunitcolor": "white"
          },
          "hoverlabel": {
           "align": "left"
          },
          "hovermode": "closest",
          "mapbox": {
           "style": "light"
          },
          "paper_bgcolor": "white",
          "plot_bgcolor": "#E5ECF6",
          "polar": {
           "angularaxis": {
            "gridcolor": "white",
            "linecolor": "white",
            "ticks": ""
           },
           "bgcolor": "#E5ECF6",
           "radialaxis": {
            "gridcolor": "white",
            "linecolor": "white",
            "ticks": ""
           }
          },
          "scene": {
           "xaxis": {
            "backgroundcolor": "#E5ECF6",
            "gridcolor": "white",
            "gridwidth": 2,
            "linecolor": "white",
            "showbackground": true,
            "ticks": "",
            "zerolinecolor": "white"
           },
           "yaxis": {
            "backgroundcolor": "#E5ECF6",
            "gridcolor": "white",
            "gridwidth": 2,
            "linecolor": "white",
            "showbackground": true,
            "ticks": "",
            "zerolinecolor": "white"
           },
           "zaxis": {
            "backgroundcolor": "#E5ECF6",
            "gridcolor": "white",
            "gridwidth": 2,
            "linecolor": "white",
            "showbackground": true,
            "ticks": "",
            "zerolinecolor": "white"
           }
          },
          "shapedefaults": {
           "line": {
            "color": "#2a3f5f"
           }
          },
          "ternary": {
           "aaxis": {
            "gridcolor": "white",
            "linecolor": "white",
            "ticks": ""
           },
           "baxis": {
            "gridcolor": "white",
            "linecolor": "white",
            "ticks": ""
           },
           "bgcolor": "#E5ECF6",
           "caxis": {
            "gridcolor": "white",
            "linecolor": "white",
            "ticks": ""
           }
          },
          "title": {
           "x": 0.05
          },
          "xaxis": {
           "automargin": true,
           "gridcolor": "white",
           "linecolor": "white",
           "ticks": "",
           "title": {
            "standoff": 15
           },
           "zerolinecolor": "white",
           "zerolinewidth": 2
          },
          "yaxis": {
           "automargin": true,
           "gridcolor": "white",
           "linecolor": "white",
           "ticks": "",
           "title": {
            "standoff": 15
           },
           "zerolinecolor": "white",
           "zerolinewidth": 2
          }
         }
        },
        "xaxis": {
         "anchor": "y",
         "domain": [
          0,
          1
         ],
         "title": {
          "text": "date"
         }
        },
        "yaxis": {
         "anchor": "x",
         "domain": [
          0,
          1
         ],
         "title": {
          "text": "value"
         }
        }
       }
      }
     },
     "metadata": {},
     "output_type": "display_data"
    }
   ],
   "source": [
    "df = pandas.DataFrame(data)\n",
    "df[\"date\"] = pandas.to_datetime(df[\"date\"])\n",
    "df = df.set_index(\"date\")\n",
    "px.line(df.reset_index(), x=\"date\", y=\"value\")"
   ]
  },
  {
   "cell_type": "markdown",
   "metadata": {},
   "source": [
    "read observation identifiers from csv, retrieve data and plot together"
   ]
  },
  {
   "cell_type": "code",
   "execution_count": 12,
   "metadata": {},
   "outputs": [],
   "source": [
    "from io import StringIO\n",
    "csv_data = \"\"\"stream,station_name,station_id,variable,ObservationId\n",
    "URUGUAY,Paso de los Libres,72,monthly discharge,8272678FE72DB91CD511E653099DB3219DEE615B\n",
    "URUGUAY,Santo Tomé,68,monthly discharge,18A95E501B2C4EEC191BE2215D87DDF107AF8A42\n",
    "URUGUAY,San Javier,65,monthly discharge,9DB2FD5D21BE8FFDF36B699E3CC607CD98FFFB03\n",
    "PARANA,Paraná,29,monthly discharge,B569750A1B728AB62D03460068CF80CCCD011D13\n",
    "PARANA,Santa Fe,30,monthly discharge,97A1C9210A637D94FB29B5BACB0500E0F353AB04\n",
    "PARANA,Barranqueras,20,monthly discharge,24F40961A057CE7DC723EE86BBA3B39729F03CBC\n",
    "\"\"\"\n",
    "stations = pandas.read_csv(StringIO(csv_data))\n"
   ]
  },
  {
   "cell_type": "code",
   "execution_count": null,
   "metadata": {},
   "outputs": [],
   "source": [
    "df_batch = client.getDataBatch(\n",
    "        begin_date,\n",
    "        end_date,\n",
    "        observationIdentifiers = stations,\n",
    "        recursive = False\n",
    ")\n",
    "\n",
    "px.line(df_batch, x = \"date\", y = \"value\", color = \"ObservationId\")"
   ]
  },
  {
   "cell_type": "markdown",
   "metadata": {},
   "source": [
    "get metadata first page"
   ]
  },
  {
   "cell_type": "code",
   "execution_count": null,
   "metadata": {},
   "outputs": [],
   "source": [
    "ts_metadata = client.getTimeseries(\n",
    "    observedProperty=observed_property,\n",
    "    limit=50)\n",
    "ts_metadata.keys()"
   ]
  },
  {
   "cell_type": "code",
   "execution_count": 17,
   "metadata": {},
   "outputs": [
    {
     "data": {
      "text/plain": [
       "50"
      ]
     },
     "execution_count": 17,
     "metadata": {},
     "output_type": "execute_result"
    }
   ],
   "source": [
    "len(ts_metadata[\"member\"]) # 50"
   ]
  },
  {
   "cell_type": "code",
   "execution_count": 18,
   "metadata": {},
   "outputs": [
    {
     "data": {
      "text/plain": [
       "False"
      ]
     },
     "execution_count": 18,
     "metadata": {},
     "output_type": "execute_result"
    }
   ],
   "source": [
    "ts_metadata[\"completed\"] # False"
   ]
  },
  {
   "cell_type": "markdown",
   "metadata": {},
   "source": [
    "get metadata all pages"
   ]
  },
  {
   "cell_type": "code",
   "execution_count": null,
   "metadata": {},
   "outputs": [],
   "source": [
    "ts_metadata = client.getTimeseriesWithPagination(\n",
    "    observedProperty=observed_property,\n",
    "    limit=50)\n",
    "len(ts_metadata[\"member\"]) #  > 50"
   ]
  },
  {
   "cell_type": "code",
   "execution_count": 20,
   "metadata": {},
   "outputs": [
    {
     "data": {
      "text/plain": [
       "{'parameter': [{'name': 'source',\n",
       "   'value': 'Argentina, Instituto Nacional del Agua (INA)'},\n",
       "  {'name': 'sourceId', 'value': 'argentina-ina'},\n",
       "  {'name': 'observedPropertyDefinition',\n",
       "   'value': 'Discharge Data type: Continuous Value type: Derived Value Units: metros cúbicos por segundo Units type: Flow Unit abbreviation:  No data value: -9999 Speciation:'},\n",
       "  {'name': 'originalObservedProperty', 'value': 'Discharge'}],\n",
       " 'observedProperty': {'href': 'http://hydro.geodab.eu/hydro-ontology/concept/78',\n",
       "  'title': 'Discharge, stream'},\n",
       " 'phenomenonTime': {'end': '2020-08-31T03:00:00Z',\n",
       "  'begin': '2020-08-06T03:00:00Z'},\n",
       " 'featureOfInterest': {'href': '00D3297FBC6A70359AC9C78EC0A56AE2EBBD8B6C'},\n",
       " 'id': '04CE047C0DF5A150C3FD9F7FD9B75F7E6098EFC9',\n",
       " 'type': 'TimeSeriesObservation',\n",
       " 'result': {'metadata': {},\n",
       "  'defaultPointMetadata': {'uom': 'metros cúbicos por segundo',\n",
       "   'interpolationType': {'href': 'http://www.opengis.net/def/waterml/2.0/interpolationType/Continuous',\n",
       "    'title': 'Continuous/Instantaneous'}},\n",
       "  'points': []}}"
      ]
     },
     "execution_count": 20,
     "metadata": {},
     "output_type": "execute_result"
    }
   ],
   "source": [
    "ts_metadata[\"member\"][0]"
   ]
  },
  {
   "cell_type": "code",
   "execution_count": 21,
   "metadata": {},
   "outputs": [
    {
     "data": {
      "application/vnd.microsoft.datawrangler.viewer.v0+json": {
       "columns": [
        {
         "name": "index",
         "rawType": "int64",
         "type": "integer"
        },
        {
         "name": "sourceId",
         "rawType": "object",
         "type": "string"
        },
        {
         "name": "observedProperty",
         "rawType": "object",
         "type": "string"
        },
        {
         "name": "beginDate",
         "rawType": "object",
         "type": "string"
        },
        {
         "name": "endDate",
         "rawType": "object",
         "type": "string"
        },
        {
         "name": "featureId",
         "rawType": "object",
         "type": "string"
        },
        {
         "name": "ObservationId",
         "rawType": "object",
         "type": "string"
        },
        {
         "name": "uom",
         "rawType": "object",
         "type": "string"
        },
        {
         "name": "interpolationType",
         "rawType": "object",
         "type": "string"
        },
        {
         "name": "aggregationDuration",
         "rawType": "object",
         "type": "unknown"
        }
       ],
       "ref": "80ddfbbf-e757-4857-9487-6e1218ad7a30",
       "rows": [
        [
         "0",
         "argentina-ina",
         "Discharge, stream",
         "2020-08-06T03:00:00Z",
         "2020-08-31T03:00:00Z",
         "00D3297FBC6A70359AC9C78EC0A56AE2EBBD8B6C",
         "04CE047C0DF5A150C3FD9F7FD9B75F7E6098EFC9",
         "metros cúbicos por segundo",
         "Continuous/Instantaneous",
         null
        ],
        [
         "1",
         "argentina-ina",
         "Discharge, stream",
         "2020-08-01T03:00:00Z",
         "2020-08-01T03:00:00Z",
         "00D3297FBC6A70359AC9C78EC0A56AE2EBBD8B6C",
         "33DC6C9A6EC6777C8C1E57391C0539749DC40BE3",
         "metros cúbicos por segundo",
         "Average in succeeding interval",
         "P1M"
        ],
        [
         "2",
         "argentina-ina",
         "Discharge, stream",
         "2020-08-01T03:00:00Z",
         "2020-08-01T03:00:00Z",
         "00D3297FBC6A70359AC9C78EC0A56AE2EBBD8B6C",
         "363201EC2149C679D5A7A65C126916A13FABDD5D",
         "metros cúbicos por segundo",
         "Average in succeeding interval",
         "P1M"
        ],
        [
         "3",
         "argentina-ina",
         "Discharge, stream",
         "2020-08-06T03:00:00Z",
         "2020-08-31T03:00:00Z",
         "00D3297FBC6A70359AC9C78EC0A56AE2EBBD8B6C",
         "68DA7DC5CB959B851B4461E8CA6A875790B8F919",
         "metros cúbicos por segundo",
         "Average in succeeding interval",
         "P1D"
        ],
        [
         "4",
         "argentina-ina",
         "Discharge, stream",
         "2020-08-01T03:00:00Z",
         "2020-08-01T03:00:00Z",
         "00D3297FBC6A70359AC9C78EC0A56AE2EBBD8B6C",
         "D170EC5D1100F30D913E60AE223E44DDDCCC7078",
         "metros cúbicos por segundo",
         "Average in succeeding interval",
         "P1M"
        ]
       ],
       "shape": {
        "columns": 9,
        "rows": 5
       }
      },
      "text/html": [
       "<div>\n",
       "<style scoped>\n",
       "    .dataframe tbody tr th:only-of-type {\n",
       "        vertical-align: middle;\n",
       "    }\n",
       "\n",
       "    .dataframe tbody tr th {\n",
       "        vertical-align: top;\n",
       "    }\n",
       "\n",
       "    .dataframe thead th {\n",
       "        text-align: right;\n",
       "    }\n",
       "</style>\n",
       "<table border=\"1\" class=\"dataframe\">\n",
       "  <thead>\n",
       "    <tr style=\"text-align: right;\">\n",
       "      <th></th>\n",
       "      <th>sourceId</th>\n",
       "      <th>observedProperty</th>\n",
       "      <th>beginDate</th>\n",
       "      <th>endDate</th>\n",
       "      <th>featureId</th>\n",
       "      <th>ObservationId</th>\n",
       "      <th>uom</th>\n",
       "      <th>interpolationType</th>\n",
       "      <th>aggregationDuration</th>\n",
       "    </tr>\n",
       "  </thead>\n",
       "  <tbody>\n",
       "    <tr>\n",
       "      <th>0</th>\n",
       "      <td>argentina-ina</td>\n",
       "      <td>Discharge, stream</td>\n",
       "      <td>2020-08-06T03:00:00Z</td>\n",
       "      <td>2020-08-31T03:00:00Z</td>\n",
       "      <td>00D3297FBC6A70359AC9C78EC0A56AE2EBBD8B6C</td>\n",
       "      <td>04CE047C0DF5A150C3FD9F7FD9B75F7E6098EFC9</td>\n",
       "      <td>metros cúbicos por segundo</td>\n",
       "      <td>Continuous/Instantaneous</td>\n",
       "      <td>None</td>\n",
       "    </tr>\n",
       "    <tr>\n",
       "      <th>1</th>\n",
       "      <td>argentina-ina</td>\n",
       "      <td>Discharge, stream</td>\n",
       "      <td>2020-08-01T03:00:00Z</td>\n",
       "      <td>2020-08-01T03:00:00Z</td>\n",
       "      <td>00D3297FBC6A70359AC9C78EC0A56AE2EBBD8B6C</td>\n",
       "      <td>33DC6C9A6EC6777C8C1E57391C0539749DC40BE3</td>\n",
       "      <td>metros cúbicos por segundo</td>\n",
       "      <td>Average in succeeding interval</td>\n",
       "      <td>P1M</td>\n",
       "    </tr>\n",
       "    <tr>\n",
       "      <th>2</th>\n",
       "      <td>argentina-ina</td>\n",
       "      <td>Discharge, stream</td>\n",
       "      <td>2020-08-01T03:00:00Z</td>\n",
       "      <td>2020-08-01T03:00:00Z</td>\n",
       "      <td>00D3297FBC6A70359AC9C78EC0A56AE2EBBD8B6C</td>\n",
       "      <td>363201EC2149C679D5A7A65C126916A13FABDD5D</td>\n",
       "      <td>metros cúbicos por segundo</td>\n",
       "      <td>Average in succeeding interval</td>\n",
       "      <td>P1M</td>\n",
       "    </tr>\n",
       "    <tr>\n",
       "      <th>3</th>\n",
       "      <td>argentina-ina</td>\n",
       "      <td>Discharge, stream</td>\n",
       "      <td>2020-08-06T03:00:00Z</td>\n",
       "      <td>2020-08-31T03:00:00Z</td>\n",
       "      <td>00D3297FBC6A70359AC9C78EC0A56AE2EBBD8B6C</td>\n",
       "      <td>68DA7DC5CB959B851B4461E8CA6A875790B8F919</td>\n",
       "      <td>metros cúbicos por segundo</td>\n",
       "      <td>Average in succeeding interval</td>\n",
       "      <td>P1D</td>\n",
       "    </tr>\n",
       "    <tr>\n",
       "      <th>4</th>\n",
       "      <td>argentina-ina</td>\n",
       "      <td>Discharge, stream</td>\n",
       "      <td>2020-08-01T03:00:00Z</td>\n",
       "      <td>2020-08-01T03:00:00Z</td>\n",
       "      <td>00D3297FBC6A70359AC9C78EC0A56AE2EBBD8B6C</td>\n",
       "      <td>D170EC5D1100F30D913E60AE223E44DDDCCC7078</td>\n",
       "      <td>metros cúbicos por segundo</td>\n",
       "      <td>Average in succeeding interval</td>\n",
       "      <td>P1M</td>\n",
       "    </tr>\n",
       "  </tbody>\n",
       "</table>\n",
       "</div>"
      ],
      "text/plain": [
       "        sourceId   observedProperty             beginDate  \\\n",
       "0  argentina-ina  Discharge, stream  2020-08-06T03:00:00Z   \n",
       "1  argentina-ina  Discharge, stream  2020-08-01T03:00:00Z   \n",
       "2  argentina-ina  Discharge, stream  2020-08-01T03:00:00Z   \n",
       "3  argentina-ina  Discharge, stream  2020-08-06T03:00:00Z   \n",
       "4  argentina-ina  Discharge, stream  2020-08-01T03:00:00Z   \n",
       "\n",
       "                endDate                                 featureId  \\\n",
       "0  2020-08-31T03:00:00Z  00D3297FBC6A70359AC9C78EC0A56AE2EBBD8B6C   \n",
       "1  2020-08-01T03:00:00Z  00D3297FBC6A70359AC9C78EC0A56AE2EBBD8B6C   \n",
       "2  2020-08-01T03:00:00Z  00D3297FBC6A70359AC9C78EC0A56AE2EBBD8B6C   \n",
       "3  2020-08-31T03:00:00Z  00D3297FBC6A70359AC9C78EC0A56AE2EBBD8B6C   \n",
       "4  2020-08-01T03:00:00Z  00D3297FBC6A70359AC9C78EC0A56AE2EBBD8B6C   \n",
       "\n",
       "                              ObservationId                         uom  \\\n",
       "0  04CE047C0DF5A150C3FD9F7FD9B75F7E6098EFC9  metros cúbicos por segundo   \n",
       "1  33DC6C9A6EC6777C8C1E57391C0539749DC40BE3  metros cúbicos por segundo   \n",
       "2  363201EC2149C679D5A7A65C126916A13FABDD5D  metros cúbicos por segundo   \n",
       "3  68DA7DC5CB959B851B4461E8CA6A875790B8F919  metros cúbicos por segundo   \n",
       "4  D170EC5D1100F30D913E60AE223E44DDDCCC7078  metros cúbicos por segundo   \n",
       "\n",
       "                interpolationType aggregationDuration  \n",
       "0        Continuous/Instantaneous                None  \n",
       "1  Average in succeeding interval                 P1M  \n",
       "2  Average in succeeding interval                 P1M  \n",
       "3  Average in succeeding interval                 P1D  \n",
       "4  Average in succeeding interval                 P1M  "
      ]
     },
     "execution_count": 21,
     "metadata": {},
     "output_type": "execute_result"
    }
   ],
   "source": [
    "df_ts = timeseriesMetadataToDataFrame(ts_metadata)\n",
    "df_ts.head(5)"
   ]
  },
  {
   "cell_type": "markdown",
   "metadata": {},
   "source": [
    "get features first page"
   ]
  },
  {
   "cell_type": "code",
   "execution_count": null,
   "metadata": {},
   "outputs": [],
   "source": [
    "features = client.getFeatures(\n",
    "    observedProperty=observed_property,\n",
    "    limit=50)\n",
    "features.keys()"
   ]
  },
  {
   "cell_type": "code",
   "execution_count": 23,
   "metadata": {},
   "outputs": [
    {
     "data": {
      "text/plain": [
       "50"
      ]
     },
     "execution_count": 23,
     "metadata": {},
     "output_type": "execute_result"
    }
   ],
   "source": [
    "len(features[\"results\"])"
   ]
  },
  {
   "cell_type": "markdown",
   "metadata": {},
   "source": [
    "get features with pagination"
   ]
  },
  {
   "cell_type": "code",
   "execution_count": null,
   "metadata": {},
   "outputs": [],
   "source": [
    "features = client.getFeaturesWithPagination(\n",
    "    observedProperty=observed_property,\n",
    "    limit=50)\n",
    "len(features[\"results\"])"
   ]
  },
  {
   "cell_type": "code",
   "execution_count": 25,
   "metadata": {},
   "outputs": [
    {
     "data": {
      "text/plain": [
       "{'shape': {'coordinates': [-57.938011, -31.273969], 'type': 'Point'},\n",
       " 'parameter': [{'name': 'country', 'value': 'Argentina'},\n",
       "  {'name': 'source', 'value': 'Argentina, Instituto Nacional del Agua (INA)'},\n",
       "  {'name': 'sourceId', 'value': 'argentina-ina'},\n",
       "  {'name': 'identifier', 'value': 'argentina-ina:alturas_prefe:89'}],\n",
       " 'name': 'Aporte Salto Grande',\n",
       " 'id': '00D3297FBC6A70359AC9C78EC0A56AE2EBBD8B6C',\n",
       " 'relatedParty': []}"
      ]
     },
     "execution_count": 25,
     "metadata": {},
     "output_type": "execute_result"
    }
   ],
   "source": [
    "features[\"results\"][0]"
   ]
  },
  {
   "cell_type": "code",
   "execution_count": 26,
   "metadata": {},
   "outputs": [
    {
     "data": {
      "application/vnd.microsoft.datawrangler.viewer.v0+json": {
       "columns": [
        {
         "name": "index",
         "rawType": "int64",
         "type": "integer"
        },
        {
         "name": "longitude",
         "rawType": "float64",
         "type": "float"
        },
        {
         "name": "latitude",
         "rawType": "float64",
         "type": "float"
        },
        {
         "name": "country",
         "rawType": "object",
         "type": "string"
        },
        {
         "name": "sourceId",
         "rawType": "object",
         "type": "string"
        },
        {
         "name": "identifier",
         "rawType": "object",
         "type": "string"
        },
        {
         "name": "name",
         "rawType": "object",
         "type": "string"
        },
        {
         "name": "id",
         "rawType": "object",
         "type": "string"
        },
        {
         "name": "author",
         "rawType": "object",
         "type": "unknown"
        }
       ],
       "ref": "e28c3e92-ba17-468c-a723-4db0ee9bc9bf",
       "rows": [
        [
         "0",
         "-57.938011",
         "-31.273969",
         "Argentina",
         "argentina-ina",
         "argentina-ina:alturas_prefe:89",
         "Aporte Salto Grande",
         "00D3297FBC6A70359AC9C78EC0A56AE2EBBD8B6C",
         null
        ],
        [
         "1",
         "-60.7805555555556",
         "-31.4912222222222",
         "Argentina",
         "argentina-ina",
         "argentina-ina:alturas_bdhi:103",
         "Recreo - Ruta Provincial nº 70",
         "02E07E2F72A815E237B7896D79BC68193EF3A0A6",
         null
        ],
        [
         "2",
         "-58.5583333333333",
         "-28.995",
         "Argentina",
         "argentina-ina",
         "argentina-ina:sat2:2832",
         "Corriente - Paso Lucero",
         "083988DC8C2E39D6E0C82B296A857F6A088B8028",
         null
        ],
        [
         "3",
         "-57.6333333333333",
         "-30.25",
         "Argentina",
         "argentina-ina",
         "argentina-ina:alturas_prefe:74",
         "Monte Caseros",
         "0DF4C4284AA14E0A545C0F855B4F6FF558693CEE",
         null
        ],
        [
         "4",
         "-55.8833333333333",
         "-27.3666666666667",
         "Argentina",
         "argentina-ina",
         "argentina-ina:alturas_prefe:14",
         "Posadas",
         "23137FB463C0902450418E9E2F0D38C719419AA9",
         null
        ],
        [
         "5",
         "-54.7563333333333",
         "-26.75075",
         "Argentina",
         "argentina-ina",
         "argentina-ina:alturas_bdhi:2038",
         "Paranay - El Alcazar",
         "255B2448BEBEAF022A54211BB36BAE67020214E8",
         null
        ],
        [
         "6",
         "-59.0768055555556",
         "-32.3085",
         "Argentina",
         "argentina-ina",
         "argentina-ina:alturas_bdhi:2",
         "Rosario del Tala",
         "2F12488193F66939384E07C2FD757FDAF2781D52",
         null
        ],
        [
         "7",
         "-59.1783333333333",
         "-34.5894444444444",
         "Argentina",
         "argentina-ina",
         "argentina-ina:sat2:2128",
         "Lujan - Lujan",
         "329BB00817E03FB6C1E86BF7625BA824692C9A95",
         null
        ],
        [
         "8",
         "-56.727244",
         "-27.482557",
         "Argentina",
         "argentina-ina",
         "argentina-ina:alturas_prefe:87",
         "Yacyretá afluente",
         "329E5E2914B19DB23520D64DFA541CC83DE345F2",
         null
        ],
        [
         "9",
         "-59.2172222222222",
         "-29.7572222222222",
         "Argentina",
         "argentina-ina",
         "argentina-ina:sat2:2199",
         "Corrientes - Los Laureles",
         "33D8EF13796FA55AD42D54A54EF43D6DEB4CB529",
         null
        ],
        [
         "10",
         "-54.621134",
         "-25.916679",
         "Argentina",
         "argentina-ina",
         "argentina-ina:alturas_prefe:10",
         "Libertad",
         "3437B9EF80504B6A2526BF065B78AB9DAE4BD857",
         null
        ],
        [
         "11",
         "-59.1261111111111",
         "-31.8016666666667",
         "Argentina",
         "argentina-ina",
         "argentina-ina:sat2:2205",
         "Gualeguay - Villaguay",
         "3A2D53454064685F479B74B6C5B3EAA289DE5E00",
         null
        ],
        [
         "12",
         "-60.5175",
         "-31.72",
         "Argentina",
         "argentina-ina",
         "argentina-ina:sat2:5901",
         "Paraná - Túnel subfluvial",
         "3B33C316B7F67D28C04C8D2E9EAC6C92BBE00C89",
         null
        ],
        [
         "13",
         "-60.7002319185745",
         "-31.6514772196376",
         "Argentina",
         "argentina-ina",
         "argentina-ina:alturas_prefe:30",
         "Santa Fe",
         "3D6199412BFA3DFEAB30DD9E0E4C7EEFEB6DECE1",
         null
        ],
        [
         "14",
         "-59.3625",
         "-26.3341666666667",
         "Argentina",
         "argentina-ina",
         "argentina-ina:sat2:2188",
         "Bermejo - El Colorado",
         "45355E7831EFFB569CCF606A8FD84B353C8F69B3",
         null
        ],
        [
         "15",
         "-54.593363",
         "-25.592701",
         "Argentina",
         "argentina-ina",
         "argentina-ina:alturas_prefe:93",
         "Confluencia",
         "4638148B18E69F759A31CF738A0B4EA1FC93408D",
         null
        ],
        [
         "16",
         "-60.6020555555556",
         "-31.6611388888889",
         "Argentina",
         "argentina-ina",
         "argentina-ina:alturas_bdhi:122",
         "Ruta Nacional nº 168",
         "4E5049353F84838B543263F28350F3F6F0AFBF1A",
         null
        ],
        [
         "17",
         "-58.1833333333333",
         "-26.1833333333333",
         "Argentina",
         "argentina-ina",
         "argentina-ina:alturas_prefe:57",
         "Puerto Formosa",
         "588230A4E9F7E8B48E57262B53FC4BBE511DB6D6",
         null
        ],
        [
         "18",
         "-57.0833333333333",
         "-29.7166666666667",
         "Argentina",
         "argentina-ina",
         "argentina-ina:alturas_prefe:72",
         "Paso de los Libres",
         "5D4AF2886B4D79302D1F3F2EE3F33420865A2411",
         null
        ],
        [
         "19",
         "-60.6779722222222",
         "-31.6301388888889",
         "Argentina",
         "argentina-ina",
         "argentina-ina:alturas_bdhi:5910",
         "SANTA FE - LA GUARDIA",
         "63DD9E8DB77A8371D6FABDFA8547EC752158FB47",
         null
        ],
        [
         "20",
         "-55.1333333333333",
         "-27.8833333333333",
         "Argentina",
         "argentina-ina",
         "argentina-ina:alturas_prefe:65",
         "San Javier",
         "670DBE1488487406B9BFA7BBC32FFE83EF34D28B",
         null
        ],
        [
         "21",
         "-53.995",
         "-25.5905555555556",
         "Argentina",
         "argentina-ina",
         "argentina-ina:sat2:2178",
         "Iguazú - Puerto Andresito",
         "6E40C41DBA2529CC4BC79B5E8AEF9AF086FF6C6E",
         null
        ],
        [
         "22",
         "-54.2",
         "-27.3",
         "Argentina",
         "argentina-ina",
         "argentina-ina:alturas_prefe:61",
         "El Soberbio",
         "7040838B6BB402DAAA03931F9AEC8113C897D73A",
         null
        ],
        [
         "23",
         "-55.129216",
         "-27.869343",
         "Argentina",
         "argentina-ina",
         "argentina-ina:estaciones_salto_grande:1037",
         "San Javier",
         "71227700C171EA106BD1E29BDF29E908F5C171B2",
         null
        ],
        [
         "24",
         "-59.0108657589595",
         "-34.0987818311696",
         "Argentina",
         "argentina-ina",
         "argentina-ina:alturas_prefe:40",
         "Zárate",
         "74B2BA23C3119E3A6F5FEDDE2538CF0A71C9B9D1",
         null
        ],
        [
         "25",
         "-59.6497183332918",
         "-33.6745267329027",
         "Argentina",
         "argentina-ina",
         "argentina-ina:alturas_prefe:38",
         "San Pedro",
         "7FE2C8C2F189385DC638AFB4B76D3A2B8092490E",
         null
        ],
        [
         "26",
         "-59.3624166666667",
         "-26.3342777777778",
         "Argentina",
         "argentina-ina",
         "argentina-ina:alturas_bdhi:2046",
         "El Colorado",
         "8572EAAB24A7E531577CC4B33DDE3162F1F1EE36",
         null
        ],
        [
         "27",
         "-54.4982222222222",
         "-26.355",
         "Argentina",
         "argentina-ina",
         "argentina-ina:alturas_bdhi:2025",
         "Piray Miní - Valle Hermoso",
         "88C535C1C4EB5C1726ADACBEDAE9E7C3EB070964",
         null
        ],
        [
         "28",
         "-59.8169444444444",
         "-34.3519444444444",
         "Argentina",
         "argentina-ina",
         "argentina-ina:sat2:6544",
         "Areco - Carmen de Areco",
         "8EF9E5A4E887BC671B7F76937DA7316AF5DC02CA",
         null
        ],
        [
         "29",
         "-55.642269",
         "-28.177515",
         "Argentina",
         "argentina-ina",
         "argentina-ina:estaciones_salto_grande:1035",
         "Garruchos",
         "94BF5172735BD48140FA057F615CA5ABB466EFE3",
         null
        ],
        [
         "30",
         "-57.674446",
         "-29.845637",
         "Argentina",
         "argentina-ina",
         "argentina-ina:estaciones_salto_grande:1063",
         "Miriñay Río",
         "9CD72E34F30922F23250F08D6BB878E9D8B99B41",
         null
        ],
        [
         "31",
         "-58.9333333333333",
         "-27.4833333333333",
         "Argentina",
         "argentina-ina",
         "argentina-ina:alturas_prefe:20",
         "Barranqueras",
         "A0B3D2485864049356783CD1DE136A84768E9284",
         null
        ],
        [
         "32",
         "-57.936945",
         "-31.27547",
         "Argentina",
         "argentina-ina",
         "argentina-ina:alturas_prefe:78",
         "Salto Grande Abajo",
         "ACDBC2528E4886B90A5EE42C12B561ADAD76C29C",
         null
        ],
        [
         "33",
         "-57.938011",
         "-31.273969",
         "Argentina",
         "argentina-ina",
         "argentina-ina:alturas_prefe:90",
         "Erogado Salto Grande",
         "B1FE1C7BE118E005E0134B246EB5086DC6C61A6A",
         null
        ],
        [
         "34",
         "-56.258444444",
         "-27.824527778",
         "Argentina",
         "argentina-ina",
         "argentina-ina:alturas_bdhi:2070",
         "Aguapey - Caa Caraí",
         "B38D3131C4A20CAF19650A608203326E72FAC085",
         null
        ],
        [
         "35",
         "-58.5070277777778",
         "-26.9258888888889",
         "Argentina",
         "argentina-ina",
         "argentina-ina:alturas_bdhi:2101",
         "Paraguay - Puerto Bermejo",
         "B426678B2EB554336B4DC9FDB4AA4DD25EF440BC",
         null
        ],
        [
         "36",
         "-57.65",
         "-25.3666666666667",
         "Argentina",
         "argentina-ina",
         "argentina-ina:alturas_prefe:55",
         "Puerto Pilcomayo",
         "B76F89BC3A30F644310F1CC4C611C7EA6047DA7A",
         null
        ],
        [
         "37",
         "-56.0333333333333",
         "-28.55",
         "Argentina",
         "argentina-ina",
         "argentina-ina:alturas_prefe:68",
         "Santo Tomé",
         "C2C298DAC1EBB179763E064D213E671B4B199F42",
         null
        ],
        [
         "38",
         "-58.2443055555556",
         "-27.26625",
         "Argentina",
         "argentina-ina",
         "argentina-ina:alturas_bdhi:2082",
         "Paraná - Itatí",
         "C5E647BB1FA659FBB88DDAB2E5581195093E2444",
         null
        ],
        [
         "39",
         "-60.5175277777778",
         "-31.7198611111111",
         "Argentina",
         "argentina-ina",
         "argentina-ina:alturas_bdhi:2049",
         "Paraná - Tunel Subfluvial",
         "C8D5E819285EFC1C9FB01A27D5620EED446673D7",
         null
        ],
        [
         "40",
         "-60.6308206029857",
         "-32.9432699442268",
         "Argentina",
         "argentina-ina",
         "argentina-ina:alturas_prefe:34",
         "Rosario",
         "CCA40036EDCA13FB4BCBE1305FC3EF866E8CF015",
         null
        ],
        [
         "41",
         "-53.9833333333333",
         "-25.5833333333333",
         "Argentina",
         "argentina-ina",
         "argentina-ina:alturas_prefe:8",
         "Andresito",
         "CFD04512F2051C00F5CFD00C4DE766399684B033",
         null
        ],
        [
         "42",
         "-54.193437",
         "-27.298582",
         "Argentina",
         "argentina-ina",
         "argentina-ina:estaciones_salto_grande:1038",
         "El Soberbio",
         "D144E7C427EDC3B96B90FB792EA5AB808BD7DA83",
         null
        ],
        [
         "43",
         "-60.5225697750899",
         "-31.7182378629681",
         "Argentina",
         "argentina-ina",
         "argentina-ina:alturas_prefe:29",
         "Paraná",
         "D35B4E539A4840513F23C64F15BE89333B7488D7",
         null
        ],
        [
         "44",
         "-55.65",
         "-28.1833333333333",
         "Argentina",
         "argentina-ina",
         "argentina-ina:alturas_prefe:67",
         "Garruchos",
         "D37C942BC102184B654894014701E8C9C82E7C3D",
         null
        ],
        [
         "45",
         "-57.6503055555556",
         "-25.372",
         "Argentina",
         "argentina-ina",
         "argentina-ina:alturas_bdhi:2047",
         "Pilcomayo - Puerto Pilcomayo",
         "D6942570E3BED83AE612AC2914D26DB36A063211",
         null
        ],
        [
         "46",
         "-54.5666666666667",
         "-25.5833333333333",
         "Argentina",
         "argentina-ina",
         "argentina-ina:alturas_prefe:9",
         "Puerto Iguazú",
         "D72E4C7C36119D3899C5C78BD12ACD8D81B842FC",
         null
        ],
        [
         "47",
         "-58.9",
         "-33.8833333333",
         "Argentina",
         "argentina-ina",
         "argentina-ina:alturas_prefe:97",
         "Brazo Largo",
         "DAF0D6DEB5D95AD250E57D4A314B0C35C86B987E",
         null
        ],
        [
         "48",
         "-58.24407387",
         "-27.26677773",
         "Argentina",
         "argentina-ina",
         "argentina-ina:alturas_prefe:17",
         "Itatí",
         "DD7287DE57DFAD2B69C2D99C2B72BDA7450E952C",
         null
        ],
        [
         "49",
         "-54.4538333333333",
         "-26.512",
         "Argentina",
         "argentina-ina",
         "argentina-ina:alturas_bdhi:2026",
         "Piray Guazú - Pinar Ciba",
         "DE2D70022F8FB5A30D5B8D27721996CE5029F47E",
         null
        ]
       ],
       "shape": {
        "columns": 8,
        "rows": 58
       }
      },
      "text/html": [
       "<div>\n",
       "<style scoped>\n",
       "    .dataframe tbody tr th:only-of-type {\n",
       "        vertical-align: middle;\n",
       "    }\n",
       "\n",
       "    .dataframe tbody tr th {\n",
       "        vertical-align: top;\n",
       "    }\n",
       "\n",
       "    .dataframe thead th {\n",
       "        text-align: right;\n",
       "    }\n",
       "</style>\n",
       "<table border=\"1\" class=\"dataframe\">\n",
       "  <thead>\n",
       "    <tr style=\"text-align: right;\">\n",
       "      <th></th>\n",
       "      <th>longitude</th>\n",
       "      <th>latitude</th>\n",
       "      <th>country</th>\n",
       "      <th>sourceId</th>\n",
       "      <th>identifier</th>\n",
       "      <th>name</th>\n",
       "      <th>id</th>\n",
       "      <th>author</th>\n",
       "    </tr>\n",
       "  </thead>\n",
       "  <tbody>\n",
       "    <tr>\n",
       "      <th>0</th>\n",
       "      <td>-57.938011</td>\n",
       "      <td>-31.273969</td>\n",
       "      <td>Argentina</td>\n",
       "      <td>argentina-ina</td>\n",
       "      <td>argentina-ina:alturas_prefe:89</td>\n",
       "      <td>Aporte Salto Grande</td>\n",
       "      <td>00D3297FBC6A70359AC9C78EC0A56AE2EBBD8B6C</td>\n",
       "      <td>None</td>\n",
       "    </tr>\n",
       "    <tr>\n",
       "      <th>1</th>\n",
       "      <td>-60.780556</td>\n",
       "      <td>-31.491222</td>\n",
       "      <td>Argentina</td>\n",
       "      <td>argentina-ina</td>\n",
       "      <td>argentina-ina:alturas_bdhi:103</td>\n",
       "      <td>Recreo - Ruta Provincial nº 70</td>\n",
       "      <td>02E07E2F72A815E237B7896D79BC68193EF3A0A6</td>\n",
       "      <td>None</td>\n",
       "    </tr>\n",
       "    <tr>\n",
       "      <th>2</th>\n",
       "      <td>-58.558333</td>\n",
       "      <td>-28.995000</td>\n",
       "      <td>Argentina</td>\n",
       "      <td>argentina-ina</td>\n",
       "      <td>argentina-ina:sat2:2832</td>\n",
       "      <td>Corriente - Paso Lucero</td>\n",
       "      <td>083988DC8C2E39D6E0C82B296A857F6A088B8028</td>\n",
       "      <td>None</td>\n",
       "    </tr>\n",
       "    <tr>\n",
       "      <th>3</th>\n",
       "      <td>-57.633333</td>\n",
       "      <td>-30.250000</td>\n",
       "      <td>Argentina</td>\n",
       "      <td>argentina-ina</td>\n",
       "      <td>argentina-ina:alturas_prefe:74</td>\n",
       "      <td>Monte Caseros</td>\n",
       "      <td>0DF4C4284AA14E0A545C0F855B4F6FF558693CEE</td>\n",
       "      <td>None</td>\n",
       "    </tr>\n",
       "    <tr>\n",
       "      <th>4</th>\n",
       "      <td>-55.883333</td>\n",
       "      <td>-27.366667</td>\n",
       "      <td>Argentina</td>\n",
       "      <td>argentina-ina</td>\n",
       "      <td>argentina-ina:alturas_prefe:14</td>\n",
       "      <td>Posadas</td>\n",
       "      <td>23137FB463C0902450418E9E2F0D38C719419AA9</td>\n",
       "      <td>None</td>\n",
       "    </tr>\n",
       "    <tr>\n",
       "      <th>5</th>\n",
       "      <td>-54.756333</td>\n",
       "      <td>-26.750750</td>\n",
       "      <td>Argentina</td>\n",
       "      <td>argentina-ina</td>\n",
       "      <td>argentina-ina:alturas_bdhi:2038</td>\n",
       "      <td>Paranay - El Alcazar</td>\n",
       "      <td>255B2448BEBEAF022A54211BB36BAE67020214E8</td>\n",
       "      <td>None</td>\n",
       "    </tr>\n",
       "    <tr>\n",
       "      <th>6</th>\n",
       "      <td>-59.076806</td>\n",
       "      <td>-32.308500</td>\n",
       "      <td>Argentina</td>\n",
       "      <td>argentina-ina</td>\n",
       "      <td>argentina-ina:alturas_bdhi:2</td>\n",
       "      <td>Rosario del Tala</td>\n",
       "      <td>2F12488193F66939384E07C2FD757FDAF2781D52</td>\n",
       "      <td>None</td>\n",
       "    </tr>\n",
       "    <tr>\n",
       "      <th>7</th>\n",
       "      <td>-59.178333</td>\n",
       "      <td>-34.589444</td>\n",
       "      <td>Argentina</td>\n",
       "      <td>argentina-ina</td>\n",
       "      <td>argentina-ina:sat2:2128</td>\n",
       "      <td>Lujan - Lujan</td>\n",
       "      <td>329BB00817E03FB6C1E86BF7625BA824692C9A95</td>\n",
       "      <td>None</td>\n",
       "    </tr>\n",
       "    <tr>\n",
       "      <th>8</th>\n",
       "      <td>-56.727244</td>\n",
       "      <td>-27.482557</td>\n",
       "      <td>Argentina</td>\n",
       "      <td>argentina-ina</td>\n",
       "      <td>argentina-ina:alturas_prefe:87</td>\n",
       "      <td>Yacyretá afluente</td>\n",
       "      <td>329E5E2914B19DB23520D64DFA541CC83DE345F2</td>\n",
       "      <td>None</td>\n",
       "    </tr>\n",
       "    <tr>\n",
       "      <th>9</th>\n",
       "      <td>-59.217222</td>\n",
       "      <td>-29.757222</td>\n",
       "      <td>Argentina</td>\n",
       "      <td>argentina-ina</td>\n",
       "      <td>argentina-ina:sat2:2199</td>\n",
       "      <td>Corrientes - Los Laureles</td>\n",
       "      <td>33D8EF13796FA55AD42D54A54EF43D6DEB4CB529</td>\n",
       "      <td>None</td>\n",
       "    </tr>\n",
       "    <tr>\n",
       "      <th>10</th>\n",
       "      <td>-54.621134</td>\n",
       "      <td>-25.916679</td>\n",
       "      <td>Argentina</td>\n",
       "      <td>argentina-ina</td>\n",
       "      <td>argentina-ina:alturas_prefe:10</td>\n",
       "      <td>Libertad</td>\n",
       "      <td>3437B9EF80504B6A2526BF065B78AB9DAE4BD857</td>\n",
       "      <td>None</td>\n",
       "    </tr>\n",
       "    <tr>\n",
       "      <th>11</th>\n",
       "      <td>-59.126111</td>\n",
       "      <td>-31.801667</td>\n",
       "      <td>Argentina</td>\n",
       "      <td>argentina-ina</td>\n",
       "      <td>argentina-ina:sat2:2205</td>\n",
       "      <td>Gualeguay - Villaguay</td>\n",
       "      <td>3A2D53454064685F479B74B6C5B3EAA289DE5E00</td>\n",
       "      <td>None</td>\n",
       "    </tr>\n",
       "    <tr>\n",
       "      <th>12</th>\n",
       "      <td>-60.517500</td>\n",
       "      <td>-31.720000</td>\n",
       "      <td>Argentina</td>\n",
       "      <td>argentina-ina</td>\n",
       "      <td>argentina-ina:sat2:5901</td>\n",
       "      <td>Paraná - Túnel subfluvial</td>\n",
       "      <td>3B33C316B7F67D28C04C8D2E9EAC6C92BBE00C89</td>\n",
       "      <td>None</td>\n",
       "    </tr>\n",
       "    <tr>\n",
       "      <th>13</th>\n",
       "      <td>-60.700232</td>\n",
       "      <td>-31.651477</td>\n",
       "      <td>Argentina</td>\n",
       "      <td>argentina-ina</td>\n",
       "      <td>argentina-ina:alturas_prefe:30</td>\n",
       "      <td>Santa Fe</td>\n",
       "      <td>3D6199412BFA3DFEAB30DD9E0E4C7EEFEB6DECE1</td>\n",
       "      <td>None</td>\n",
       "    </tr>\n",
       "    <tr>\n",
       "      <th>14</th>\n",
       "      <td>-59.362500</td>\n",
       "      <td>-26.334167</td>\n",
       "      <td>Argentina</td>\n",
       "      <td>argentina-ina</td>\n",
       "      <td>argentina-ina:sat2:2188</td>\n",
       "      <td>Bermejo - El Colorado</td>\n",
       "      <td>45355E7831EFFB569CCF606A8FD84B353C8F69B3</td>\n",
       "      <td>None</td>\n",
       "    </tr>\n",
       "    <tr>\n",
       "      <th>15</th>\n",
       "      <td>-54.593363</td>\n",
       "      <td>-25.592701</td>\n",
       "      <td>Argentina</td>\n",
       "      <td>argentina-ina</td>\n",
       "      <td>argentina-ina:alturas_prefe:93</td>\n",
       "      <td>Confluencia</td>\n",
       "      <td>4638148B18E69F759A31CF738A0B4EA1FC93408D</td>\n",
       "      <td>None</td>\n",
       "    </tr>\n",
       "    <tr>\n",
       "      <th>16</th>\n",
       "      <td>-60.602056</td>\n",
       "      <td>-31.661139</td>\n",
       "      <td>Argentina</td>\n",
       "      <td>argentina-ina</td>\n",
       "      <td>argentina-ina:alturas_bdhi:122</td>\n",
       "      <td>Ruta Nacional nº 168</td>\n",
       "      <td>4E5049353F84838B543263F28350F3F6F0AFBF1A</td>\n",
       "      <td>None</td>\n",
       "    </tr>\n",
       "    <tr>\n",
       "      <th>17</th>\n",
       "      <td>-58.183333</td>\n",
       "      <td>-26.183333</td>\n",
       "      <td>Argentina</td>\n",
       "      <td>argentina-ina</td>\n",
       "      <td>argentina-ina:alturas_prefe:57</td>\n",
       "      <td>Puerto Formosa</td>\n",
       "      <td>588230A4E9F7E8B48E57262B53FC4BBE511DB6D6</td>\n",
       "      <td>None</td>\n",
       "    </tr>\n",
       "    <tr>\n",
       "      <th>18</th>\n",
       "      <td>-57.083333</td>\n",
       "      <td>-29.716667</td>\n",
       "      <td>Argentina</td>\n",
       "      <td>argentina-ina</td>\n",
       "      <td>argentina-ina:alturas_prefe:72</td>\n",
       "      <td>Paso de los Libres</td>\n",
       "      <td>5D4AF2886B4D79302D1F3F2EE3F33420865A2411</td>\n",
       "      <td>None</td>\n",
       "    </tr>\n",
       "    <tr>\n",
       "      <th>19</th>\n",
       "      <td>-60.677972</td>\n",
       "      <td>-31.630139</td>\n",
       "      <td>Argentina</td>\n",
       "      <td>argentina-ina</td>\n",
       "      <td>argentina-ina:alturas_bdhi:5910</td>\n",
       "      <td>SANTA FE - LA GUARDIA</td>\n",
       "      <td>63DD9E8DB77A8371D6FABDFA8547EC752158FB47</td>\n",
       "      <td>None</td>\n",
       "    </tr>\n",
       "    <tr>\n",
       "      <th>20</th>\n",
       "      <td>-55.133333</td>\n",
       "      <td>-27.883333</td>\n",
       "      <td>Argentina</td>\n",
       "      <td>argentina-ina</td>\n",
       "      <td>argentina-ina:alturas_prefe:65</td>\n",
       "      <td>San Javier</td>\n",
       "      <td>670DBE1488487406B9BFA7BBC32FFE83EF34D28B</td>\n",
       "      <td>None</td>\n",
       "    </tr>\n",
       "    <tr>\n",
       "      <th>21</th>\n",
       "      <td>-53.995000</td>\n",
       "      <td>-25.590556</td>\n",
       "      <td>Argentina</td>\n",
       "      <td>argentina-ina</td>\n",
       "      <td>argentina-ina:sat2:2178</td>\n",
       "      <td>Iguazú - Puerto Andresito</td>\n",
       "      <td>6E40C41DBA2529CC4BC79B5E8AEF9AF086FF6C6E</td>\n",
       "      <td>None</td>\n",
       "    </tr>\n",
       "    <tr>\n",
       "      <th>22</th>\n",
       "      <td>-54.200000</td>\n",
       "      <td>-27.300000</td>\n",
       "      <td>Argentina</td>\n",
       "      <td>argentina-ina</td>\n",
       "      <td>argentina-ina:alturas_prefe:61</td>\n",
       "      <td>El Soberbio</td>\n",
       "      <td>7040838B6BB402DAAA03931F9AEC8113C897D73A</td>\n",
       "      <td>None</td>\n",
       "    </tr>\n",
       "    <tr>\n",
       "      <th>23</th>\n",
       "      <td>-55.129216</td>\n",
       "      <td>-27.869343</td>\n",
       "      <td>Argentina</td>\n",
       "      <td>argentina-ina</td>\n",
       "      <td>argentina-ina:estaciones_salto_grande:1037</td>\n",
       "      <td>San Javier</td>\n",
       "      <td>71227700C171EA106BD1E29BDF29E908F5C171B2</td>\n",
       "      <td>None</td>\n",
       "    </tr>\n",
       "    <tr>\n",
       "      <th>24</th>\n",
       "      <td>-59.010866</td>\n",
       "      <td>-34.098782</td>\n",
       "      <td>Argentina</td>\n",
       "      <td>argentina-ina</td>\n",
       "      <td>argentina-ina:alturas_prefe:40</td>\n",
       "      <td>Zárate</td>\n",
       "      <td>74B2BA23C3119E3A6F5FEDDE2538CF0A71C9B9D1</td>\n",
       "      <td>None</td>\n",
       "    </tr>\n",
       "    <tr>\n",
       "      <th>25</th>\n",
       "      <td>-59.649718</td>\n",
       "      <td>-33.674527</td>\n",
       "      <td>Argentina</td>\n",
       "      <td>argentina-ina</td>\n",
       "      <td>argentina-ina:alturas_prefe:38</td>\n",
       "      <td>San Pedro</td>\n",
       "      <td>7FE2C8C2F189385DC638AFB4B76D3A2B8092490E</td>\n",
       "      <td>None</td>\n",
       "    </tr>\n",
       "    <tr>\n",
       "      <th>26</th>\n",
       "      <td>-59.362417</td>\n",
       "      <td>-26.334278</td>\n",
       "      <td>Argentina</td>\n",
       "      <td>argentina-ina</td>\n",
       "      <td>argentina-ina:alturas_bdhi:2046</td>\n",
       "      <td>El Colorado</td>\n",
       "      <td>8572EAAB24A7E531577CC4B33DDE3162F1F1EE36</td>\n",
       "      <td>None</td>\n",
       "    </tr>\n",
       "    <tr>\n",
       "      <th>27</th>\n",
       "      <td>-54.498222</td>\n",
       "      <td>-26.355000</td>\n",
       "      <td>Argentina</td>\n",
       "      <td>argentina-ina</td>\n",
       "      <td>argentina-ina:alturas_bdhi:2025</td>\n",
       "      <td>Piray Miní - Valle Hermoso</td>\n",
       "      <td>88C535C1C4EB5C1726ADACBEDAE9E7C3EB070964</td>\n",
       "      <td>None</td>\n",
       "    </tr>\n",
       "    <tr>\n",
       "      <th>28</th>\n",
       "      <td>-59.816944</td>\n",
       "      <td>-34.351944</td>\n",
       "      <td>Argentina</td>\n",
       "      <td>argentina-ina</td>\n",
       "      <td>argentina-ina:sat2:6544</td>\n",
       "      <td>Areco - Carmen de Areco</td>\n",
       "      <td>8EF9E5A4E887BC671B7F76937DA7316AF5DC02CA</td>\n",
       "      <td>None</td>\n",
       "    </tr>\n",
       "    <tr>\n",
       "      <th>29</th>\n",
       "      <td>-55.642269</td>\n",
       "      <td>-28.177515</td>\n",
       "      <td>Argentina</td>\n",
       "      <td>argentina-ina</td>\n",
       "      <td>argentina-ina:estaciones_salto_grande:1035</td>\n",
       "      <td>Garruchos</td>\n",
       "      <td>94BF5172735BD48140FA057F615CA5ABB466EFE3</td>\n",
       "      <td>None</td>\n",
       "    </tr>\n",
       "    <tr>\n",
       "      <th>30</th>\n",
       "      <td>-57.674446</td>\n",
       "      <td>-29.845637</td>\n",
       "      <td>Argentina</td>\n",
       "      <td>argentina-ina</td>\n",
       "      <td>argentina-ina:estaciones_salto_grande:1063</td>\n",
       "      <td>Miriñay Río</td>\n",
       "      <td>9CD72E34F30922F23250F08D6BB878E9D8B99B41</td>\n",
       "      <td>None</td>\n",
       "    </tr>\n",
       "    <tr>\n",
       "      <th>31</th>\n",
       "      <td>-58.933333</td>\n",
       "      <td>-27.483333</td>\n",
       "      <td>Argentina</td>\n",
       "      <td>argentina-ina</td>\n",
       "      <td>argentina-ina:alturas_prefe:20</td>\n",
       "      <td>Barranqueras</td>\n",
       "      <td>A0B3D2485864049356783CD1DE136A84768E9284</td>\n",
       "      <td>None</td>\n",
       "    </tr>\n",
       "    <tr>\n",
       "      <th>32</th>\n",
       "      <td>-57.936945</td>\n",
       "      <td>-31.275470</td>\n",
       "      <td>Argentina</td>\n",
       "      <td>argentina-ina</td>\n",
       "      <td>argentina-ina:alturas_prefe:78</td>\n",
       "      <td>Salto Grande Abajo</td>\n",
       "      <td>ACDBC2528E4886B90A5EE42C12B561ADAD76C29C</td>\n",
       "      <td>None</td>\n",
       "    </tr>\n",
       "    <tr>\n",
       "      <th>33</th>\n",
       "      <td>-57.938011</td>\n",
       "      <td>-31.273969</td>\n",
       "      <td>Argentina</td>\n",
       "      <td>argentina-ina</td>\n",
       "      <td>argentina-ina:alturas_prefe:90</td>\n",
       "      <td>Erogado Salto Grande</td>\n",
       "      <td>B1FE1C7BE118E005E0134B246EB5086DC6C61A6A</td>\n",
       "      <td>None</td>\n",
       "    </tr>\n",
       "    <tr>\n",
       "      <th>34</th>\n",
       "      <td>-56.258444</td>\n",
       "      <td>-27.824528</td>\n",
       "      <td>Argentina</td>\n",
       "      <td>argentina-ina</td>\n",
       "      <td>argentina-ina:alturas_bdhi:2070</td>\n",
       "      <td>Aguapey - Caa Caraí</td>\n",
       "      <td>B38D3131C4A20CAF19650A608203326E72FAC085</td>\n",
       "      <td>None</td>\n",
       "    </tr>\n",
       "    <tr>\n",
       "      <th>35</th>\n",
       "      <td>-58.507028</td>\n",
       "      <td>-26.925889</td>\n",
       "      <td>Argentina</td>\n",
       "      <td>argentina-ina</td>\n",
       "      <td>argentina-ina:alturas_bdhi:2101</td>\n",
       "      <td>Paraguay - Puerto Bermejo</td>\n",
       "      <td>B426678B2EB554336B4DC9FDB4AA4DD25EF440BC</td>\n",
       "      <td>None</td>\n",
       "    </tr>\n",
       "    <tr>\n",
       "      <th>36</th>\n",
       "      <td>-57.650000</td>\n",
       "      <td>-25.366667</td>\n",
       "      <td>Argentina</td>\n",
       "      <td>argentina-ina</td>\n",
       "      <td>argentina-ina:alturas_prefe:55</td>\n",
       "      <td>Puerto Pilcomayo</td>\n",
       "      <td>B76F89BC3A30F644310F1CC4C611C7EA6047DA7A</td>\n",
       "      <td>None</td>\n",
       "    </tr>\n",
       "    <tr>\n",
       "      <th>37</th>\n",
       "      <td>-56.033333</td>\n",
       "      <td>-28.550000</td>\n",
       "      <td>Argentina</td>\n",
       "      <td>argentina-ina</td>\n",
       "      <td>argentina-ina:alturas_prefe:68</td>\n",
       "      <td>Santo Tomé</td>\n",
       "      <td>C2C298DAC1EBB179763E064D213E671B4B199F42</td>\n",
       "      <td>None</td>\n",
       "    </tr>\n",
       "    <tr>\n",
       "      <th>38</th>\n",
       "      <td>-58.244306</td>\n",
       "      <td>-27.266250</td>\n",
       "      <td>Argentina</td>\n",
       "      <td>argentina-ina</td>\n",
       "      <td>argentina-ina:alturas_bdhi:2082</td>\n",
       "      <td>Paraná - Itatí</td>\n",
       "      <td>C5E647BB1FA659FBB88DDAB2E5581195093E2444</td>\n",
       "      <td>None</td>\n",
       "    </tr>\n",
       "    <tr>\n",
       "      <th>39</th>\n",
       "      <td>-60.517528</td>\n",
       "      <td>-31.719861</td>\n",
       "      <td>Argentina</td>\n",
       "      <td>argentina-ina</td>\n",
       "      <td>argentina-ina:alturas_bdhi:2049</td>\n",
       "      <td>Paraná - Tunel Subfluvial</td>\n",
       "      <td>C8D5E819285EFC1C9FB01A27D5620EED446673D7</td>\n",
       "      <td>None</td>\n",
       "    </tr>\n",
       "    <tr>\n",
       "      <th>40</th>\n",
       "      <td>-60.630821</td>\n",
       "      <td>-32.943270</td>\n",
       "      <td>Argentina</td>\n",
       "      <td>argentina-ina</td>\n",
       "      <td>argentina-ina:alturas_prefe:34</td>\n",
       "      <td>Rosario</td>\n",
       "      <td>CCA40036EDCA13FB4BCBE1305FC3EF866E8CF015</td>\n",
       "      <td>None</td>\n",
       "    </tr>\n",
       "    <tr>\n",
       "      <th>41</th>\n",
       "      <td>-53.983333</td>\n",
       "      <td>-25.583333</td>\n",
       "      <td>Argentina</td>\n",
       "      <td>argentina-ina</td>\n",
       "      <td>argentina-ina:alturas_prefe:8</td>\n",
       "      <td>Andresito</td>\n",
       "      <td>CFD04512F2051C00F5CFD00C4DE766399684B033</td>\n",
       "      <td>None</td>\n",
       "    </tr>\n",
       "    <tr>\n",
       "      <th>42</th>\n",
       "      <td>-54.193437</td>\n",
       "      <td>-27.298582</td>\n",
       "      <td>Argentina</td>\n",
       "      <td>argentina-ina</td>\n",
       "      <td>argentina-ina:estaciones_salto_grande:1038</td>\n",
       "      <td>El Soberbio</td>\n",
       "      <td>D144E7C427EDC3B96B90FB792EA5AB808BD7DA83</td>\n",
       "      <td>None</td>\n",
       "    </tr>\n",
       "    <tr>\n",
       "      <th>43</th>\n",
       "      <td>-60.522570</td>\n",
       "      <td>-31.718238</td>\n",
       "      <td>Argentina</td>\n",
       "      <td>argentina-ina</td>\n",
       "      <td>argentina-ina:alturas_prefe:29</td>\n",
       "      <td>Paraná</td>\n",
       "      <td>D35B4E539A4840513F23C64F15BE89333B7488D7</td>\n",
       "      <td>None</td>\n",
       "    </tr>\n",
       "    <tr>\n",
       "      <th>44</th>\n",
       "      <td>-55.650000</td>\n",
       "      <td>-28.183333</td>\n",
       "      <td>Argentina</td>\n",
       "      <td>argentina-ina</td>\n",
       "      <td>argentina-ina:alturas_prefe:67</td>\n",
       "      <td>Garruchos</td>\n",
       "      <td>D37C942BC102184B654894014701E8C9C82E7C3D</td>\n",
       "      <td>None</td>\n",
       "    </tr>\n",
       "    <tr>\n",
       "      <th>45</th>\n",
       "      <td>-57.650306</td>\n",
       "      <td>-25.372000</td>\n",
       "      <td>Argentina</td>\n",
       "      <td>argentina-ina</td>\n",
       "      <td>argentina-ina:alturas_bdhi:2047</td>\n",
       "      <td>Pilcomayo - Puerto Pilcomayo</td>\n",
       "      <td>D6942570E3BED83AE612AC2914D26DB36A063211</td>\n",
       "      <td>None</td>\n",
       "    </tr>\n",
       "    <tr>\n",
       "      <th>46</th>\n",
       "      <td>-54.566667</td>\n",
       "      <td>-25.583333</td>\n",
       "      <td>Argentina</td>\n",
       "      <td>argentina-ina</td>\n",
       "      <td>argentina-ina:alturas_prefe:9</td>\n",
       "      <td>Puerto Iguazú</td>\n",
       "      <td>D72E4C7C36119D3899C5C78BD12ACD8D81B842FC</td>\n",
       "      <td>None</td>\n",
       "    </tr>\n",
       "    <tr>\n",
       "      <th>47</th>\n",
       "      <td>-58.900000</td>\n",
       "      <td>-33.883333</td>\n",
       "      <td>Argentina</td>\n",
       "      <td>argentina-ina</td>\n",
       "      <td>argentina-ina:alturas_prefe:97</td>\n",
       "      <td>Brazo Largo</td>\n",
       "      <td>DAF0D6DEB5D95AD250E57D4A314B0C35C86B987E</td>\n",
       "      <td>None</td>\n",
       "    </tr>\n",
       "    <tr>\n",
       "      <th>48</th>\n",
       "      <td>-58.244074</td>\n",
       "      <td>-27.266778</td>\n",
       "      <td>Argentina</td>\n",
       "      <td>argentina-ina</td>\n",
       "      <td>argentina-ina:alturas_prefe:17</td>\n",
       "      <td>Itatí</td>\n",
       "      <td>DD7287DE57DFAD2B69C2D99C2B72BDA7450E952C</td>\n",
       "      <td>None</td>\n",
       "    </tr>\n",
       "    <tr>\n",
       "      <th>49</th>\n",
       "      <td>-54.453833</td>\n",
       "      <td>-26.512000</td>\n",
       "      <td>Argentina</td>\n",
       "      <td>argentina-ina</td>\n",
       "      <td>argentina-ina:alturas_bdhi:2026</td>\n",
       "      <td>Piray Guazú - Pinar Ciba</td>\n",
       "      <td>DE2D70022F8FB5A30D5B8D27721996CE5029F47E</td>\n",
       "      <td>None</td>\n",
       "    </tr>\n",
       "    <tr>\n",
       "      <th>50</th>\n",
       "      <td>-59.076944</td>\n",
       "      <td>-32.308611</td>\n",
       "      <td>Argentina</td>\n",
       "      <td>argentina-ina</td>\n",
       "      <td>argentina-ina:sat2:2203</td>\n",
       "      <td>Gualeguay - Rosario del Tala</td>\n",
       "      <td>DFD96AC4A30EE51D31BF09A6F7EECC9C269556E1</td>\n",
       "      <td>None</td>\n",
       "    </tr>\n",
       "    <tr>\n",
       "      <th>51</th>\n",
       "      <td>-59.499444</td>\n",
       "      <td>-34.240556</td>\n",
       "      <td>Argentina</td>\n",
       "      <td>argentina-ina</td>\n",
       "      <td>argentina-ina:sat2:2215</td>\n",
       "      <td>Río Areco - San Antonio de Are</td>\n",
       "      <td>ECF425708E7A51D0047EAD3824801C786A0948FF</td>\n",
       "      <td>None</td>\n",
       "    </tr>\n",
       "    <tr>\n",
       "      <th>52</th>\n",
       "      <td>-58.838870</td>\n",
       "      <td>-27.463643</td>\n",
       "      <td>Argentina</td>\n",
       "      <td>argentina-ina</td>\n",
       "      <td>argentina-ina:alturas_prefe:19</td>\n",
       "      <td>Corrientes</td>\n",
       "      <td>F426CC5C7D4A1563EE3B41E4F50FB4DE8568D3F2</td>\n",
       "      <td>None</td>\n",
       "    </tr>\n",
       "    <tr>\n",
       "      <th>53</th>\n",
       "      <td>-57.936945</td>\n",
       "      <td>-31.275470</td>\n",
       "      <td>Argentina</td>\n",
       "      <td>argentina-ina</td>\n",
       "      <td>argentina-ina:alturas_prefe:77</td>\n",
       "      <td>Salto Grande Arriba</td>\n",
       "      <td>F5C001AAB05E68773AAEF77E7D4C6085CBD7AD73</td>\n",
       "      <td>None</td>\n",
       "    </tr>\n",
       "    <tr>\n",
       "      <th>54</th>\n",
       "      <td>-62.523472</td>\n",
       "      <td>-22.377500</td>\n",
       "      <td>Argentina</td>\n",
       "      <td>argentina-ina</td>\n",
       "      <td>argentina-ina:alturas_bdhi:1978</td>\n",
       "      <td>Pilcomayo - La Paz</td>\n",
       "      <td>F8616EC2A979C3E76482FB83F0EE1564F6CC776B</td>\n",
       "      <td>None</td>\n",
       "    </tr>\n",
       "    <tr>\n",
       "      <th>55</th>\n",
       "      <td>-56.727244</td>\n",
       "      <td>-27.482557</td>\n",
       "      <td>Argentina</td>\n",
       "      <td>argentina-ina</td>\n",
       "      <td>argentina-ina:alturas_prefe:88</td>\n",
       "      <td>Yacyretá efluente</td>\n",
       "      <td>FAAC49BA633EFF325BE5D2BA81BE14574A268ABA</td>\n",
       "      <td>None</td>\n",
       "    </tr>\n",
       "    <tr>\n",
       "      <th>56</th>\n",
       "      <td>-58.016667</td>\n",
       "      <td>-31.400000</td>\n",
       "      <td>Argentina</td>\n",
       "      <td>argentina-ina</td>\n",
       "      <td>argentina-ina:alturas_prefe:79</td>\n",
       "      <td>Concordia</td>\n",
       "      <td>FB7404060DA544222C32F7A19374FB217127E928</td>\n",
       "      <td>None</td>\n",
       "    </tr>\n",
       "    <tr>\n",
       "      <th>57</th>\n",
       "      <td>-56.550000</td>\n",
       "      <td>-29.100000</td>\n",
       "      <td>Argentina</td>\n",
       "      <td>argentina-ina</td>\n",
       "      <td>argentina-ina:alturas_prefe:69</td>\n",
       "      <td>Alvear</td>\n",
       "      <td>FD659B06C6075E54A63CEFD27E89BB991DAA1932</td>\n",
       "      <td>None</td>\n",
       "    </tr>\n",
       "  </tbody>\n",
       "</table>\n",
       "</div>"
      ],
      "text/plain": [
       "    longitude   latitude    country       sourceId  \\\n",
       "0  -57.938011 -31.273969  Argentina  argentina-ina   \n",
       "1  -60.780556 -31.491222  Argentina  argentina-ina   \n",
       "2  -58.558333 -28.995000  Argentina  argentina-ina   \n",
       "3  -57.633333 -30.250000  Argentina  argentina-ina   \n",
       "4  -55.883333 -27.366667  Argentina  argentina-ina   \n",
       "5  -54.756333 -26.750750  Argentina  argentina-ina   \n",
       "6  -59.076806 -32.308500  Argentina  argentina-ina   \n",
       "7  -59.178333 -34.589444  Argentina  argentina-ina   \n",
       "8  -56.727244 -27.482557  Argentina  argentina-ina   \n",
       "9  -59.217222 -29.757222  Argentina  argentina-ina   \n",
       "10 -54.621134 -25.916679  Argentina  argentina-ina   \n",
       "11 -59.126111 -31.801667  Argentina  argentina-ina   \n",
       "12 -60.517500 -31.720000  Argentina  argentina-ina   \n",
       "13 -60.700232 -31.651477  Argentina  argentina-ina   \n",
       "14 -59.362500 -26.334167  Argentina  argentina-ina   \n",
       "15 -54.593363 -25.592701  Argentina  argentina-ina   \n",
       "16 -60.602056 -31.661139  Argentina  argentina-ina   \n",
       "17 -58.183333 -26.183333  Argentina  argentina-ina   \n",
       "18 -57.083333 -29.716667  Argentina  argentina-ina   \n",
       "19 -60.677972 -31.630139  Argentina  argentina-ina   \n",
       "20 -55.133333 -27.883333  Argentina  argentina-ina   \n",
       "21 -53.995000 -25.590556  Argentina  argentina-ina   \n",
       "22 -54.200000 -27.300000  Argentina  argentina-ina   \n",
       "23 -55.129216 -27.869343  Argentina  argentina-ina   \n",
       "24 -59.010866 -34.098782  Argentina  argentina-ina   \n",
       "25 -59.649718 -33.674527  Argentina  argentina-ina   \n",
       "26 -59.362417 -26.334278  Argentina  argentina-ina   \n",
       "27 -54.498222 -26.355000  Argentina  argentina-ina   \n",
       "28 -59.816944 -34.351944  Argentina  argentina-ina   \n",
       "29 -55.642269 -28.177515  Argentina  argentina-ina   \n",
       "30 -57.674446 -29.845637  Argentina  argentina-ina   \n",
       "31 -58.933333 -27.483333  Argentina  argentina-ina   \n",
       "32 -57.936945 -31.275470  Argentina  argentina-ina   \n",
       "33 -57.938011 -31.273969  Argentina  argentina-ina   \n",
       "34 -56.258444 -27.824528  Argentina  argentina-ina   \n",
       "35 -58.507028 -26.925889  Argentina  argentina-ina   \n",
       "36 -57.650000 -25.366667  Argentina  argentina-ina   \n",
       "37 -56.033333 -28.550000  Argentina  argentina-ina   \n",
       "38 -58.244306 -27.266250  Argentina  argentina-ina   \n",
       "39 -60.517528 -31.719861  Argentina  argentina-ina   \n",
       "40 -60.630821 -32.943270  Argentina  argentina-ina   \n",
       "41 -53.983333 -25.583333  Argentina  argentina-ina   \n",
       "42 -54.193437 -27.298582  Argentina  argentina-ina   \n",
       "43 -60.522570 -31.718238  Argentina  argentina-ina   \n",
       "44 -55.650000 -28.183333  Argentina  argentina-ina   \n",
       "45 -57.650306 -25.372000  Argentina  argentina-ina   \n",
       "46 -54.566667 -25.583333  Argentina  argentina-ina   \n",
       "47 -58.900000 -33.883333  Argentina  argentina-ina   \n",
       "48 -58.244074 -27.266778  Argentina  argentina-ina   \n",
       "49 -54.453833 -26.512000  Argentina  argentina-ina   \n",
       "50 -59.076944 -32.308611  Argentina  argentina-ina   \n",
       "51 -59.499444 -34.240556  Argentina  argentina-ina   \n",
       "52 -58.838870 -27.463643  Argentina  argentina-ina   \n",
       "53 -57.936945 -31.275470  Argentina  argentina-ina   \n",
       "54 -62.523472 -22.377500  Argentina  argentina-ina   \n",
       "55 -56.727244 -27.482557  Argentina  argentina-ina   \n",
       "56 -58.016667 -31.400000  Argentina  argentina-ina   \n",
       "57 -56.550000 -29.100000  Argentina  argentina-ina   \n",
       "\n",
       "                                    identifier  \\\n",
       "0               argentina-ina:alturas_prefe:89   \n",
       "1               argentina-ina:alturas_bdhi:103   \n",
       "2                      argentina-ina:sat2:2832   \n",
       "3               argentina-ina:alturas_prefe:74   \n",
       "4               argentina-ina:alturas_prefe:14   \n",
       "5              argentina-ina:alturas_bdhi:2038   \n",
       "6                 argentina-ina:alturas_bdhi:2   \n",
       "7                      argentina-ina:sat2:2128   \n",
       "8               argentina-ina:alturas_prefe:87   \n",
       "9                      argentina-ina:sat2:2199   \n",
       "10              argentina-ina:alturas_prefe:10   \n",
       "11                     argentina-ina:sat2:2205   \n",
       "12                     argentina-ina:sat2:5901   \n",
       "13              argentina-ina:alturas_prefe:30   \n",
       "14                     argentina-ina:sat2:2188   \n",
       "15              argentina-ina:alturas_prefe:93   \n",
       "16              argentina-ina:alturas_bdhi:122   \n",
       "17              argentina-ina:alturas_prefe:57   \n",
       "18              argentina-ina:alturas_prefe:72   \n",
       "19             argentina-ina:alturas_bdhi:5910   \n",
       "20              argentina-ina:alturas_prefe:65   \n",
       "21                     argentina-ina:sat2:2178   \n",
       "22              argentina-ina:alturas_prefe:61   \n",
       "23  argentina-ina:estaciones_salto_grande:1037   \n",
       "24              argentina-ina:alturas_prefe:40   \n",
       "25              argentina-ina:alturas_prefe:38   \n",
       "26             argentina-ina:alturas_bdhi:2046   \n",
       "27             argentina-ina:alturas_bdhi:2025   \n",
       "28                     argentina-ina:sat2:6544   \n",
       "29  argentina-ina:estaciones_salto_grande:1035   \n",
       "30  argentina-ina:estaciones_salto_grande:1063   \n",
       "31              argentina-ina:alturas_prefe:20   \n",
       "32              argentina-ina:alturas_prefe:78   \n",
       "33              argentina-ina:alturas_prefe:90   \n",
       "34             argentina-ina:alturas_bdhi:2070   \n",
       "35             argentina-ina:alturas_bdhi:2101   \n",
       "36              argentina-ina:alturas_prefe:55   \n",
       "37              argentina-ina:alturas_prefe:68   \n",
       "38             argentina-ina:alturas_bdhi:2082   \n",
       "39             argentina-ina:alturas_bdhi:2049   \n",
       "40              argentina-ina:alturas_prefe:34   \n",
       "41               argentina-ina:alturas_prefe:8   \n",
       "42  argentina-ina:estaciones_salto_grande:1038   \n",
       "43              argentina-ina:alturas_prefe:29   \n",
       "44              argentina-ina:alturas_prefe:67   \n",
       "45             argentina-ina:alturas_bdhi:2047   \n",
       "46               argentina-ina:alturas_prefe:9   \n",
       "47              argentina-ina:alturas_prefe:97   \n",
       "48              argentina-ina:alturas_prefe:17   \n",
       "49             argentina-ina:alturas_bdhi:2026   \n",
       "50                     argentina-ina:sat2:2203   \n",
       "51                     argentina-ina:sat2:2215   \n",
       "52              argentina-ina:alturas_prefe:19   \n",
       "53              argentina-ina:alturas_prefe:77   \n",
       "54             argentina-ina:alturas_bdhi:1978   \n",
       "55              argentina-ina:alturas_prefe:88   \n",
       "56              argentina-ina:alturas_prefe:79   \n",
       "57              argentina-ina:alturas_prefe:69   \n",
       "\n",
       "                              name                                        id  \\\n",
       "0              Aporte Salto Grande  00D3297FBC6A70359AC9C78EC0A56AE2EBBD8B6C   \n",
       "1   Recreo - Ruta Provincial nº 70  02E07E2F72A815E237B7896D79BC68193EF3A0A6   \n",
       "2          Corriente - Paso Lucero  083988DC8C2E39D6E0C82B296A857F6A088B8028   \n",
       "3                    Monte Caseros  0DF4C4284AA14E0A545C0F855B4F6FF558693CEE   \n",
       "4                          Posadas  23137FB463C0902450418E9E2F0D38C719419AA9   \n",
       "5             Paranay - El Alcazar  255B2448BEBEAF022A54211BB36BAE67020214E8   \n",
       "6                 Rosario del Tala  2F12488193F66939384E07C2FD757FDAF2781D52   \n",
       "7                    Lujan - Lujan  329BB00817E03FB6C1E86BF7625BA824692C9A95   \n",
       "8                Yacyretá afluente  329E5E2914B19DB23520D64DFA541CC83DE345F2   \n",
       "9        Corrientes - Los Laureles  33D8EF13796FA55AD42D54A54EF43D6DEB4CB529   \n",
       "10                        Libertad  3437B9EF80504B6A2526BF065B78AB9DAE4BD857   \n",
       "11           Gualeguay - Villaguay  3A2D53454064685F479B74B6C5B3EAA289DE5E00   \n",
       "12       Paraná - Túnel subfluvial  3B33C316B7F67D28C04C8D2E9EAC6C92BBE00C89   \n",
       "13                        Santa Fe  3D6199412BFA3DFEAB30DD9E0E4C7EEFEB6DECE1   \n",
       "14           Bermejo - El Colorado  45355E7831EFFB569CCF606A8FD84B353C8F69B3   \n",
       "15                     Confluencia  4638148B18E69F759A31CF738A0B4EA1FC93408D   \n",
       "16            Ruta Nacional nº 168  4E5049353F84838B543263F28350F3F6F0AFBF1A   \n",
       "17                  Puerto Formosa  588230A4E9F7E8B48E57262B53FC4BBE511DB6D6   \n",
       "18              Paso de los Libres  5D4AF2886B4D79302D1F3F2EE3F33420865A2411   \n",
       "19           SANTA FE - LA GUARDIA  63DD9E8DB77A8371D6FABDFA8547EC752158FB47   \n",
       "20                      San Javier  670DBE1488487406B9BFA7BBC32FFE83EF34D28B   \n",
       "21       Iguazú - Puerto Andresito  6E40C41DBA2529CC4BC79B5E8AEF9AF086FF6C6E   \n",
       "22                     El Soberbio  7040838B6BB402DAAA03931F9AEC8113C897D73A   \n",
       "23                      San Javier  71227700C171EA106BD1E29BDF29E908F5C171B2   \n",
       "24                          Zárate  74B2BA23C3119E3A6F5FEDDE2538CF0A71C9B9D1   \n",
       "25                       San Pedro  7FE2C8C2F189385DC638AFB4B76D3A2B8092490E   \n",
       "26                     El Colorado  8572EAAB24A7E531577CC4B33DDE3162F1F1EE36   \n",
       "27      Piray Miní - Valle Hermoso  88C535C1C4EB5C1726ADACBEDAE9E7C3EB070964   \n",
       "28         Areco - Carmen de Areco  8EF9E5A4E887BC671B7F76937DA7316AF5DC02CA   \n",
       "29                       Garruchos  94BF5172735BD48140FA057F615CA5ABB466EFE3   \n",
       "30                     Miriñay Río  9CD72E34F30922F23250F08D6BB878E9D8B99B41   \n",
       "31                    Barranqueras  A0B3D2485864049356783CD1DE136A84768E9284   \n",
       "32              Salto Grande Abajo  ACDBC2528E4886B90A5EE42C12B561ADAD76C29C   \n",
       "33            Erogado Salto Grande  B1FE1C7BE118E005E0134B246EB5086DC6C61A6A   \n",
       "34             Aguapey - Caa Caraí  B38D3131C4A20CAF19650A608203326E72FAC085   \n",
       "35       Paraguay - Puerto Bermejo  B426678B2EB554336B4DC9FDB4AA4DD25EF440BC   \n",
       "36                Puerto Pilcomayo  B76F89BC3A30F644310F1CC4C611C7EA6047DA7A   \n",
       "37                      Santo Tomé  C2C298DAC1EBB179763E064D213E671B4B199F42   \n",
       "38                  Paraná - Itatí  C5E647BB1FA659FBB88DDAB2E5581195093E2444   \n",
       "39       Paraná - Tunel Subfluvial  C8D5E819285EFC1C9FB01A27D5620EED446673D7   \n",
       "40                         Rosario  CCA40036EDCA13FB4BCBE1305FC3EF866E8CF015   \n",
       "41                       Andresito  CFD04512F2051C00F5CFD00C4DE766399684B033   \n",
       "42                     El Soberbio  D144E7C427EDC3B96B90FB792EA5AB808BD7DA83   \n",
       "43                          Paraná  D35B4E539A4840513F23C64F15BE89333B7488D7   \n",
       "44                       Garruchos  D37C942BC102184B654894014701E8C9C82E7C3D   \n",
       "45    Pilcomayo - Puerto Pilcomayo  D6942570E3BED83AE612AC2914D26DB36A063211   \n",
       "46                   Puerto Iguazú  D72E4C7C36119D3899C5C78BD12ACD8D81B842FC   \n",
       "47                     Brazo Largo  DAF0D6DEB5D95AD250E57D4A314B0C35C86B987E   \n",
       "48                           Itatí  DD7287DE57DFAD2B69C2D99C2B72BDA7450E952C   \n",
       "49        Piray Guazú - Pinar Ciba  DE2D70022F8FB5A30D5B8D27721996CE5029F47E   \n",
       "50    Gualeguay - Rosario del Tala  DFD96AC4A30EE51D31BF09A6F7EECC9C269556E1   \n",
       "51  Río Areco - San Antonio de Are  ECF425708E7A51D0047EAD3824801C786A0948FF   \n",
       "52                      Corrientes  F426CC5C7D4A1563EE3B41E4F50FB4DE8568D3F2   \n",
       "53             Salto Grande Arriba  F5C001AAB05E68773AAEF77E7D4C6085CBD7AD73   \n",
       "54              Pilcomayo - La Paz  F8616EC2A979C3E76482FB83F0EE1564F6CC776B   \n",
       "55               Yacyretá efluente  FAAC49BA633EFF325BE5D2BA81BE14574A268ABA   \n",
       "56                       Concordia  FB7404060DA544222C32F7A19374FB217127E928   \n",
       "57                          Alvear  FD659B06C6075E54A63CEFD27E89BB991DAA1932   \n",
       "\n",
       "   author  \n",
       "0    None  \n",
       "1    None  \n",
       "2    None  \n",
       "3    None  \n",
       "4    None  \n",
       "5    None  \n",
       "6    None  \n",
       "7    None  \n",
       "8    None  \n",
       "9    None  \n",
       "10   None  \n",
       "11   None  \n",
       "12   None  \n",
       "13   None  \n",
       "14   None  \n",
       "15   None  \n",
       "16   None  \n",
       "17   None  \n",
       "18   None  \n",
       "19   None  \n",
       "20   None  \n",
       "21   None  \n",
       "22   None  \n",
       "23   None  \n",
       "24   None  \n",
       "25   None  \n",
       "26   None  \n",
       "27   None  \n",
       "28   None  \n",
       "29   None  \n",
       "30   None  \n",
       "31   None  \n",
       "32   None  \n",
       "33   None  \n",
       "34   None  \n",
       "35   None  \n",
       "36   None  \n",
       "37   None  \n",
       "38   None  \n",
       "39   None  \n",
       "40   None  \n",
       "41   None  \n",
       "42   None  \n",
       "43   None  \n",
       "44   None  \n",
       "45   None  \n",
       "46   None  \n",
       "47   None  \n",
       "48   None  \n",
       "49   None  \n",
       "50   None  \n",
       "51   None  \n",
       "52   None  \n",
       "53   None  \n",
       "54   None  \n",
       "55   None  \n",
       "56   None  \n",
       "57   None  "
      ]
     },
     "execution_count": 26,
     "metadata": {},
     "output_type": "execute_result"
    }
   ],
   "source": [
    "featuresToDataFrame(features)\n",
    "\n",
    "\n"
   ]
  },
  {
   "cell_type": "code",
   "execution_count": 27,
   "metadata": {},
   "outputs": [
    {
     "data": {
      "text/plain": [
       "{'type': 'FeatureCollection',\n",
       " 'features': [{'geometry': {'coordinates': [-57.938011, -31.273969],\n",
       "    'type': 'Point'},\n",
       "   'properties': {'longitude': -57.938011,\n",
       "    'latitude': -31.273969,\n",
       "    'country': 'Argentina',\n",
       "    'sourceId': 'argentina-ina',\n",
       "    'identifier': 'argentina-ina:alturas_prefe:89',\n",
       "    'name': 'Aporte Salto Grande',\n",
       "    'id': '00D3297FBC6A70359AC9C78EC0A56AE2EBBD8B6C',\n",
       "    'author': None}},\n",
       "  {'geometry': {'coordinates': [-60.7805555555556, -31.4912222222222],\n",
       "    'type': 'Point'},\n",
       "   'properties': {'longitude': -60.7805555555556,\n",
       "    'latitude': -31.4912222222222,\n",
       "    'country': 'Argentina',\n",
       "    'sourceId': 'argentina-ina',\n",
       "    'identifier': 'argentina-ina:alturas_bdhi:103',\n",
       "    'name': 'Recreo - Ruta Provincial nº 70',\n",
       "    'id': '02E07E2F72A815E237B7896D79BC68193EF3A0A6',\n",
       "    'author': None}},\n",
       "  {'geometry': {'coordinates': [-58.5583333333333, -28.995], 'type': 'Point'},\n",
       "   'properties': {'longitude': -58.5583333333333,\n",
       "    'latitude': -28.995,\n",
       "    'country': 'Argentina',\n",
       "    'sourceId': 'argentina-ina',\n",
       "    'identifier': 'argentina-ina:sat2:2832',\n",
       "    'name': 'Corriente - Paso Lucero',\n",
       "    'id': '083988DC8C2E39D6E0C82B296A857F6A088B8028',\n",
       "    'author': None}},\n",
       "  {'geometry': {'coordinates': [-57.6333333333333, -30.25], 'type': 'Point'},\n",
       "   'properties': {'longitude': -57.6333333333333,\n",
       "    'latitude': -30.25,\n",
       "    'country': 'Argentina',\n",
       "    'sourceId': 'argentina-ina',\n",
       "    'identifier': 'argentina-ina:alturas_prefe:74',\n",
       "    'name': 'Monte Caseros',\n",
       "    'id': '0DF4C4284AA14E0A545C0F855B4F6FF558693CEE',\n",
       "    'author': None}},\n",
       "  {'geometry': {'coordinates': [-55.8833333333333, -27.3666666666667],\n",
       "    'type': 'Point'},\n",
       "   'properties': {'longitude': -55.8833333333333,\n",
       "    'latitude': -27.3666666666667,\n",
       "    'country': 'Argentina',\n",
       "    'sourceId': 'argentina-ina',\n",
       "    'identifier': 'argentina-ina:alturas_prefe:14',\n",
       "    'name': 'Posadas',\n",
       "    'id': '23137FB463C0902450418E9E2F0D38C719419AA9',\n",
       "    'author': None}},\n",
       "  {'geometry': {'coordinates': [-54.7563333333333, -26.75075],\n",
       "    'type': 'Point'},\n",
       "   'properties': {'longitude': -54.7563333333333,\n",
       "    'latitude': -26.75075,\n",
       "    'country': 'Argentina',\n",
       "    'sourceId': 'argentina-ina',\n",
       "    'identifier': 'argentina-ina:alturas_bdhi:2038',\n",
       "    'name': 'Paranay - El Alcazar',\n",
       "    'id': '255B2448BEBEAF022A54211BB36BAE67020214E8',\n",
       "    'author': None}},\n",
       "  {'geometry': {'coordinates': [-59.0768055555556, -32.3085], 'type': 'Point'},\n",
       "   'properties': {'longitude': -59.0768055555556,\n",
       "    'latitude': -32.3085,\n",
       "    'country': 'Argentina',\n",
       "    'sourceId': 'argentina-ina',\n",
       "    'identifier': 'argentina-ina:alturas_bdhi:2',\n",
       "    'name': 'Rosario del Tala',\n",
       "    'id': '2F12488193F66939384E07C2FD757FDAF2781D52',\n",
       "    'author': None}},\n",
       "  {'geometry': {'coordinates': [-59.1783333333333, -34.5894444444444],\n",
       "    'type': 'Point'},\n",
       "   'properties': {'longitude': -59.1783333333333,\n",
       "    'latitude': -34.5894444444444,\n",
       "    'country': 'Argentina',\n",
       "    'sourceId': 'argentina-ina',\n",
       "    'identifier': 'argentina-ina:sat2:2128',\n",
       "    'name': 'Lujan - Lujan',\n",
       "    'id': '329BB00817E03FB6C1E86BF7625BA824692C9A95',\n",
       "    'author': None}},\n",
       "  {'geometry': {'coordinates': [-56.727244, -27.482557], 'type': 'Point'},\n",
       "   'properties': {'longitude': -56.727244,\n",
       "    'latitude': -27.482557,\n",
       "    'country': 'Argentina',\n",
       "    'sourceId': 'argentina-ina',\n",
       "    'identifier': 'argentina-ina:alturas_prefe:87',\n",
       "    'name': 'Yacyretá afluente',\n",
       "    'id': '329E5E2914B19DB23520D64DFA541CC83DE345F2',\n",
       "    'author': None}},\n",
       "  {'geometry': {'coordinates': [-59.2172222222222, -29.7572222222222],\n",
       "    'type': 'Point'},\n",
       "   'properties': {'longitude': -59.2172222222222,\n",
       "    'latitude': -29.7572222222222,\n",
       "    'country': 'Argentina',\n",
       "    'sourceId': 'argentina-ina',\n",
       "    'identifier': 'argentina-ina:sat2:2199',\n",
       "    'name': 'Corrientes - Los Laureles',\n",
       "    'id': '33D8EF13796FA55AD42D54A54EF43D6DEB4CB529',\n",
       "    'author': None}},\n",
       "  {'geometry': {'coordinates': [-54.621134, -25.916679], 'type': 'Point'},\n",
       "   'properties': {'longitude': -54.621134,\n",
       "    'latitude': -25.916679,\n",
       "    'country': 'Argentina',\n",
       "    'sourceId': 'argentina-ina',\n",
       "    'identifier': 'argentina-ina:alturas_prefe:10',\n",
       "    'name': 'Libertad',\n",
       "    'id': '3437B9EF80504B6A2526BF065B78AB9DAE4BD857',\n",
       "    'author': None}},\n",
       "  {'geometry': {'coordinates': [-59.1261111111111, -31.8016666666667],\n",
       "    'type': 'Point'},\n",
       "   'properties': {'longitude': -59.1261111111111,\n",
       "    'latitude': -31.8016666666667,\n",
       "    'country': 'Argentina',\n",
       "    'sourceId': 'argentina-ina',\n",
       "    'identifier': 'argentina-ina:sat2:2205',\n",
       "    'name': 'Gualeguay - Villaguay',\n",
       "    'id': '3A2D53454064685F479B74B6C5B3EAA289DE5E00',\n",
       "    'author': None}},\n",
       "  {'geometry': {'coordinates': [-60.5175, -31.72], 'type': 'Point'},\n",
       "   'properties': {'longitude': -60.5175,\n",
       "    'latitude': -31.72,\n",
       "    'country': 'Argentina',\n",
       "    'sourceId': 'argentina-ina',\n",
       "    'identifier': 'argentina-ina:sat2:5901',\n",
       "    'name': 'Paraná - Túnel subfluvial',\n",
       "    'id': '3B33C316B7F67D28C04C8D2E9EAC6C92BBE00C89',\n",
       "    'author': None}},\n",
       "  {'geometry': {'coordinates': [-60.7002319185745, -31.6514772196376],\n",
       "    'type': 'Point'},\n",
       "   'properties': {'longitude': -60.7002319185745,\n",
       "    'latitude': -31.6514772196376,\n",
       "    'country': 'Argentina',\n",
       "    'sourceId': 'argentina-ina',\n",
       "    'identifier': 'argentina-ina:alturas_prefe:30',\n",
       "    'name': 'Santa Fe',\n",
       "    'id': '3D6199412BFA3DFEAB30DD9E0E4C7EEFEB6DECE1',\n",
       "    'author': None}},\n",
       "  {'geometry': {'coordinates': [-59.3625, -26.3341666666667], 'type': 'Point'},\n",
       "   'properties': {'longitude': -59.3625,\n",
       "    'latitude': -26.3341666666667,\n",
       "    'country': 'Argentina',\n",
       "    'sourceId': 'argentina-ina',\n",
       "    'identifier': 'argentina-ina:sat2:2188',\n",
       "    'name': 'Bermejo - El Colorado',\n",
       "    'id': '45355E7831EFFB569CCF606A8FD84B353C8F69B3',\n",
       "    'author': None}},\n",
       "  {'geometry': {'coordinates': [-54.593363, -25.592701], 'type': 'Point'},\n",
       "   'properties': {'longitude': -54.593363,\n",
       "    'latitude': -25.592701,\n",
       "    'country': 'Argentina',\n",
       "    'sourceId': 'argentina-ina',\n",
       "    'identifier': 'argentina-ina:alturas_prefe:93',\n",
       "    'name': 'Confluencia',\n",
       "    'id': '4638148B18E69F759A31CF738A0B4EA1FC93408D',\n",
       "    'author': None}},\n",
       "  {'geometry': {'coordinates': [-60.6020555555556, -31.6611388888889],\n",
       "    'type': 'Point'},\n",
       "   'properties': {'longitude': -60.6020555555556,\n",
       "    'latitude': -31.6611388888889,\n",
       "    'country': 'Argentina',\n",
       "    'sourceId': 'argentina-ina',\n",
       "    'identifier': 'argentina-ina:alturas_bdhi:122',\n",
       "    'name': 'Ruta Nacional nº 168',\n",
       "    'id': '4E5049353F84838B543263F28350F3F6F0AFBF1A',\n",
       "    'author': None}},\n",
       "  {'geometry': {'coordinates': [-58.1833333333333, -26.1833333333333],\n",
       "    'type': 'Point'},\n",
       "   'properties': {'longitude': -58.1833333333333,\n",
       "    'latitude': -26.1833333333333,\n",
       "    'country': 'Argentina',\n",
       "    'sourceId': 'argentina-ina',\n",
       "    'identifier': 'argentina-ina:alturas_prefe:57',\n",
       "    'name': 'Puerto Formosa',\n",
       "    'id': '588230A4E9F7E8B48E57262B53FC4BBE511DB6D6',\n",
       "    'author': None}},\n",
       "  {'geometry': {'coordinates': [-57.0833333333333, -29.7166666666667],\n",
       "    'type': 'Point'},\n",
       "   'properties': {'longitude': -57.0833333333333,\n",
       "    'latitude': -29.7166666666667,\n",
       "    'country': 'Argentina',\n",
       "    'sourceId': 'argentina-ina',\n",
       "    'identifier': 'argentina-ina:alturas_prefe:72',\n",
       "    'name': 'Paso de los Libres',\n",
       "    'id': '5D4AF2886B4D79302D1F3F2EE3F33420865A2411',\n",
       "    'author': None}},\n",
       "  {'geometry': {'coordinates': [-60.6779722222222, -31.6301388888889],\n",
       "    'type': 'Point'},\n",
       "   'properties': {'longitude': -60.6779722222222,\n",
       "    'latitude': -31.6301388888889,\n",
       "    'country': 'Argentina',\n",
       "    'sourceId': 'argentina-ina',\n",
       "    'identifier': 'argentina-ina:alturas_bdhi:5910',\n",
       "    'name': 'SANTA FE - LA GUARDIA',\n",
       "    'id': '63DD9E8DB77A8371D6FABDFA8547EC752158FB47',\n",
       "    'author': None}},\n",
       "  {'geometry': {'coordinates': [-55.1333333333333, -27.8833333333333],\n",
       "    'type': 'Point'},\n",
       "   'properties': {'longitude': -55.1333333333333,\n",
       "    'latitude': -27.8833333333333,\n",
       "    'country': 'Argentina',\n",
       "    'sourceId': 'argentina-ina',\n",
       "    'identifier': 'argentina-ina:alturas_prefe:65',\n",
       "    'name': 'San Javier',\n",
       "    'id': '670DBE1488487406B9BFA7BBC32FFE83EF34D28B',\n",
       "    'author': None}},\n",
       "  {'geometry': {'coordinates': [-53.995, -25.5905555555556], 'type': 'Point'},\n",
       "   'properties': {'longitude': -53.995,\n",
       "    'latitude': -25.5905555555556,\n",
       "    'country': 'Argentina',\n",
       "    'sourceId': 'argentina-ina',\n",
       "    'identifier': 'argentina-ina:sat2:2178',\n",
       "    'name': 'Iguazú - Puerto Andresito',\n",
       "    'id': '6E40C41DBA2529CC4BC79B5E8AEF9AF086FF6C6E',\n",
       "    'author': None}},\n",
       "  {'geometry': {'coordinates': [-54.2, -27.3], 'type': 'Point'},\n",
       "   'properties': {'longitude': -54.2,\n",
       "    'latitude': -27.3,\n",
       "    'country': 'Argentina',\n",
       "    'sourceId': 'argentina-ina',\n",
       "    'identifier': 'argentina-ina:alturas_prefe:61',\n",
       "    'name': 'El Soberbio',\n",
       "    'id': '7040838B6BB402DAAA03931F9AEC8113C897D73A',\n",
       "    'author': None}},\n",
       "  {'geometry': {'coordinates': [-55.129216, -27.869343], 'type': 'Point'},\n",
       "   'properties': {'longitude': -55.129216,\n",
       "    'latitude': -27.869343,\n",
       "    'country': 'Argentina',\n",
       "    'sourceId': 'argentina-ina',\n",
       "    'identifier': 'argentina-ina:estaciones_salto_grande:1037',\n",
       "    'name': 'San Javier',\n",
       "    'id': '71227700C171EA106BD1E29BDF29E908F5C171B2',\n",
       "    'author': None}},\n",
       "  {'geometry': {'coordinates': [-59.0108657589595, -34.0987818311696],\n",
       "    'type': 'Point'},\n",
       "   'properties': {'longitude': -59.0108657589595,\n",
       "    'latitude': -34.0987818311696,\n",
       "    'country': 'Argentina',\n",
       "    'sourceId': 'argentina-ina',\n",
       "    'identifier': 'argentina-ina:alturas_prefe:40',\n",
       "    'name': 'Zárate',\n",
       "    'id': '74B2BA23C3119E3A6F5FEDDE2538CF0A71C9B9D1',\n",
       "    'author': None}},\n",
       "  {'geometry': {'coordinates': [-59.6497183332918, -33.6745267329027],\n",
       "    'type': 'Point'},\n",
       "   'properties': {'longitude': -59.6497183332918,\n",
       "    'latitude': -33.6745267329027,\n",
       "    'country': 'Argentina',\n",
       "    'sourceId': 'argentina-ina',\n",
       "    'identifier': 'argentina-ina:alturas_prefe:38',\n",
       "    'name': 'San Pedro',\n",
       "    'id': '7FE2C8C2F189385DC638AFB4B76D3A2B8092490E',\n",
       "    'author': None}},\n",
       "  {'geometry': {'coordinates': [-59.3624166666667, -26.3342777777778],\n",
       "    'type': 'Point'},\n",
       "   'properties': {'longitude': -59.3624166666667,\n",
       "    'latitude': -26.3342777777778,\n",
       "    'country': 'Argentina',\n",
       "    'sourceId': 'argentina-ina',\n",
       "    'identifier': 'argentina-ina:alturas_bdhi:2046',\n",
       "    'name': 'El Colorado',\n",
       "    'id': '8572EAAB24A7E531577CC4B33DDE3162F1F1EE36',\n",
       "    'author': None}},\n",
       "  {'geometry': {'coordinates': [-54.4982222222222, -26.355], 'type': 'Point'},\n",
       "   'properties': {'longitude': -54.4982222222222,\n",
       "    'latitude': -26.355,\n",
       "    'country': 'Argentina',\n",
       "    'sourceId': 'argentina-ina',\n",
       "    'identifier': 'argentina-ina:alturas_bdhi:2025',\n",
       "    'name': 'Piray Miní - Valle Hermoso',\n",
       "    'id': '88C535C1C4EB5C1726ADACBEDAE9E7C3EB070964',\n",
       "    'author': None}},\n",
       "  {'geometry': {'coordinates': [-59.8169444444444, -34.3519444444444],\n",
       "    'type': 'Point'},\n",
       "   'properties': {'longitude': -59.8169444444444,\n",
       "    'latitude': -34.3519444444444,\n",
       "    'country': 'Argentina',\n",
       "    'sourceId': 'argentina-ina',\n",
       "    'identifier': 'argentina-ina:sat2:6544',\n",
       "    'name': 'Areco - Carmen de Areco',\n",
       "    'id': '8EF9E5A4E887BC671B7F76937DA7316AF5DC02CA',\n",
       "    'author': None}},\n",
       "  {'geometry': {'coordinates': [-55.642269, -28.177515], 'type': 'Point'},\n",
       "   'properties': {'longitude': -55.642269,\n",
       "    'latitude': -28.177515,\n",
       "    'country': 'Argentina',\n",
       "    'sourceId': 'argentina-ina',\n",
       "    'identifier': 'argentina-ina:estaciones_salto_grande:1035',\n",
       "    'name': 'Garruchos',\n",
       "    'id': '94BF5172735BD48140FA057F615CA5ABB466EFE3',\n",
       "    'author': None}},\n",
       "  {'geometry': {'coordinates': [-57.674446, -29.845637], 'type': 'Point'},\n",
       "   'properties': {'longitude': -57.674446,\n",
       "    'latitude': -29.845637,\n",
       "    'country': 'Argentina',\n",
       "    'sourceId': 'argentina-ina',\n",
       "    'identifier': 'argentina-ina:estaciones_salto_grande:1063',\n",
       "    'name': 'Miriñay Río',\n",
       "    'id': '9CD72E34F30922F23250F08D6BB878E9D8B99B41',\n",
       "    'author': None}},\n",
       "  {'geometry': {'coordinates': [-58.9333333333333, -27.4833333333333],\n",
       "    'type': 'Point'},\n",
       "   'properties': {'longitude': -58.9333333333333,\n",
       "    'latitude': -27.4833333333333,\n",
       "    'country': 'Argentina',\n",
       "    'sourceId': 'argentina-ina',\n",
       "    'identifier': 'argentina-ina:alturas_prefe:20',\n",
       "    'name': 'Barranqueras',\n",
       "    'id': 'A0B3D2485864049356783CD1DE136A84768E9284',\n",
       "    'author': None}},\n",
       "  {'geometry': {'coordinates': [-57.936945, -31.27547], 'type': 'Point'},\n",
       "   'properties': {'longitude': -57.936945,\n",
       "    'latitude': -31.27547,\n",
       "    'country': 'Argentina',\n",
       "    'sourceId': 'argentina-ina',\n",
       "    'identifier': 'argentina-ina:alturas_prefe:78',\n",
       "    'name': 'Salto Grande Abajo',\n",
       "    'id': 'ACDBC2528E4886B90A5EE42C12B561ADAD76C29C',\n",
       "    'author': None}},\n",
       "  {'geometry': {'coordinates': [-57.938011, -31.273969], 'type': 'Point'},\n",
       "   'properties': {'longitude': -57.938011,\n",
       "    'latitude': -31.273969,\n",
       "    'country': 'Argentina',\n",
       "    'sourceId': 'argentina-ina',\n",
       "    'identifier': 'argentina-ina:alturas_prefe:90',\n",
       "    'name': 'Erogado Salto Grande',\n",
       "    'id': 'B1FE1C7BE118E005E0134B246EB5086DC6C61A6A',\n",
       "    'author': None}},\n",
       "  {'geometry': {'coordinates': [-56.258444444, -27.824527778],\n",
       "    'type': 'Point'},\n",
       "   'properties': {'longitude': -56.258444444,\n",
       "    'latitude': -27.824527778,\n",
       "    'country': 'Argentina',\n",
       "    'sourceId': 'argentina-ina',\n",
       "    'identifier': 'argentina-ina:alturas_bdhi:2070',\n",
       "    'name': 'Aguapey - Caa Caraí',\n",
       "    'id': 'B38D3131C4A20CAF19650A608203326E72FAC085',\n",
       "    'author': None}},\n",
       "  {'geometry': {'coordinates': [-58.5070277777778, -26.9258888888889],\n",
       "    'type': 'Point'},\n",
       "   'properties': {'longitude': -58.5070277777778,\n",
       "    'latitude': -26.9258888888889,\n",
       "    'country': 'Argentina',\n",
       "    'sourceId': 'argentina-ina',\n",
       "    'identifier': 'argentina-ina:alturas_bdhi:2101',\n",
       "    'name': 'Paraguay - Puerto Bermejo',\n",
       "    'id': 'B426678B2EB554336B4DC9FDB4AA4DD25EF440BC',\n",
       "    'author': None}},\n",
       "  {'geometry': {'coordinates': [-57.65, -25.3666666666667], 'type': 'Point'},\n",
       "   'properties': {'longitude': -57.65,\n",
       "    'latitude': -25.3666666666667,\n",
       "    'country': 'Argentina',\n",
       "    'sourceId': 'argentina-ina',\n",
       "    'identifier': 'argentina-ina:alturas_prefe:55',\n",
       "    'name': 'Puerto Pilcomayo',\n",
       "    'id': 'B76F89BC3A30F644310F1CC4C611C7EA6047DA7A',\n",
       "    'author': None}},\n",
       "  {'geometry': {'coordinates': [-56.0333333333333, -28.55], 'type': 'Point'},\n",
       "   'properties': {'longitude': -56.0333333333333,\n",
       "    'latitude': -28.55,\n",
       "    'country': 'Argentina',\n",
       "    'sourceId': 'argentina-ina',\n",
       "    'identifier': 'argentina-ina:alturas_prefe:68',\n",
       "    'name': 'Santo Tomé',\n",
       "    'id': 'C2C298DAC1EBB179763E064D213E671B4B199F42',\n",
       "    'author': None}},\n",
       "  {'geometry': {'coordinates': [-58.2443055555556, -27.26625],\n",
       "    'type': 'Point'},\n",
       "   'properties': {'longitude': -58.2443055555556,\n",
       "    'latitude': -27.26625,\n",
       "    'country': 'Argentina',\n",
       "    'sourceId': 'argentina-ina',\n",
       "    'identifier': 'argentina-ina:alturas_bdhi:2082',\n",
       "    'name': 'Paraná - Itatí',\n",
       "    'id': 'C5E647BB1FA659FBB88DDAB2E5581195093E2444',\n",
       "    'author': None}},\n",
       "  {'geometry': {'coordinates': [-60.5175277777778, -31.7198611111111],\n",
       "    'type': 'Point'},\n",
       "   'properties': {'longitude': -60.5175277777778,\n",
       "    'latitude': -31.7198611111111,\n",
       "    'country': 'Argentina',\n",
       "    'sourceId': 'argentina-ina',\n",
       "    'identifier': 'argentina-ina:alturas_bdhi:2049',\n",
       "    'name': 'Paraná - Tunel Subfluvial',\n",
       "    'id': 'C8D5E819285EFC1C9FB01A27D5620EED446673D7',\n",
       "    'author': None}},\n",
       "  {'geometry': {'coordinates': [-60.6308206029857, -32.9432699442268],\n",
       "    'type': 'Point'},\n",
       "   'properties': {'longitude': -60.6308206029857,\n",
       "    'latitude': -32.9432699442268,\n",
       "    'country': 'Argentina',\n",
       "    'sourceId': 'argentina-ina',\n",
       "    'identifier': 'argentina-ina:alturas_prefe:34',\n",
       "    'name': 'Rosario',\n",
       "    'id': 'CCA40036EDCA13FB4BCBE1305FC3EF866E8CF015',\n",
       "    'author': None}},\n",
       "  {'geometry': {'coordinates': [-53.9833333333333, -25.5833333333333],\n",
       "    'type': 'Point'},\n",
       "   'properties': {'longitude': -53.9833333333333,\n",
       "    'latitude': -25.5833333333333,\n",
       "    'country': 'Argentina',\n",
       "    'sourceId': 'argentina-ina',\n",
       "    'identifier': 'argentina-ina:alturas_prefe:8',\n",
       "    'name': 'Andresito',\n",
       "    'id': 'CFD04512F2051C00F5CFD00C4DE766399684B033',\n",
       "    'author': None}},\n",
       "  {'geometry': {'coordinates': [-54.193437, -27.298582], 'type': 'Point'},\n",
       "   'properties': {'longitude': -54.193437,\n",
       "    'latitude': -27.298582,\n",
       "    'country': 'Argentina',\n",
       "    'sourceId': 'argentina-ina',\n",
       "    'identifier': 'argentina-ina:estaciones_salto_grande:1038',\n",
       "    'name': 'El Soberbio',\n",
       "    'id': 'D144E7C427EDC3B96B90FB792EA5AB808BD7DA83',\n",
       "    'author': None}},\n",
       "  {'geometry': {'coordinates': [-60.5225697750899, -31.7182378629681],\n",
       "    'type': 'Point'},\n",
       "   'properties': {'longitude': -60.5225697750899,\n",
       "    'latitude': -31.7182378629681,\n",
       "    'country': 'Argentina',\n",
       "    'sourceId': 'argentina-ina',\n",
       "    'identifier': 'argentina-ina:alturas_prefe:29',\n",
       "    'name': 'Paraná',\n",
       "    'id': 'D35B4E539A4840513F23C64F15BE89333B7488D7',\n",
       "    'author': None}},\n",
       "  {'geometry': {'coordinates': [-55.65, -28.1833333333333], 'type': 'Point'},\n",
       "   'properties': {'longitude': -55.65,\n",
       "    'latitude': -28.1833333333333,\n",
       "    'country': 'Argentina',\n",
       "    'sourceId': 'argentina-ina',\n",
       "    'identifier': 'argentina-ina:alturas_prefe:67',\n",
       "    'name': 'Garruchos',\n",
       "    'id': 'D37C942BC102184B654894014701E8C9C82E7C3D',\n",
       "    'author': None}},\n",
       "  {'geometry': {'coordinates': [-57.6503055555556, -25.372], 'type': 'Point'},\n",
       "   'properties': {'longitude': -57.6503055555556,\n",
       "    'latitude': -25.372,\n",
       "    'country': 'Argentina',\n",
       "    'sourceId': 'argentina-ina',\n",
       "    'identifier': 'argentina-ina:alturas_bdhi:2047',\n",
       "    'name': 'Pilcomayo - Puerto Pilcomayo',\n",
       "    'id': 'D6942570E3BED83AE612AC2914D26DB36A063211',\n",
       "    'author': None}},\n",
       "  {'geometry': {'coordinates': [-54.5666666666667, -25.5833333333333],\n",
       "    'type': 'Point'},\n",
       "   'properties': {'longitude': -54.5666666666667,\n",
       "    'latitude': -25.5833333333333,\n",
       "    'country': 'Argentina',\n",
       "    'sourceId': 'argentina-ina',\n",
       "    'identifier': 'argentina-ina:alturas_prefe:9',\n",
       "    'name': 'Puerto Iguazú',\n",
       "    'id': 'D72E4C7C36119D3899C5C78BD12ACD8D81B842FC',\n",
       "    'author': None}},\n",
       "  {'geometry': {'coordinates': [-58.9, -33.8833333333], 'type': 'Point'},\n",
       "   'properties': {'longitude': -58.9,\n",
       "    'latitude': -33.8833333333,\n",
       "    'country': 'Argentina',\n",
       "    'sourceId': 'argentina-ina',\n",
       "    'identifier': 'argentina-ina:alturas_prefe:97',\n",
       "    'name': 'Brazo Largo',\n",
       "    'id': 'DAF0D6DEB5D95AD250E57D4A314B0C35C86B987E',\n",
       "    'author': None}},\n",
       "  {'geometry': {'coordinates': [-58.24407387, -27.26677773], 'type': 'Point'},\n",
       "   'properties': {'longitude': -58.24407387,\n",
       "    'latitude': -27.26677773,\n",
       "    'country': 'Argentina',\n",
       "    'sourceId': 'argentina-ina',\n",
       "    'identifier': 'argentina-ina:alturas_prefe:17',\n",
       "    'name': 'Itatí',\n",
       "    'id': 'DD7287DE57DFAD2B69C2D99C2B72BDA7450E952C',\n",
       "    'author': None}},\n",
       "  {'geometry': {'coordinates': [-54.4538333333333, -26.512], 'type': 'Point'},\n",
       "   'properties': {'longitude': -54.4538333333333,\n",
       "    'latitude': -26.512,\n",
       "    'country': 'Argentina',\n",
       "    'sourceId': 'argentina-ina',\n",
       "    'identifier': 'argentina-ina:alturas_bdhi:2026',\n",
       "    'name': 'Piray Guazú - Pinar Ciba',\n",
       "    'id': 'DE2D70022F8FB5A30D5B8D27721996CE5029F47E',\n",
       "    'author': None}},\n",
       "  {'geometry': {'coordinates': [-59.0769444444445, -32.3086111111111],\n",
       "    'type': 'Point'},\n",
       "   'properties': {'longitude': -59.0769444444445,\n",
       "    'latitude': -32.3086111111111,\n",
       "    'country': 'Argentina',\n",
       "    'sourceId': 'argentina-ina',\n",
       "    'identifier': 'argentina-ina:sat2:2203',\n",
       "    'name': 'Gualeguay - Rosario del Tala',\n",
       "    'id': 'DFD96AC4A30EE51D31BF09A6F7EECC9C269556E1',\n",
       "    'author': None}},\n",
       "  {'geometry': {'coordinates': [-59.4994444444444, -34.2405555555556],\n",
       "    'type': 'Point'},\n",
       "   'properties': {'longitude': -59.4994444444444,\n",
       "    'latitude': -34.2405555555556,\n",
       "    'country': 'Argentina',\n",
       "    'sourceId': 'argentina-ina',\n",
       "    'identifier': 'argentina-ina:sat2:2215',\n",
       "    'name': 'Río Areco - San Antonio de Are',\n",
       "    'id': 'ECF425708E7A51D0047EAD3824801C786A0948FF',\n",
       "    'author': None}},\n",
       "  {'geometry': {'coordinates': [-58.8388696, -27.46364349], 'type': 'Point'},\n",
       "   'properties': {'longitude': -58.8388696,\n",
       "    'latitude': -27.46364349,\n",
       "    'country': 'Argentina',\n",
       "    'sourceId': 'argentina-ina',\n",
       "    'identifier': 'argentina-ina:alturas_prefe:19',\n",
       "    'name': 'Corrientes',\n",
       "    'id': 'F426CC5C7D4A1563EE3B41E4F50FB4DE8568D3F2',\n",
       "    'author': None}},\n",
       "  {'geometry': {'coordinates': [-57.936945, -31.27547], 'type': 'Point'},\n",
       "   'properties': {'longitude': -57.936945,\n",
       "    'latitude': -31.27547,\n",
       "    'country': 'Argentina',\n",
       "    'sourceId': 'argentina-ina',\n",
       "    'identifier': 'argentina-ina:alturas_prefe:77',\n",
       "    'name': 'Salto Grande Arriba',\n",
       "    'id': 'F5C001AAB05E68773AAEF77E7D4C6085CBD7AD73',\n",
       "    'author': None}},\n",
       "  {'geometry': {'coordinates': [-62.5234722222222, -22.3775], 'type': 'Point'},\n",
       "   'properties': {'longitude': -62.5234722222222,\n",
       "    'latitude': -22.3775,\n",
       "    'country': 'Argentina',\n",
       "    'sourceId': 'argentina-ina',\n",
       "    'identifier': 'argentina-ina:alturas_bdhi:1978',\n",
       "    'name': 'Pilcomayo - La Paz',\n",
       "    'id': 'F8616EC2A979C3E76482FB83F0EE1564F6CC776B',\n",
       "    'author': None}},\n",
       "  {'geometry': {'coordinates': [-56.727244, -27.482557], 'type': 'Point'},\n",
       "   'properties': {'longitude': -56.727244,\n",
       "    'latitude': -27.482557,\n",
       "    'country': 'Argentina',\n",
       "    'sourceId': 'argentina-ina',\n",
       "    'identifier': 'argentina-ina:alturas_prefe:88',\n",
       "    'name': 'Yacyretá efluente',\n",
       "    'id': 'FAAC49BA633EFF325BE5D2BA81BE14574A268ABA',\n",
       "    'author': None}},\n",
       "  {'geometry': {'coordinates': [-58.0166666666667, -31.4], 'type': 'Point'},\n",
       "   'properties': {'longitude': -58.0166666666667,\n",
       "    'latitude': -31.4,\n",
       "    'country': 'Argentina',\n",
       "    'sourceId': 'argentina-ina',\n",
       "    'identifier': 'argentina-ina:alturas_prefe:79',\n",
       "    'name': 'Concordia',\n",
       "    'id': 'FB7404060DA544222C32F7A19374FB217127E928',\n",
       "    'author': None}},\n",
       "  {'geometry': {'coordinates': [-56.55, -29.1], 'type': 'Point'},\n",
       "   'properties': {'longitude': -56.55,\n",
       "    'latitude': -29.1,\n",
       "    'country': 'Argentina',\n",
       "    'sourceId': 'argentina-ina',\n",
       "    'identifier': 'argentina-ina:alturas_prefe:69',\n",
       "    'name': 'Alvear',\n",
       "    'id': 'FD659B06C6075E54A63CEFD27E89BB991DAA1932',\n",
       "    'author': None}}]}"
      ]
     },
     "execution_count": 27,
     "metadata": {},
     "output_type": "execute_result"
    }
   ],
   "source": [
    "featuresToGeoJSON(features)"
   ]
  },
  {
   "cell_type": "code",
   "execution_count": null,
   "metadata": {},
   "outputs": [
    {
     "data": {
      "application/vnd.plotly.v1+json": {
       "config": {
        "plotlyServerURL": "https://plot.ly"
       },
       "data": [
        {
         "hovertemplate": "<b>%{hovertext}</b><br><br>longitude=%{x}<br>latitude=%{y}<extra></extra>",
         "hovertext": [
          "Aporte Salto Grande",
          "Recreo - Ruta Provincial nº 70",
          "Corriente - Paso Lucero",
          "Monte Caseros",
          "Posadas",
          "Paranay - El Alcazar",
          "Rosario del Tala",
          "Lujan - Lujan",
          "Yacyretá afluente",
          "Corrientes - Los Laureles",
          "Libertad",
          "Gualeguay - Villaguay",
          "Paraná - Túnel subfluvial",
          "Santa Fe",
          "Bermejo - El Colorado",
          "Confluencia",
          "Ruta Nacional nº 168",
          "Puerto Formosa",
          "Paso de los Libres",
          "SANTA FE - LA GUARDIA",
          "San Javier",
          "Iguazú - Puerto Andresito",
          "El Soberbio",
          "San Javier",
          "Zárate",
          "San Pedro",
          "El Colorado",
          "Piray Miní - Valle Hermoso",
          "Areco - Carmen de Areco",
          "Garruchos",
          "Miriñay Río",
          "Barranqueras",
          "Salto Grande Abajo",
          "Erogado Salto Grande",
          "Aguapey - Caa Caraí",
          "Paraguay - Puerto Bermejo",
          "Puerto Pilcomayo",
          "Santo Tomé",
          "Paraná - Itatí",
          "Paraná - Tunel Subfluvial",
          "Rosario",
          "Andresito",
          "El Soberbio",
          "Paraná",
          "Garruchos",
          "Pilcomayo - Puerto Pilcomayo",
          "Puerto Iguazú",
          "Brazo Largo",
          "Itatí",
          "Piray Guazú - Pinar Ciba",
          "Gualeguay - Rosario del Tala",
          "Río Areco - San Antonio de Are",
          "Corrientes",
          "Salto Grande Arriba",
          "Pilcomayo - La Paz",
          "Yacyretá efluente",
          "Concordia",
          "Alvear"
         ],
         "legendgroup": "",
         "marker": {
          "color": "#636efa",
          "symbol": "circle"
         },
         "mode": "markers",
         "name": "",
         "orientation": "v",
         "showlegend": false,
         "type": "scatter",
         "x": {
          "bdata": "5iSUvhD4TMBF6ZM+6WNOwHN3d3d3R03ADBERERHRTMAMEREREfFLwEbF2YfPYEvAl6Gyw9SJTcACOm2g05ZNwCob1lQWXUzAUzQS8M2bTcCCN6RRgU9LwDTxrGgkkE3ACtejcD1CTsBI8hIzoVlOwGZmZmZmrk3ABtSbUfNLS8BDvgwoEE1OwHN3d3d3F03ApqqqqqqKTMA5BTXLx1ZOwAwRERERkUvAj8L1KFz/SsCamZmZmRlLwFoPXyaKkEvASrCXDGSBTcDKjGj4KdNNwO1tWatjrk3A20rrvsU/S8DQxLOikehNwAge39410kvAgnUcP1TWTMBzd3d3d3dNwEuTUtDt90zA5iSUvhD4TMANaCG1FCFMwA/cRUnmQE3AMzMzMzPTTMBARERERARMwNSriWdFH03A4imoWT5CTsC5u8G6vlBOwNnd3d3d/UrADmsqi8IYS8DR8f6Q40JOwDMzMzMz00vAW8JiNj3TTMCNiIiIiEhLwDMzMzMzc03ApboE0D0fTcAnQO41FzpLwL8/yFDZiU3AX4epy+2/TcDnzTwUYGtNwEuTUtDt90zAh2dFIwFDT8AqG9ZUFl1MwCciIiIiAk3AZmZmZmZGTMA=",
          "dtype": "f8"
         },
         "xaxis": "x",
         "y": {
          "bdata": "Kh4X1SJGP8BGg1O9wH0/wB+F61G4/jzAAAAAAABAPsDn3d3d3V07wNV46SYxwDrAc2iR7XwnQMBL2WHqcktBwLR0BduIezvAsT/IUNnBPcAT7pV5q+o5wHeg0wY6zT/AuB6F61G4P8C4bgg2x6Y/wC+/WPKLVTrAd06zQLuXOcBA5PFlQKk/wObu7u7uLjrAgXd3d3e3PcAytz/IUKE/wBkiIiIi4jvAGZUdpi6XOcDNzMzMzEw7wKwBSkON3jvA/icP4qQMQcAjDFnkVtZAwNBVezqTVTrAexSuR+FaOsDkcvuDDC1BwKiMf59xLTzAnUmbqnvYPcCyu7u7u3s7wHQHsTOFRj/AKh4X1SJGP8BPJ6FAFNM7wPKB4Q0H7TrA593d3d1dOcDNzMzMzIw8wFyPwvUoRDvAaOJZ0Ui4P8B+4MwRvXhAwExVVVVVlTnAnSy13m9MO8BpMsRv3rc/wObu7u7uLjzArBxaZDtfOcBMVVVVVZU5wL7+EBER8UDAsKaZi0tEO8BQjZduEoM6wMOzopGAJ0DAwP1BhsoeQcCljfpWsXY7wHQHsTOFRj/AcT0K16NgNsC0dAXbiHs7wGZmZmZmZj/AmpmZmZkZPcA=",
          "dtype": "f8"
         },
         "yaxis": "y"
        }
       ],
       "layout": {
        "legend": {
         "tracegroupgap": 0
        },
        "template": {
         "data": {
          "bar": [
           {
            "error_x": {
             "color": "#2a3f5f"
            },
            "error_y": {
             "color": "#2a3f5f"
            },
            "marker": {
             "line": {
              "color": "#E5ECF6",
              "width": 0.5
             },
             "pattern": {
              "fillmode": "overlay",
              "size": 10,
              "solidity": 0.2
             }
            },
            "type": "bar"
           }
          ],
          "barpolar": [
           {
            "marker": {
             "line": {
              "color": "#E5ECF6",
              "width": 0.5
             },
             "pattern": {
              "fillmode": "overlay",
              "size": 10,
              "solidity": 0.2
             }
            },
            "type": "barpolar"
           }
          ],
          "carpet": [
           {
            "aaxis": {
             "endlinecolor": "#2a3f5f",
             "gridcolor": "white",
             "linecolor": "white",
             "minorgridcolor": "white",
             "startlinecolor": "#2a3f5f"
            },
            "baxis": {
             "endlinecolor": "#2a3f5f",
             "gridcolor": "white",
             "linecolor": "white",
             "minorgridcolor": "white",
             "startlinecolor": "#2a3f5f"
            },
            "type": "carpet"
           }
          ],
          "choropleth": [
           {
            "colorbar": {
             "outlinewidth": 0,
             "ticks": ""
            },
            "type": "choropleth"
           }
          ],
          "contour": [
           {
            "colorbar": {
             "outlinewidth": 0,
             "ticks": ""
            },
            "colorscale": [
             [
              0,
              "#0d0887"
             ],
             [
              0.1111111111111111,
              "#46039f"
             ],
             [
              0.2222222222222222,
              "#7201a8"
             ],
             [
              0.3333333333333333,
              "#9c179e"
             ],
             [
              0.4444444444444444,
              "#bd3786"
             ],
             [
              0.5555555555555556,
              "#d8576b"
             ],
             [
              0.6666666666666666,
              "#ed7953"
             ],
             [
              0.7777777777777778,
              "#fb9f3a"
             ],
             [
              0.8888888888888888,
              "#fdca26"
             ],
             [
              1,
              "#f0f921"
             ]
            ],
            "type": "contour"
           }
          ],
          "contourcarpet": [
           {
            "colorbar": {
             "outlinewidth": 0,
             "ticks": ""
            },
            "type": "contourcarpet"
           }
          ],
          "heatmap": [
           {
            "colorbar": {
             "outlinewidth": 0,
             "ticks": ""
            },
            "colorscale": [
             [
              0,
              "#0d0887"
             ],
             [
              0.1111111111111111,
              "#46039f"
             ],
             [
              0.2222222222222222,
              "#7201a8"
             ],
             [
              0.3333333333333333,
              "#9c179e"
             ],
             [
              0.4444444444444444,
              "#bd3786"
             ],
             [
              0.5555555555555556,
              "#d8576b"
             ],
             [
              0.6666666666666666,
              "#ed7953"
             ],
             [
              0.7777777777777778,
              "#fb9f3a"
             ],
             [
              0.8888888888888888,
              "#fdca26"
             ],
             [
              1,
              "#f0f921"
             ]
            ],
            "type": "heatmap"
           }
          ],
          "histogram": [
           {
            "marker": {
             "pattern": {
              "fillmode": "overlay",
              "size": 10,
              "solidity": 0.2
             }
            },
            "type": "histogram"
           }
          ],
          "histogram2d": [
           {
            "colorbar": {
             "outlinewidth": 0,
             "ticks": ""
            },
            "colorscale": [
             [
              0,
              "#0d0887"
             ],
             [
              0.1111111111111111,
              "#46039f"
             ],
             [
              0.2222222222222222,
              "#7201a8"
             ],
             [
              0.3333333333333333,
              "#9c179e"
             ],
             [
              0.4444444444444444,
              "#bd3786"
             ],
             [
              0.5555555555555556,
              "#d8576b"
             ],
             [
              0.6666666666666666,
              "#ed7953"
             ],
             [
              0.7777777777777778,
              "#fb9f3a"
             ],
             [
              0.8888888888888888,
              "#fdca26"
             ],
             [
              1,
              "#f0f921"
             ]
            ],
            "type": "histogram2d"
           }
          ],
          "histogram2dcontour": [
           {
            "colorbar": {
             "outlinewidth": 0,
             "ticks": ""
            },
            "colorscale": [
             [
              0,
              "#0d0887"
             ],
             [
              0.1111111111111111,
              "#46039f"
             ],
             [
              0.2222222222222222,
              "#7201a8"
             ],
             [
              0.3333333333333333,
              "#9c179e"
             ],
             [
              0.4444444444444444,
              "#bd3786"
             ],
             [
              0.5555555555555556,
              "#d8576b"
             ],
             [
              0.6666666666666666,
              "#ed7953"
             ],
             [
              0.7777777777777778,
              "#fb9f3a"
             ],
             [
              0.8888888888888888,
              "#fdca26"
             ],
             [
              1,
              "#f0f921"
             ]
            ],
            "type": "histogram2dcontour"
           }
          ],
          "mesh3d": [
           {
            "colorbar": {
             "outlinewidth": 0,
             "ticks": ""
            },
            "type": "mesh3d"
           }
          ],
          "parcoords": [
           {
            "line": {
             "colorbar": {
              "outlinewidth": 0,
              "ticks": ""
             }
            },
            "type": "parcoords"
           }
          ],
          "pie": [
           {
            "automargin": true,
            "type": "pie"
           }
          ],
          "scatter": [
           {
            "fillpattern": {
             "fillmode": "overlay",
             "size": 10,
             "solidity": 0.2
            },
            "type": "scatter"
           }
          ],
          "scatter3d": [
           {
            "line": {
             "colorbar": {
              "outlinewidth": 0,
              "ticks": ""
             }
            },
            "marker": {
             "colorbar": {
              "outlinewidth": 0,
              "ticks": ""
             }
            },
            "type": "scatter3d"
           }
          ],
          "scattercarpet": [
           {
            "marker": {
             "colorbar": {
              "outlinewidth": 0,
              "ticks": ""
             }
            },
            "type": "scattercarpet"
           }
          ],
          "scattergeo": [
           {
            "marker": {
             "colorbar": {
              "outlinewidth": 0,
              "ticks": ""
             }
            },
            "type": "scattergeo"
           }
          ],
          "scattergl": [
           {
            "marker": {
             "colorbar": {
              "outlinewidth": 0,
              "ticks": ""
             }
            },
            "type": "scattergl"
           }
          ],
          "scattermap": [
           {
            "marker": {
             "colorbar": {
              "outlinewidth": 0,
              "ticks": ""
             }
            },
            "type": "scattermap"
           }
          ],
          "scattermapbox": [
           {
            "marker": {
             "colorbar": {
              "outlinewidth": 0,
              "ticks": ""
             }
            },
            "type": "scattermapbox"
           }
          ],
          "scatterpolar": [
           {
            "marker": {
             "colorbar": {
              "outlinewidth": 0,
              "ticks": ""
             }
            },
            "type": "scatterpolar"
           }
          ],
          "scatterpolargl": [
           {
            "marker": {
             "colorbar": {
              "outlinewidth": 0,
              "ticks": ""
             }
            },
            "type": "scatterpolargl"
           }
          ],
          "scatterternary": [
           {
            "marker": {
             "colorbar": {
              "outlinewidth": 0,
              "ticks": ""
             }
            },
            "type": "scatterternary"
           }
          ],
          "surface": [
           {
            "colorbar": {
             "outlinewidth": 0,
             "ticks": ""
            },
            "colorscale": [
             [
              0,
              "#0d0887"
             ],
             [
              0.1111111111111111,
              "#46039f"
             ],
             [
              0.2222222222222222,
              "#7201a8"
             ],
             [
              0.3333333333333333,
              "#9c179e"
             ],
             [
              0.4444444444444444,
              "#bd3786"
             ],
             [
              0.5555555555555556,
              "#d8576b"
             ],
             [
              0.6666666666666666,
              "#ed7953"
             ],
             [
              0.7777777777777778,
              "#fb9f3a"
             ],
             [
              0.8888888888888888,
              "#fdca26"
             ],
             [
              1,
              "#f0f921"
             ]
            ],
            "type": "surface"
           }
          ],
          "table": [
           {
            "cells": {
             "fill": {
              "color": "#EBF0F8"
             },
             "line": {
              "color": "white"
             }
            },
            "header": {
             "fill": {
              "color": "#C8D4E3"
             },
             "line": {
              "color": "white"
             }
            },
            "type": "table"
           }
          ]
         },
         "layout": {
          "annotationdefaults": {
           "arrowcolor": "#2a3f5f",
           "arrowhead": 0,
           "arrowwidth": 1
          },
          "autotypenumbers": "strict",
          "coloraxis": {
           "colorbar": {
            "outlinewidth": 0,
            "ticks": ""
           }
          },
          "colorscale": {
           "diverging": [
            [
             0,
             "#8e0152"
            ],
            [
             0.1,
             "#c51b7d"
            ],
            [
             0.2,
             "#de77ae"
            ],
            [
             0.3,
             "#f1b6da"
            ],
            [
             0.4,
             "#fde0ef"
            ],
            [
             0.5,
             "#f7f7f7"
            ],
            [
             0.6,
             "#e6f5d0"
            ],
            [
             0.7,
             "#b8e186"
            ],
            [
             0.8,
             "#7fbc41"
            ],
            [
             0.9,
             "#4d9221"
            ],
            [
             1,
             "#276419"
            ]
           ],
           "sequential": [
            [
             0,
             "#0d0887"
            ],
            [
             0.1111111111111111,
             "#46039f"
            ],
            [
             0.2222222222222222,
             "#7201a8"
            ],
            [
             0.3333333333333333,
             "#9c179e"
            ],
            [
             0.4444444444444444,
             "#bd3786"
            ],
            [
             0.5555555555555556,
             "#d8576b"
            ],
            [
             0.6666666666666666,
             "#ed7953"
            ],
            [
             0.7777777777777778,
             "#fb9f3a"
            ],
            [
             0.8888888888888888,
             "#fdca26"
            ],
            [
             1,
             "#f0f921"
            ]
           ],
           "sequentialminus": [
            [
             0,
             "#0d0887"
            ],
            [
             0.1111111111111111,
             "#46039f"
            ],
            [
             0.2222222222222222,
             "#7201a8"
            ],
            [
             0.3333333333333333,
             "#9c179e"
            ],
            [
             0.4444444444444444,
             "#bd3786"
            ],
            [
             0.5555555555555556,
             "#d8576b"
            ],
            [
             0.6666666666666666,
             "#ed7953"
            ],
            [
             0.7777777777777778,
             "#fb9f3a"
            ],
            [
             0.8888888888888888,
             "#fdca26"
            ],
            [
             1,
             "#f0f921"
            ]
           ]
          },
          "colorway": [
           "#636efa",
           "#EF553B",
           "#00cc96",
           "#ab63fa",
           "#FFA15A",
           "#19d3f3",
           "#FF6692",
           "#B6E880",
           "#FF97FF",
           "#FECB52"
          ],
          "font": {
           "color": "#2a3f5f"
          },
          "geo": {
           "bgcolor": "white",
           "lakecolor": "white",
           "landcolor": "#E5ECF6",
           "showlakes": true,
           "showland": true,
           "subunitcolor": "white"
          },
          "hoverlabel": {
           "align": "left"
          },
          "hovermode": "closest",
          "mapbox": {
           "style": "light"
          },
          "paper_bgcolor": "white",
          "plot_bgcolor": "#E5ECF6",
          "polar": {
           "angularaxis": {
            "gridcolor": "white",
            "linecolor": "white",
            "ticks": ""
           },
           "bgcolor": "#E5ECF6",
           "radialaxis": {
            "gridcolor": "white",
            "linecolor": "white",
            "ticks": ""
           }
          },
          "scene": {
           "xaxis": {
            "backgroundcolor": "#E5ECF6",
            "gridcolor": "white",
            "gridwidth": 2,
            "linecolor": "white",
            "showbackground": true,
            "ticks": "",
            "zerolinecolor": "white"
           },
           "yaxis": {
            "backgroundcolor": "#E5ECF6",
            "gridcolor": "white",
            "gridwidth": 2,
            "linecolor": "white",
            "showbackground": true,
            "ticks": "",
            "zerolinecolor": "white"
           },
           "zaxis": {
            "backgroundcolor": "#E5ECF6",
            "gridcolor": "white",
            "gridwidth": 2,
            "linecolor": "white",
            "showbackground": true,
            "ticks": "",
            "zerolinecolor": "white"
           }
          },
          "shapedefaults": {
           "line": {
            "color": "#2a3f5f"
           }
          },
          "ternary": {
           "aaxis": {
            "gridcolor": "white",
            "linecolor": "white",
            "ticks": ""
           },
           "baxis": {
            "gridcolor": "white",
            "linecolor": "white",
            "ticks": ""
           },
           "bgcolor": "#E5ECF6",
           "caxis": {
            "gridcolor": "white",
            "linecolor": "white",
            "ticks": ""
           }
          },
          "title": {
           "x": 0.05
          },
          "xaxis": {
           "automargin": true,
           "gridcolor": "white",
           "linecolor": "white",
           "ticks": "",
           "title": {
            "standoff": 15
           },
           "zerolinecolor": "white",
           "zerolinewidth": 2
          },
          "yaxis": {
           "automargin": true,
           "gridcolor": "white",
           "linecolor": "white",
           "ticks": "",
           "title": {
            "standoff": 15
           },
           "zerolinecolor": "white",
           "zerolinewidth": 2
          }
         }
        },
        "title": {
         "text": "features"
        },
        "xaxis": {
         "anchor": "y",
         "domain": [
          0,
          1
         ],
         "title": {
          "text": "longitude"
         }
        },
        "yaxis": {
         "anchor": "x",
         "domain": [
          0,
          1
         ],
         "title": {
          "text": "latitude"
         }
        }
       }
      }
     },
     "metadata": {},
     "output_type": "display_data"
    }
   ],
   "source": [
    "px.scatter(featuresToDataFrame(features), \"longitude\", \"latitude\", hover_name = \"name\", title = \"features\")"
   ]
  }
 ],
 "metadata": {
  "kernelspec": {
   "display_name": ".venv",
   "language": "python",
   "name": "python3"
  },
  "language_info": {
   "codemirror_mode": {
    "name": "ipython",
    "version": 3
   },
   "file_extension": ".py",
   "mimetype": "text/x-python",
   "name": "python",
   "nbconvert_exporter": "python",
   "pygments_lexer": "ipython3",
   "version": "3.12.3"
  }
 },
 "nbformat": 4,
 "nbformat_minor": 2
}
